{
 "cells": [
  {
   "cell_type": "markdown",
   "metadata": {},
   "source": [
    "# Tests de funcionalidad de la API de series de tiempo"
   ]
  },
  {
   "cell_type": "code",
   "execution_count": 114,
   "metadata": {},
   "outputs": [],
   "source": [
    "import pandas as pd\n",
    "import numpy as np\n",
    "import requests\n",
    "from io import StringIO"
   ]
  },
  {
   "cell_type": "markdown",
   "metadata": {},
   "source": [
    "## Variables"
   ]
  },
  {
   "cell_type": "code",
   "execution_count": 2,
   "metadata": {},
   "outputs": [],
   "source": [
    "BASE_URL = 'http://186.33.215.34/'\n",
    "METADATA_URL = 'http://infra.datos.gob.ar/catalog/modernizacion/dataset/1/distribution/1.2/download/series-tiempo-metadatos.csv'\n",
    "ENDPOINT_URL = BASE_URL + 'series/api/series/'"
   ]
  },
  {
   "cell_type": "code",
   "execution_count": 3,
   "metadata": {},
   "outputs": [
    {
     "data": {
      "text/html": [
       "<div>\n",
       "<style scoped>\n",
       "    .dataframe tbody tr th:only-of-type {\n",
       "        vertical-align: middle;\n",
       "    }\n",
       "\n",
       "    .dataframe tbody tr th {\n",
       "        vertical-align: top;\n",
       "    }\n",
       "\n",
       "    .dataframe thead th {\n",
       "        text-align: right;\n",
       "    }\n",
       "</style>\n",
       "<table border=\"1\" class=\"dataframe\">\n",
       "  <thead>\n",
       "    <tr style=\"text-align: right;\">\n",
       "      <th></th>\n",
       "      <th>catalogo_id</th>\n",
       "      <th>dataset_id</th>\n",
       "      <th>distribucion_id</th>\n",
       "      <th>serie_id</th>\n",
       "      <th>indice_tiempo_frecuencia</th>\n",
       "      <th>serie_titulo</th>\n",
       "      <th>serie_unidades</th>\n",
       "      <th>serie_descripcion</th>\n",
       "      <th>distribucion_titulo</th>\n",
       "      <th>distribucion_descripcion</th>\n",
       "      <th>...</th>\n",
       "      <th>dataset_descripcion</th>\n",
       "      <th>dataset_tema</th>\n",
       "      <th>serie_indice_inicio</th>\n",
       "      <th>serie_indice_final</th>\n",
       "      <th>serie_valores_cant</th>\n",
       "      <th>serie_dias_no_cubiertos</th>\n",
       "      <th>serie_actualizada</th>\n",
       "      <th>serie_valor_ultimo</th>\n",
       "      <th>serie_valor_anterior</th>\n",
       "      <th>serie_var_pct_anterior</th>\n",
       "    </tr>\n",
       "  </thead>\n",
       "  <tbody>\n",
       "    <tr>\n",
       "      <th>20190</th>\n",
       "      <td>sspm</td>\n",
       "      <td>99</td>\n",
       "      <td>99.3</td>\n",
       "      <td>99.3_ING_2008_0_17</td>\n",
       "      <td>R/P1M</td>\n",
       "      <td>ipc_nivel_general</td>\n",
       "      <td>Índice abr-2008=100</td>\n",
       "      <td>Índice de precios al consumidor nivel general....</td>\n",
       "      <td>Índice de Precios al Consumidor, por grupos. D...</td>\n",
       "      <td>Índice de Precios al Consumidor. Apertura por ...</td>\n",
       "      <td>...</td>\n",
       "      <td>Índice de Precios al Consumidor. Apertura por ...</td>\n",
       "      <td>Precios</td>\n",
       "      <td>2006-12-01</td>\n",
       "      <td>2013-12-01</td>\n",
       "      <td>85</td>\n",
       "      <td>1630</td>\n",
       "      <td>False</td>\n",
       "      <td>166.840000</td>\n",
       "      <td>164.510000</td>\n",
       "      <td>0.014163</td>\n",
       "    </tr>\n",
       "    <tr>\n",
       "      <th>20191</th>\n",
       "      <td>sspm</td>\n",
       "      <td>99</td>\n",
       "      <td>99.3</td>\n",
       "      <td>99.3_IR_2008_0_13</td>\n",
       "      <td>R/P1M</td>\n",
       "      <td>ipc_regulados</td>\n",
       "      <td>Índice abr-2008=100</td>\n",
       "      <td>Índice de precios al consumidor regulados. Val...</td>\n",
       "      <td>Índice de Precios al Consumidor, por grupos. D...</td>\n",
       "      <td>Índice de Precios al Consumidor. Apertura por ...</td>\n",
       "      <td>...</td>\n",
       "      <td>Índice de Precios al Consumidor. Apertura por ...</td>\n",
       "      <td>Precios</td>\n",
       "      <td>2006-12-01</td>\n",
       "      <td>2013-12-01</td>\n",
       "      <td>85</td>\n",
       "      <td>1630</td>\n",
       "      <td>False</td>\n",
       "      <td>161.040000</td>\n",
       "      <td>159.290000</td>\n",
       "      <td>0.010986</td>\n",
       "    </tr>\n",
       "    <tr>\n",
       "      <th>20192</th>\n",
       "      <td>sspm</td>\n",
       "      <td>99</td>\n",
       "      <td>99.3</td>\n",
       "      <td>99.3_IR_2008_0_9</td>\n",
       "      <td>R/P1M</td>\n",
       "      <td>ipc_resto</td>\n",
       "      <td>Índice abr-2008=100</td>\n",
       "      <td>Índice de precios al consumidor IPC resto. Val...</td>\n",
       "      <td>Índice de Precios al Consumidor, por grupos. D...</td>\n",
       "      <td>Índice de Precios al Consumidor. Apertura por ...</td>\n",
       "      <td>...</td>\n",
       "      <td>Índice de Precios al Consumidor. Apertura por ...</td>\n",
       "      <td>Precios</td>\n",
       "      <td>2006-12-01</td>\n",
       "      <td>2013-12-01</td>\n",
       "      <td>85</td>\n",
       "      <td>1630</td>\n",
       "      <td>False</td>\n",
       "      <td>161.740000</td>\n",
       "      <td>159.250000</td>\n",
       "      <td>0.015636</td>\n",
       "    </tr>\n",
       "    <tr>\n",
       "      <th>20193</th>\n",
       "      <td>sspm</td>\n",
       "      <td>99</td>\n",
       "      <td>99.3</td>\n",
       "      <td>99.3_PREIR_2008_0_40</td>\n",
       "      <td>R/P1M</td>\n",
       "      <td>precios_relativos_estacionales_ipc_resto</td>\n",
       "      <td>Índice abr-2008=100</td>\n",
       "      <td>Índice de precios al consumidor precios relati...</td>\n",
       "      <td>Índice de Precios al Consumidor, por grupos. D...</td>\n",
       "      <td>Índice de Precios al Consumidor. Apertura por ...</td>\n",
       "      <td>...</td>\n",
       "      <td>Índice de Precios al Consumidor. Apertura por ...</td>\n",
       "      <td>Precios</td>\n",
       "      <td>2006-12-01</td>\n",
       "      <td>2013-12-01</td>\n",
       "      <td>85</td>\n",
       "      <td>1630</td>\n",
       "      <td>False</td>\n",
       "      <td>137.591196</td>\n",
       "      <td>138.411303</td>\n",
       "      <td>-0.005925</td>\n",
       "    </tr>\n",
       "    <tr>\n",
       "      <th>20194</th>\n",
       "      <td>sspm</td>\n",
       "      <td>99</td>\n",
       "      <td>99.3</td>\n",
       "      <td>99.3_PRRIR_2008_0_37</td>\n",
       "      <td>R/P1M</td>\n",
       "      <td>precios_relativos_regulados_ipc_resto</td>\n",
       "      <td>Índice abr-2008=100</td>\n",
       "      <td>Índice de precios al consumidor precios relati...</td>\n",
       "      <td>Índice de Precios al Consumidor, por grupos. D...</td>\n",
       "      <td>Índice de Precios al Consumidor. Apertura por ...</td>\n",
       "      <td>...</td>\n",
       "      <td>Índice de Precios al Consumidor. Apertura por ...</td>\n",
       "      <td>Precios</td>\n",
       "      <td>2006-12-01</td>\n",
       "      <td>2013-12-01</td>\n",
       "      <td>85</td>\n",
       "      <td>1630</td>\n",
       "      <td>False</td>\n",
       "      <td>99.567207</td>\n",
       "      <td>100.025118</td>\n",
       "      <td>-0.004578</td>\n",
       "    </tr>\n",
       "  </tbody>\n",
       "</table>\n",
       "<p>5 rows × 24 columns</p>\n",
       "</div>"
      ],
      "text/plain": [
       "      catalogo_id  dataset_id  distribucion_id              serie_id  \\\n",
       "20190        sspm          99             99.3    99.3_ING_2008_0_17   \n",
       "20191        sspm          99             99.3     99.3_IR_2008_0_13   \n",
       "20192        sspm          99             99.3      99.3_IR_2008_0_9   \n",
       "20193        sspm          99             99.3  99.3_PREIR_2008_0_40   \n",
       "20194        sspm          99             99.3  99.3_PRRIR_2008_0_37   \n",
       "\n",
       "      indice_tiempo_frecuencia                              serie_titulo  \\\n",
       "20190                    R/P1M                         ipc_nivel_general   \n",
       "20191                    R/P1M                             ipc_regulados   \n",
       "20192                    R/P1M                                 ipc_resto   \n",
       "20193                    R/P1M  precios_relativos_estacionales_ipc_resto   \n",
       "20194                    R/P1M     precios_relativos_regulados_ipc_resto   \n",
       "\n",
       "            serie_unidades                                  serie_descripcion  \\\n",
       "20190  Índice abr-2008=100  Índice de precios al consumidor nivel general....   \n",
       "20191  Índice abr-2008=100  Índice de precios al consumidor regulados. Val...   \n",
       "20192  Índice abr-2008=100  Índice de precios al consumidor IPC resto. Val...   \n",
       "20193  Índice abr-2008=100  Índice de precios al consumidor precios relati...   \n",
       "20194  Índice abr-2008=100  Índice de precios al consumidor precios relati...   \n",
       "\n",
       "                                     distribucion_titulo  \\\n",
       "20190  Índice de Precios al Consumidor, por grupos. D...   \n",
       "20191  Índice de Precios al Consumidor, por grupos. D...   \n",
       "20192  Índice de Precios al Consumidor, por grupos. D...   \n",
       "20193  Índice de Precios al Consumidor, por grupos. D...   \n",
       "20194  Índice de Precios al Consumidor, por grupos. D...   \n",
       "\n",
       "                                distribucion_descripcion  \\\n",
       "20190  Índice de Precios al Consumidor. Apertura por ...   \n",
       "20191  Índice de Precios al Consumidor. Apertura por ...   \n",
       "20192  Índice de Precios al Consumidor. Apertura por ...   \n",
       "20193  Índice de Precios al Consumidor. Apertura por ...   \n",
       "20194  Índice de Precios al Consumidor. Apertura por ...   \n",
       "\n",
       "                ...            \\\n",
       "20190           ...             \n",
       "20191           ...             \n",
       "20192           ...             \n",
       "20193           ...             \n",
       "20194           ...             \n",
       "\n",
       "                                     dataset_descripcion dataset_tema  \\\n",
       "20190  Índice de Precios al Consumidor. Apertura por ...      Precios   \n",
       "20191  Índice de Precios al Consumidor. Apertura por ...      Precios   \n",
       "20192  Índice de Precios al Consumidor. Apertura por ...      Precios   \n",
       "20193  Índice de Precios al Consumidor. Apertura por ...      Precios   \n",
       "20194  Índice de Precios al Consumidor. Apertura por ...      Precios   \n",
       "\n",
       "      serie_indice_inicio serie_indice_final serie_valores_cant  \\\n",
       "20190          2006-12-01         2013-12-01                 85   \n",
       "20191          2006-12-01         2013-12-01                 85   \n",
       "20192          2006-12-01         2013-12-01                 85   \n",
       "20193          2006-12-01         2013-12-01                 85   \n",
       "20194          2006-12-01         2013-12-01                 85   \n",
       "\n",
       "      serie_dias_no_cubiertos serie_actualizada serie_valor_ultimo  \\\n",
       "20190                    1630             False         166.840000   \n",
       "20191                    1630             False         161.040000   \n",
       "20192                    1630             False         161.740000   \n",
       "20193                    1630             False         137.591196   \n",
       "20194                    1630             False          99.567207   \n",
       "\n",
       "       serie_valor_anterior  serie_var_pct_anterior  \n",
       "20190            164.510000                0.014163  \n",
       "20191            159.290000                0.010986  \n",
       "20192            159.250000                0.015636  \n",
       "20193            138.411303               -0.005925  \n",
       "20194            100.025118               -0.004578  \n",
       "\n",
       "[5 rows x 24 columns]"
      ]
     },
     "execution_count": 3,
     "metadata": {},
     "output_type": "execute_result"
    }
   ],
   "source": [
    "series_metadata = pd.read_csv(METADATA_URL)\n",
    "series_metadata.tail(5)"
   ]
  },
  {
   "cell_type": "code",
   "execution_count": 4,
   "metadata": {
    "scrolled": true
   },
   "outputs": [
    {
     "data": {
      "text/plain": [
       "20195"
      ]
     },
     "execution_count": 4,
     "metadata": {},
     "output_type": "execute_result"
    }
   ],
   "source": [
    "series_metadata.serie_id.count()"
   ]
  },
  {
   "cell_type": "markdown",
   "metadata": {},
   "source": [
    "## Chequeo de todas las series \n",
    "\n",
    "Le pegamos al endpoint para todas las series y verificamos que la API devuelve una respuesta satisfactoria (status code 200). Contamos la cantidad de casos satisfactorios (True) y no (False)"
   ]
  },
  {
   "cell_type": "code",
   "execution_count": 5,
   "metadata": {},
   "outputs": [],
   "source": [
    "def api_series_head(serie_id):\n",
    "    return requests.head(ENDPOINT_URL, params={'ids': serie_id}).status_code == 200"
   ]
  },
  {
   "cell_type": "markdown",
   "metadata": {},
   "source": [
    "### Cantidad de respuestas válidas"
   ]
  },
  {
   "cell_type": "code",
   "execution_count": 7,
   "metadata": {
    "scrolled": false
   },
   "outputs": [
    {
     "data": {
      "text/plain": [
       "True    10\n",
       "Name: serie_id, dtype: int64"
      ]
     },
     "execution_count": 7,
     "metadata": {},
     "output_type": "execute_result"
    }
   ],
   "source": [
    "valid_responses = series_metadata.serie_id[:10].apply(api_series_head)\n",
    "valid_responses.value_counts()"
   ]
  },
  {
   "cell_type": "markdown",
   "metadata": {},
   "source": [
    "### En porcentajes"
   ]
  },
  {
   "cell_type": "code",
   "execution_count": 9,
   "metadata": {},
   "outputs": [
    {
     "data": {
      "text/plain": [
       "True    1.0\n",
       "Name: serie_id, dtype: float64"
      ]
     },
     "execution_count": 9,
     "metadata": {},
     "output_type": "execute_result"
    }
   ],
   "source": [
    "valid_responses.value_counts().apply(lambda x: x/len(valid_responses))"
   ]
  },
  {
   "cell_type": "markdown",
   "metadata": {},
   "source": [
    "## Chequeo de modos de representación"
   ]
  },
  {
   "cell_type": "code",
   "execution_count": 156,
   "metadata": {},
   "outputs": [],
   "source": [
    "def api_call(serie, limit=1000, **kwargs):\n",
    "    call_params = {'ids': serie, 'format': 'csv', 'limit': limit}\n",
    "    call_params.update(kwargs)\n",
    "    csv = StringIO(requests.get(ENDPOINT_URL, params=call_params).content.decode('utf8'))\n",
    "    api_csv = pd.read_csv(csv)\n",
    "\n",
    "    return api_csv\n",
    "\n",
    "def get_source_csv(serie):\n",
    "    response = requests.get(ENDPOINT_URL, params={'ids': serie, 'metadata': 'only'}).json()\n",
    "    distribution_url = response['meta'][1]['distribution']['downloadURL']\n",
    "    title = response['meta'][1]['field']['title']\n",
    "    orig_csv = pd.read_csv(distribution_url)[['indice_tiempo', title]]\n",
    "\n",
    "    return orig_csv, title"
   ]
  },
  {
   "cell_type": "code",
   "execution_count": 203,
   "metadata": {
    "scrolled": true
   },
   "outputs": [
    {
     "data": {
      "text/plain": [
       "'142.2_CREDI_2001_T_24'"
      ]
     },
     "execution_count": 203,
     "metadata": {},
     "output_type": "execute_result"
    }
   ],
   "source": [
    "serie = series_metadata.serie_id.sample(1).values[0]\n",
    "serie"
   ]
  },
  {
   "cell_type": "markdown",
   "metadata": {},
   "source": [
    "### Serie original"
   ]
  },
  {
   "cell_type": "code",
   "execution_count": 164,
   "metadata": {
    "scrolled": true
   },
   "outputs": [],
   "source": [
    "orig_csv, title = get_source_csv(serie)"
   ]
  },
  {
   "cell_type": "markdown",
   "metadata": {},
   "source": [
    "### Serie de la API: valor original"
   ]
  },
  {
   "cell_type": "code",
   "execution_count": 165,
   "metadata": {},
   "outputs": [
    {
     "data": {
      "text/html": [
       "<div>\n",
       "<style scoped>\n",
       "    .dataframe tbody tr th:only-of-type {\n",
       "        vertical-align: middle;\n",
       "    }\n",
       "\n",
       "    .dataframe tbody tr th {\n",
       "        vertical-align: top;\n",
       "    }\n",
       "\n",
       "    .dataframe thead th {\n",
       "        text-align: right;\n",
       "    }\n",
       "</style>\n",
       "<table border=\"1\" class=\"dataframe\">\n",
       "  <thead>\n",
       "    <tr style=\"text-align: right;\">\n",
       "      <th></th>\n",
       "      <th>indice_tiempo</th>\n",
       "      <th>nf18_yield</th>\n",
       "    </tr>\n",
       "  </thead>\n",
       "  <tbody>\n",
       "    <tr>\n",
       "      <th>0</th>\n",
       "      <td>2013-01-02</td>\n",
       "      <td>0.102487</td>\n",
       "    </tr>\n",
       "  </tbody>\n",
       "</table>\n",
       "</div>"
      ],
      "text/plain": [
       "  indice_tiempo  nf18_yield\n",
       "0    2013-01-02    0.102487"
      ]
     },
     "execution_count": 165,
     "metadata": {},
     "output_type": "execute_result"
    }
   ],
   "source": [
    "api_csv = api_call(serie)\n",
    "\n",
    "api_csv.head(1)"
   ]
  },
  {
   "cell_type": "code",
   "execution_count": 167,
   "metadata": {
    "scrolled": true
   },
   "outputs": [
    {
     "data": {
      "text/plain": [
       "True    1000\n",
       "dtype: int64"
      ]
     },
     "execution_count": 167,
     "metadata": {},
     "output_type": "execute_result"
    }
   ],
   "source": [
    "orig_csv = orig_csv[:len(api_csv)]\n",
    "equality_check = np.isclose(orig_csv[title], api_csv[title], equal_nan=True)\n",
    "equal_df = pd.Series(equality_check)\n",
    "\n",
    "equal_df.value_counts()"
   ]
  },
  {
   "cell_type": "markdown",
   "metadata": {},
   "source": [
    "### Cambio absoluto"
   ]
  },
  {
   "cell_type": "code",
   "execution_count": 209,
   "metadata": {},
   "outputs": [],
   "source": [
    "api_csv = api_call(serie, representation_mode='change')"
   ]
  },
  {
   "cell_type": "code",
   "execution_count": 210,
   "metadata": {},
   "outputs": [],
   "source": [
    "orig_csv_change, title = get_source_csv(serie)\n",
    "orig_csv_change[title] = orig_csv_change[title].diff(1)\n",
    "orig_csv_change = orig_csv_change[:len(api_csv)]"
   ]
  },
  {
   "cell_type": "code",
   "execution_count": 211,
   "metadata": {},
   "outputs": [
    {
     "data": {
      "text/plain": [
       "True    84\n",
       "dtype: int64"
      ]
     },
     "execution_count": 211,
     "metadata": {},
     "output_type": "execute_result"
    }
   ],
   "source": [
    "equality_check = np.isclose(orig_csv_change[title], api_csv[title], equal_nan=True)\n",
    "equal_df = pd.Series(equality_check)\n",
    "\n",
    "equal_df.value_counts()"
   ]
  },
  {
   "cell_type": "markdown",
   "metadata": {},
   "source": [
    "### Cambio porcentual"
   ]
  },
  {
   "cell_type": "code",
   "execution_count": 206,
   "metadata": {},
   "outputs": [],
   "source": [
    "api_csv = api_call(serie, representation_mode='percent_change')"
   ]
  },
  {
   "cell_type": "code",
   "execution_count": 207,
   "metadata": {},
   "outputs": [],
   "source": [
    "orig_csv_pct_change, title = get_source_csv(serie)\n",
    "orig_csv_pct_change[title] = orig_csv_pct_change[title].pct_change()\n",
    "orig_csv_pct_change = orig_csv_pct_change[:len(api_csv)]"
   ]
  },
  {
   "cell_type": "code",
   "execution_count": 208,
   "metadata": {},
   "outputs": [
    {
     "data": {
      "text/plain": [
       "True    84\n",
       "dtype: int64"
      ]
     },
     "execution_count": 208,
     "metadata": {},
     "output_type": "execute_result"
    }
   ],
   "source": [
    "equality_check = np.isclose(orig_csv_pct_change[title], api_csv[title], equal_nan=True)\n",
    "equal_df = pd.Series(equality_check)\n",
    "\n",
    "equal_df.value_counts()"
   ]
  }
 ],
 "metadata": {
  "kernelspec": {
   "display_name": "Python 3",
   "language": "python",
   "name": "python3"
  },
  "language_info": {
   "codemirror_mode": {
    "name": "ipython",
    "version": 3
   },
   "file_extension": ".py",
   "mimetype": "text/x-python",
   "name": "python",
   "nbconvert_exporter": "python",
   "pygments_lexer": "ipython3",
   "version": "3.6.5"
  }
 },
 "nbformat": 4,
 "nbformat_minor": 2
}
