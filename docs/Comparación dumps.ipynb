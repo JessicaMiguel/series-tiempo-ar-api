{
 "cells": [
  {
   "cell_type": "code",
   "execution_count": 1,
   "metadata": {},
   "outputs": [],
   "source": [
    "import pandas as pd"
   ]
  },
  {
   "cell_type": "code",
   "execution_count": 2,
   "metadata": {},
   "outputs": [
    {
     "data": {
      "text/html": [
       "<div>\n",
       "<style scoped>\n",
       "    .dataframe tbody tr th:only-of-type {\n",
       "        vertical-align: middle;\n",
       "    }\n",
       "\n",
       "    .dataframe tbody tr th {\n",
       "        vertical-align: top;\n",
       "    }\n",
       "\n",
       "    .dataframe thead th {\n",
       "        text-align: right;\n",
       "    }\n",
       "</style>\n",
       "<table border=\"1\" class=\"dataframe\">\n",
       "  <thead>\n",
       "    <tr style=\"text-align: right;\">\n",
       "      <th></th>\n",
       "      <th>catalogo_id</th>\n",
       "      <th>dataset_id</th>\n",
       "      <th>distribucion_id</th>\n",
       "      <th>serie_id</th>\n",
       "      <th>indice_tiempo</th>\n",
       "      <th>indice_tiempo_frecuencia</th>\n",
       "      <th>valor</th>\n",
       "      <th>serie_titulo</th>\n",
       "      <th>serie_unidades</th>\n",
       "      <th>serie_descripcion</th>\n",
       "      <th>distribucion_descripcion</th>\n",
       "      <th>dataset_tema</th>\n",
       "      <th>dataset_responsable</th>\n",
       "      <th>dataset_fuente</th>\n",
       "      <th>dataset_titulo</th>\n",
       "    </tr>\n",
       "  </thead>\n",
       "  <tbody>\n",
       "    <tr>\n",
       "      <th>528813</th>\n",
       "      <td>sspm</td>\n",
       "      <td>143</td>\n",
       "      <td>143.2</td>\n",
       "      <td>143.2_NO_PR_2004_A_21</td>\n",
       "      <td>2018-04-01</td>\n",
       "      <td>R/P3M</td>\n",
       "      <td>155.17654</td>\n",
       "      <td>indice_serie_original</td>\n",
       "      <td>Índice 2004=100</td>\n",
       "      <td>EMAE. Base 2004</td>\n",
       "      <td>Índice original Estimador Mensual de Actividad...</td>\n",
       "      <td>Actividad</td>\n",
       "      <td>Subsecretaría de Programación Macroeconómica.</td>\n",
       "      <td>Instituto Nacional de Estadística y Censos (IN...</td>\n",
       "      <td>Estimador Mensual de Actividad Económica (EMAE...</td>\n",
       "    </tr>\n",
       "  </tbody>\n",
       "</table>\n",
       "</div>"
      ],
      "text/plain": [
       "       catalogo_id  dataset_id  distribucion_id               serie_id  \\\n",
       "528813        sspm         143            143.2  143.2_NO_PR_2004_A_21   \n",
       "\n",
       "       indice_tiempo indice_tiempo_frecuencia      valor  \\\n",
       "528813    2018-04-01                    R/P3M  155.17654   \n",
       "\n",
       "                 serie_titulo   serie_unidades serie_descripcion  \\\n",
       "528813  indice_serie_original  Índice 2004=100   EMAE. Base 2004   \n",
       "\n",
       "                                 distribucion_descripcion dataset_tema  \\\n",
       "528813  Índice original Estimador Mensual de Actividad...    Actividad   \n",
       "\n",
       "                                  dataset_responsable  \\\n",
       "528813  Subsecretaría de Programación Macroeconómica.   \n",
       "\n",
       "                                           dataset_fuente  \\\n",
       "528813  Instituto Nacional de Estadística y Censos (IN...   \n",
       "\n",
       "                                           dataset_titulo  \n",
       "528813  Estimador Mensual de Actividad Económica (EMAE...  "
      ]
     },
     "execution_count": 2,
     "metadata": {},
     "output_type": "execute_result"
    }
   ],
   "source": [
    "dump = pd.read_csv('series-tiempo.csv')\n",
    "dump.sample(1)"
   ]
  },
  {
   "cell_type": "code",
   "execution_count": 3,
   "metadata": {
    "scrolled": true
   },
   "outputs": [
    {
     "data": {
      "text/html": [
       "<div>\n",
       "<style scoped>\n",
       "    .dataframe tbody tr th:only-of-type {\n",
       "        vertical-align: middle;\n",
       "    }\n",
       "\n",
       "    .dataframe tbody tr th {\n",
       "        vertical-align: top;\n",
       "    }\n",
       "\n",
       "    .dataframe thead th {\n",
       "        text-align: right;\n",
       "    }\n",
       "</style>\n",
       "<table border=\"1\" class=\"dataframe\">\n",
       "  <thead>\n",
       "    <tr style=\"text-align: right;\">\n",
       "      <th></th>\n",
       "      <th>catalogo_id</th>\n",
       "      <th>dataset_id</th>\n",
       "      <th>distribucion_id</th>\n",
       "      <th>serie_id</th>\n",
       "      <th>indice_tiempo</th>\n",
       "      <th>indice_tiempo_frecuencia</th>\n",
       "      <th>valor</th>\n",
       "      <th>serie_titulo</th>\n",
       "      <th>serie_unidades</th>\n",
       "      <th>serie_descripcion</th>\n",
       "      <th>distribucion_descripcion</th>\n",
       "      <th>dataset_tema</th>\n",
       "      <th>dataset_responsable</th>\n",
       "      <th>dataset_fuente</th>\n",
       "      <th>dataset_titulo</th>\n",
       "    </tr>\n",
       "  </thead>\n",
       "  <tbody>\n",
       "    <tr>\n",
       "      <th>2517449</th>\n",
       "      <td>sspm</td>\n",
       "      <td>379</td>\n",
       "      <td>379.8</td>\n",
       "      <td>379.8_FTES_FIN_D014__30_36</td>\n",
       "      <td>2014-08-01</td>\n",
       "      <td>R/P1M</td>\n",
       "      <td>33302.2</td>\n",
       "      <td>ftes_fin_dis_inv_fin_2007_2014</td>\n",
       "      <td>Millones de pesos</td>\n",
       "      <td>Fuentes financieras disminucion de la inversió...</td>\n",
       "      <td>Esquema Ahorro - Inversión - Financiamiento. S...</td>\n",
       "      <td>Finanzas Públicas</td>\n",
       "      <td>Subsecretaría de Programación Macroeconómica.</td>\n",
       "      <td>Ministerio de Hacienda</td>\n",
       "      <td>Esquema Ahorro - Inversión - Financimmiento. S...</td>\n",
       "    </tr>\n",
       "  </tbody>\n",
       "</table>\n",
       "</div>"
      ],
      "text/plain": [
       "        catalogo_id  dataset_id  distribucion_id                    serie_id  \\\n",
       "2517449        sspm         379            379.8  379.8_FTES_FIN_D014__30_36   \n",
       "\n",
       "        indice_tiempo indice_tiempo_frecuencia    valor  \\\n",
       "2517449    2014-08-01                    R/P1M  33302.2   \n",
       "\n",
       "                           serie_titulo     serie_unidades  \\\n",
       "2517449  ftes_fin_dis_inv_fin_2007_2014  Millones de pesos   \n",
       "\n",
       "                                         serie_descripcion  \\\n",
       "2517449  Fuentes financieras disminucion de la inversió...   \n",
       "\n",
       "                                  distribucion_descripcion       dataset_tema  \\\n",
       "2517449  Esquema Ahorro - Inversión - Financiamiento. S...  Finanzas Públicas   \n",
       "\n",
       "                                   dataset_responsable  \\\n",
       "2517449  Subsecretaría de Programación Macroeconómica.   \n",
       "\n",
       "                 dataset_fuente  \\\n",
       "2517449  Ministerio de Hacienda   \n",
       "\n",
       "                                            dataset_titulo  \n",
       "2517449  Esquema Ahorro - Inversión - Financimmiento. S...  "
      ]
     },
     "execution_count": 3,
     "metadata": {},
     "output_type": "execute_result"
    }
   ],
   "source": [
    "api_dump = pd.read_csv('series-tiempo-csv-api.csv')\n",
    "dump.sample(1)"
   ]
  },
  {
   "cell_type": "code",
   "execution_count": 4,
   "metadata": {},
   "outputs": [
    {
     "name": "stdout",
     "output_type": "stream",
     "text": [
      "Valores en el dump ETL: 2833300\n",
      "Valores en el dump API: 2689759\n"
     ]
    }
   ],
   "source": [
    "print(f'Valores en el dump ETL: {len(dump)}')\n",
    "print(f'Valores en el dump API: {len(api_dump)}')"
   ]
  },
  {
   "cell_type": "code",
   "execution_count": 5,
   "metadata": {},
   "outputs": [
    {
     "name": "stdout",
     "output_type": "stream",
     "text": [
      "Distribuciones en dump ETL: 650\n",
      "Distribuciones en dump API: 685\n"
     ]
    }
   ],
   "source": [
    "print(f'Distribuciones en dump ETL: {len(dump.distribucion_id.unique())}')\n",
    "print(f'Distribuciones en dump API: {len(api_dump.distribucion_id.unique())}')"
   ]
  },
  {
   "cell_type": "code",
   "execution_count": 6,
   "metadata": {},
   "outputs": [
    {
     "data": {
      "text/plain": [
       "2674324"
      ]
     },
     "execution_count": 6,
     "metadata": {},
     "output_type": "execute_result"
    }
   ],
   "source": [
    "# A ver si saco las distribuciones que no están en ETL?\n",
    "\n",
    "etl_distributions = set(dump.distribucion_id)\n",
    "filtered_api_dump = api_dump.loc[api_dump.distribucion_id.isin(etl_distributions)]\n",
    "\n",
    "len(filtered_api_dump)"
   ]
  },
  {
   "cell_type": "code",
   "execution_count": 7,
   "metadata": {},
   "outputs": [
    {
     "data": {
      "text/plain": [
       "15435"
      ]
     },
     "execution_count": 7,
     "metadata": {},
     "output_type": "execute_result"
    }
   ],
   "source": [
    "api_only_distributions = set(api_dump.distribucion_id) - etl_distributions\n",
    "filtered_api_dump = api_dump.loc[api_dump.distribucion_id.isin(api_only_distributions)]\n",
    "\n",
    "len(filtered_api_dump)"
   ]
  },
  {
   "cell_type": "code",
   "execution_count": 8,
   "metadata": {},
   "outputs": [
    {
     "name": "stdout",
     "output_type": "stream",
     "text": [
      "Series en dump ETL: 20208\n",
      "Series en dump API: 20235\n"
     ]
    }
   ],
   "source": [
    "# Cantidad de series\n",
    "\n",
    "print(f'Series en dump ETL: {len(dump.serie_id.unique())}')\n",
    "print(f'Series en dump API: {len(api_dump.serie_id.unique())}')"
   ]
  },
  {
   "cell_type": "code",
   "execution_count": 57,
   "metadata": {},
   "outputs": [
    {
     "name": "stdout",
     "output_type": "stream",
     "text": [
      "Serie random 358.1_ACEITE_GIRNEL__21\n",
      "Valores en API: 9375\n",
      "Valores en ETL: 9375\n",
      "Fecha inicial API: 1993-01-04\n",
      "Fecha inicial ETL: 1993-01-04\n",
      "Fecha final API: 2018-09-04\n",
      "Fecha final ETL: 2018-09-04\n",
      "Todos los valores son iguales: True\n"
     ]
    }
   ],
   "source": [
    "# O sea, tenemos muchos más valores en series de API que en ETL.\n",
    "serie = api_dump.serie_id.sample(1).values[0]\n",
    "\n",
    "print(f'Serie random {serie}')\n",
    "print(f'Valores en API: {len(api_dump[api_dump.serie_id == serie])}')\n",
    "print(f'Valores en ETL: {len(dump[dump.serie_id == serie])}')\n",
    "\n",
    "api_serie = api_dump[api_dump.serie_id == serie]\n",
    "dump_serie = dump[dump.serie_id == serie]\n",
    "print(f'Fecha inicial API: {api_serie.indice_tiempo.values[0]}')\n",
    "print(f'Fecha inicial ETL: {dump_serie.indice_tiempo.values[0]}')\n",
    "print(f'Fecha final API: {api_serie.indice_tiempo.values[-1]}')\n",
    "print(f'Fecha final ETL: {dump_serie.indice_tiempo.values[-1]}')\n",
    "compares = []\n",
    "for i in range(min(len(api_serie), len(dump_serie))):\n",
    "    compares.append(all(api_serie.values[0] == dump_serie.values[0]))\n",
    "print(f\"Todos los valores son iguales: {all(compares)}\")"
   ]
  },
  {
   "cell_type": "code",
   "execution_count": 58,
   "metadata": {},
   "outputs": [],
   "source": [
    "valores_api = pd.read_csv('http://186.33.215.34/series/api/dump/series-tiempo-valores.csv')"
   ]
  },
  {
   "cell_type": "code",
   "execution_count": null,
   "metadata": {},
   "outputs": [],
   "source": [
    "valores_etl = pd.read_csv('http://infra.datos.gob.ar/catalog/modernizacion/dataset/1/distribution/1.3/download/series-tiempo-valores.csv')"
   ]
  }
 ],
 "metadata": {
  "kernelspec": {
   "display_name": "Python 3",
   "language": "python",
   "name": "python3"
  },
  "language_info": {
   "codemirror_mode": {
    "name": "ipython",
    "version": 3
   },
   "file_extension": ".py",
   "mimetype": "text/x-python",
   "name": "python",
   "nbconvert_exporter": "python",
   "pygments_lexer": "ipython3",
   "version": "3.6.6"
  }
 },
 "nbformat": 4,
 "nbformat_minor": 2
}
