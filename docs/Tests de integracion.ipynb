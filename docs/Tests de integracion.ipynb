{
 "cells": [
  {
   "cell_type": "markdown",
   "metadata": {},
   "source": [
    "# Tests de funcionalidad de la API de series de tiempo"
   ]
  },
  {
   "cell_type": "code",
   "execution_count": 4,
   "metadata": {},
   "outputs": [],
   "source": [
    "import os\n",
    "import pandas as pd\n",
    "import numpy as np\n",
    "import requests\n",
    "from io import StringIO"
   ]
  },
  {
   "cell_type": "markdown",
   "metadata": {},
   "source": [
    "## Variables\n",
    "\n",
    "**Obligatorio**: setear la variable de entorno API_URL o setear la variable BASE_URL al ambiente de la API que se quiere probar"
   ]
  },
  {
   "cell_type": "code",
   "execution_count": 5,
   "metadata": {},
   "outputs": [],
   "source": [
    "BASE_URL = os.environ['API_URL']\n",
    "METADATA_URL = 'http://infra.datos.gob.ar/catalog/modernizacion/dataset/1/distribution/1.2/download/series-tiempo-metadatos.csv'\n",
    "ENDPOINT_URL = BASE_URL + 'series/api/series/'"
   ]
  },
  {
   "cell_type": "code",
   "execution_count": 6,
   "metadata": {},
   "outputs": [
    {
     "data": {
      "text/html": [
       "<div>\n",
       "<style scoped>\n",
       "    .dataframe tbody tr th:only-of-type {\n",
       "        vertical-align: middle;\n",
       "    }\n",
       "\n",
       "    .dataframe tbody tr th {\n",
       "        vertical-align: top;\n",
       "    }\n",
       "\n",
       "    .dataframe thead th {\n",
       "        text-align: right;\n",
       "    }\n",
       "</style>\n",
       "<table border=\"1\" class=\"dataframe\">\n",
       "  <thead>\n",
       "    <tr style=\"text-align: right;\">\n",
       "      <th></th>\n",
       "      <th>catalogo_id</th>\n",
       "      <th>dataset_id</th>\n",
       "      <th>distribucion_id</th>\n",
       "      <th>serie_id</th>\n",
       "      <th>indice_tiempo_frecuencia</th>\n",
       "      <th>serie_titulo</th>\n",
       "      <th>serie_unidades</th>\n",
       "      <th>serie_descripcion</th>\n",
       "      <th>distribucion_titulo</th>\n",
       "      <th>distribucion_descripcion</th>\n",
       "      <th>...</th>\n",
       "      <th>dataset_descripcion</th>\n",
       "      <th>dataset_tema</th>\n",
       "      <th>serie_indice_inicio</th>\n",
       "      <th>serie_indice_final</th>\n",
       "      <th>serie_valores_cant</th>\n",
       "      <th>serie_dias_no_cubiertos</th>\n",
       "      <th>serie_actualizada</th>\n",
       "      <th>serie_valor_ultimo</th>\n",
       "      <th>serie_valor_anterior</th>\n",
       "      <th>serie_var_pct_anterior</th>\n",
       "    </tr>\n",
       "  </thead>\n",
       "  <tbody>\n",
       "    <tr>\n",
       "      <th>20188</th>\n",
       "      <td>sspm</td>\n",
       "      <td>99</td>\n",
       "      <td>99.3</td>\n",
       "      <td>99.3_ING_2008_0_17</td>\n",
       "      <td>R/P1M</td>\n",
       "      <td>ipc_nivel_general</td>\n",
       "      <td>Índice abr-2008=100</td>\n",
       "      <td>Índice de precios al consumidor nivel general....</td>\n",
       "      <td>Índice de Precios al Consumidor, por grupos. D...</td>\n",
       "      <td>Índice de Precios al Consumidor. Apertura por ...</td>\n",
       "      <td>...</td>\n",
       "      <td>Índice de Precios al Consumidor. Apertura por ...</td>\n",
       "      <td>Precios</td>\n",
       "      <td>2006-12-01</td>\n",
       "      <td>2013-12-01</td>\n",
       "      <td>85</td>\n",
       "      <td>1631</td>\n",
       "      <td>False</td>\n",
       "      <td>166.840000</td>\n",
       "      <td>164.510000</td>\n",
       "      <td>0.014163</td>\n",
       "    </tr>\n",
       "    <tr>\n",
       "      <th>20189</th>\n",
       "      <td>sspm</td>\n",
       "      <td>99</td>\n",
       "      <td>99.3</td>\n",
       "      <td>99.3_IR_2008_0_13</td>\n",
       "      <td>R/P1M</td>\n",
       "      <td>ipc_regulados</td>\n",
       "      <td>Índice abr-2008=100</td>\n",
       "      <td>Índice de precios al consumidor regulados. Val...</td>\n",
       "      <td>Índice de Precios al Consumidor, por grupos. D...</td>\n",
       "      <td>Índice de Precios al Consumidor. Apertura por ...</td>\n",
       "      <td>...</td>\n",
       "      <td>Índice de Precios al Consumidor. Apertura por ...</td>\n",
       "      <td>Precios</td>\n",
       "      <td>2006-12-01</td>\n",
       "      <td>2013-12-01</td>\n",
       "      <td>85</td>\n",
       "      <td>1631</td>\n",
       "      <td>False</td>\n",
       "      <td>161.040000</td>\n",
       "      <td>159.290000</td>\n",
       "      <td>0.010986</td>\n",
       "    </tr>\n",
       "    <tr>\n",
       "      <th>20190</th>\n",
       "      <td>sspm</td>\n",
       "      <td>99</td>\n",
       "      <td>99.3</td>\n",
       "      <td>99.3_IR_2008_0_9</td>\n",
       "      <td>R/P1M</td>\n",
       "      <td>ipc_resto</td>\n",
       "      <td>Índice abr-2008=100</td>\n",
       "      <td>Índice de precios al consumidor IPC resto. Val...</td>\n",
       "      <td>Índice de Precios al Consumidor, por grupos. D...</td>\n",
       "      <td>Índice de Precios al Consumidor. Apertura por ...</td>\n",
       "      <td>...</td>\n",
       "      <td>Índice de Precios al Consumidor. Apertura por ...</td>\n",
       "      <td>Precios</td>\n",
       "      <td>2006-12-01</td>\n",
       "      <td>2013-12-01</td>\n",
       "      <td>85</td>\n",
       "      <td>1631</td>\n",
       "      <td>False</td>\n",
       "      <td>161.740000</td>\n",
       "      <td>159.250000</td>\n",
       "      <td>0.015636</td>\n",
       "    </tr>\n",
       "    <tr>\n",
       "      <th>20191</th>\n",
       "      <td>sspm</td>\n",
       "      <td>99</td>\n",
       "      <td>99.3</td>\n",
       "      <td>99.3_PREIR_2008_0_40</td>\n",
       "      <td>R/P1M</td>\n",
       "      <td>precios_relativos_estacionales_ipc_resto</td>\n",
       "      <td>Índice abr-2008=100</td>\n",
       "      <td>Índice de precios al consumidor precios relati...</td>\n",
       "      <td>Índice de Precios al Consumidor, por grupos. D...</td>\n",
       "      <td>Índice de Precios al Consumidor. Apertura por ...</td>\n",
       "      <td>...</td>\n",
       "      <td>Índice de Precios al Consumidor. Apertura por ...</td>\n",
       "      <td>Precios</td>\n",
       "      <td>2006-12-01</td>\n",
       "      <td>2013-12-01</td>\n",
       "      <td>85</td>\n",
       "      <td>1631</td>\n",
       "      <td>False</td>\n",
       "      <td>137.591196</td>\n",
       "      <td>138.411303</td>\n",
       "      <td>-0.005925</td>\n",
       "    </tr>\n",
       "    <tr>\n",
       "      <th>20192</th>\n",
       "      <td>sspm</td>\n",
       "      <td>99</td>\n",
       "      <td>99.3</td>\n",
       "      <td>99.3_PRRIR_2008_0_37</td>\n",
       "      <td>R/P1M</td>\n",
       "      <td>precios_relativos_regulados_ipc_resto</td>\n",
       "      <td>Índice abr-2008=100</td>\n",
       "      <td>Índice de precios al consumidor precios relati...</td>\n",
       "      <td>Índice de Precios al Consumidor, por grupos. D...</td>\n",
       "      <td>Índice de Precios al Consumidor. Apertura por ...</td>\n",
       "      <td>...</td>\n",
       "      <td>Índice de Precios al Consumidor. Apertura por ...</td>\n",
       "      <td>Precios</td>\n",
       "      <td>2006-12-01</td>\n",
       "      <td>2013-12-01</td>\n",
       "      <td>85</td>\n",
       "      <td>1631</td>\n",
       "      <td>False</td>\n",
       "      <td>99.567207</td>\n",
       "      <td>100.025118</td>\n",
       "      <td>-0.004578</td>\n",
       "    </tr>\n",
       "  </tbody>\n",
       "</table>\n",
       "<p>5 rows × 24 columns</p>\n",
       "</div>"
      ],
      "text/plain": [
       "      catalogo_id  dataset_id  distribucion_id              serie_id  \\\n",
       "20188        sspm          99             99.3    99.3_ING_2008_0_17   \n",
       "20189        sspm          99             99.3     99.3_IR_2008_0_13   \n",
       "20190        sspm          99             99.3      99.3_IR_2008_0_9   \n",
       "20191        sspm          99             99.3  99.3_PREIR_2008_0_40   \n",
       "20192        sspm          99             99.3  99.3_PRRIR_2008_0_37   \n",
       "\n",
       "      indice_tiempo_frecuencia                              serie_titulo  \\\n",
       "20188                    R/P1M                         ipc_nivel_general   \n",
       "20189                    R/P1M                             ipc_regulados   \n",
       "20190                    R/P1M                                 ipc_resto   \n",
       "20191                    R/P1M  precios_relativos_estacionales_ipc_resto   \n",
       "20192                    R/P1M     precios_relativos_regulados_ipc_resto   \n",
       "\n",
       "            serie_unidades                                  serie_descripcion  \\\n",
       "20188  Índice abr-2008=100  Índice de precios al consumidor nivel general....   \n",
       "20189  Índice abr-2008=100  Índice de precios al consumidor regulados. Val...   \n",
       "20190  Índice abr-2008=100  Índice de precios al consumidor IPC resto. Val...   \n",
       "20191  Índice abr-2008=100  Índice de precios al consumidor precios relati...   \n",
       "20192  Índice abr-2008=100  Índice de precios al consumidor precios relati...   \n",
       "\n",
       "                                     distribucion_titulo  \\\n",
       "20188  Índice de Precios al Consumidor, por grupos. D...   \n",
       "20189  Índice de Precios al Consumidor, por grupos. D...   \n",
       "20190  Índice de Precios al Consumidor, por grupos. D...   \n",
       "20191  Índice de Precios al Consumidor, por grupos. D...   \n",
       "20192  Índice de Precios al Consumidor, por grupos. D...   \n",
       "\n",
       "                                distribucion_descripcion  \\\n",
       "20188  Índice de Precios al Consumidor. Apertura por ...   \n",
       "20189  Índice de Precios al Consumidor. Apertura por ...   \n",
       "20190  Índice de Precios al Consumidor. Apertura por ...   \n",
       "20191  Índice de Precios al Consumidor. Apertura por ...   \n",
       "20192  Índice de Precios al Consumidor. Apertura por ...   \n",
       "\n",
       "                ...            \\\n",
       "20188           ...             \n",
       "20189           ...             \n",
       "20190           ...             \n",
       "20191           ...             \n",
       "20192           ...             \n",
       "\n",
       "                                     dataset_descripcion dataset_tema  \\\n",
       "20188  Índice de Precios al Consumidor. Apertura por ...      Precios   \n",
       "20189  Índice de Precios al Consumidor. Apertura por ...      Precios   \n",
       "20190  Índice de Precios al Consumidor. Apertura por ...      Precios   \n",
       "20191  Índice de Precios al Consumidor. Apertura por ...      Precios   \n",
       "20192  Índice de Precios al Consumidor. Apertura por ...      Precios   \n",
       "\n",
       "      serie_indice_inicio serie_indice_final serie_valores_cant  \\\n",
       "20188          2006-12-01         2013-12-01                 85   \n",
       "20189          2006-12-01         2013-12-01                 85   \n",
       "20190          2006-12-01         2013-12-01                 85   \n",
       "20191          2006-12-01         2013-12-01                 85   \n",
       "20192          2006-12-01         2013-12-01                 85   \n",
       "\n",
       "      serie_dias_no_cubiertos serie_actualizada serie_valor_ultimo  \\\n",
       "20188                    1631             False         166.840000   \n",
       "20189                    1631             False         161.040000   \n",
       "20190                    1631             False         161.740000   \n",
       "20191                    1631             False         137.591196   \n",
       "20192                    1631             False          99.567207   \n",
       "\n",
       "       serie_valor_anterior  serie_var_pct_anterior  \n",
       "20188            164.510000                0.014163  \n",
       "20189            159.290000                0.010986  \n",
       "20190            159.250000                0.015636  \n",
       "20191            138.411303               -0.005925  \n",
       "20192            100.025118               -0.004578  \n",
       "\n",
       "[5 rows x 24 columns]"
      ]
     },
     "execution_count": 6,
     "metadata": {},
     "output_type": "execute_result"
    }
   ],
   "source": [
    "series_metadata = pd.read_csv(METADATA_URL)\n",
    "series_metadata.tail(5)"
   ]
  },
  {
   "cell_type": "code",
   "execution_count": 7,
   "metadata": {
    "scrolled": true
   },
   "outputs": [
    {
     "data": {
      "text/plain": [
       "20193"
      ]
     },
     "execution_count": 7,
     "metadata": {},
     "output_type": "execute_result"
    }
   ],
   "source": [
    "series_metadata.serie_id.count()"
   ]
  },
  {
   "cell_type": "markdown",
   "metadata": {},
   "source": [
    "## Chequeo de todas las series \n",
    "\n",
    "Le pegamos al endpoint para todas las series y verificamos que la API devuelve una respuesta satisfactoria (status code 200). Contamos la cantidad de casos satisfactorios (True) y no (False)"
   ]
  },
  {
   "cell_type": "code",
   "execution_count": 8,
   "metadata": {},
   "outputs": [],
   "source": [
    "def api_series_head(serie_id):\n",
    "    return requests.head(ENDPOINT_URL, params={'ids': serie_id}).status_code == 200"
   ]
  },
  {
   "cell_type": "markdown",
   "metadata": {},
   "source": [
    "### Cantidad de respuestas válidas"
   ]
  },
  {
   "cell_type": "code",
   "execution_count": 9,
   "metadata": {
    "scrolled": false
   },
   "outputs": [
    {
     "data": {
      "text/plain": [
       "True    10\n",
       "Name: serie_id, dtype: int64"
      ]
     },
     "execution_count": 9,
     "metadata": {},
     "output_type": "execute_result"
    }
   ],
   "source": [
    "valid_responses = series_metadata.serie_id.apply(api_series_head)\n",
    "valid_responses.value_counts()"
   ]
  },
  {
   "cell_type": "markdown",
   "metadata": {},
   "source": [
    "### En porcentajes"
   ]
  },
  {
   "cell_type": "code",
   "execution_count": 10,
   "metadata": {},
   "outputs": [
    {
     "data": {
      "text/plain": [
       "True    1.0\n",
       "Name: serie_id, dtype: float64"
      ]
     },
     "execution_count": 10,
     "metadata": {},
     "output_type": "execute_result"
    }
   ],
   "source": [
    "valid_responses.value_counts().apply(lambda x: x/len(valid_responses))"
   ]
  },
  {
   "cell_type": "markdown",
   "metadata": {},
   "source": [
    "## Chequeo de modos de representación"
   ]
  },
  {
   "cell_type": "code",
   "execution_count": 11,
   "metadata": {},
   "outputs": [],
   "source": [
    "def api_call(serie, limit=1000, **kwargs):\n",
    "    call_params = {'ids': serie, 'format': 'csv', 'limit': limit}\n",
    "    call_params.update(kwargs)\n",
    "    csv = StringIO(requests.get(ENDPOINT_URL, params=call_params).content.decode('utf8'))\n",
    "    api_csv = pd.read_csv(csv, parse_dates=['indice_tiempo'], index_col='indice_tiempo')\n",
    "\n",
    "    return api_csv\n",
    "\n",
    "def get_source_csv(serie):\n",
    "    response = requests.get(ENDPOINT_URL, params={'ids': serie, 'metadata': 'only'}).json()\n",
    "    distribution_url = response['meta'][1]['distribution']['downloadURL']\n",
    "    title = response['meta'][1]['field']['title']\n",
    "    orig_csv = pd.read_csv(distribution_url, parse_dates=['indice_tiempo'], index_col='indice_tiempo')\n",
    "\n",
    "    return orig_csv, title"
   ]
  },
  {
   "cell_type": "code",
   "execution_count": 12,
   "metadata": {
    "scrolled": true
   },
   "outputs": [
    {
     "data": {
      "text/plain": [
       "'334.1_BCOS_PRIV_DRO__55'"
      ]
     },
     "execution_count": 12,
     "metadata": {},
     "output_type": "execute_result"
    }
   ],
   "source": [
    "serie = series_metadata.serie_id.sample(1)\n",
    "\n",
    "serie_idx = serie.index[0]\n",
    "serie = serie.values[0]\n",
    "serie"
   ]
  },
  {
   "cell_type": "markdown",
   "metadata": {},
   "source": [
    "### Serie original"
   ]
  },
  {
   "cell_type": "code",
   "execution_count": 13,
   "metadata": {
    "scrolled": true
   },
   "outputs": [],
   "source": [
    "orig_csv, title = get_source_csv(serie)"
   ]
  },
  {
   "cell_type": "markdown",
   "metadata": {},
   "source": [
    "### Serie de la API: valor original"
   ]
  },
  {
   "cell_type": "code",
   "execution_count": 14,
   "metadata": {},
   "outputs": [
    {
     "data": {
      "text/html": [
       "<div>\n",
       "<style scoped>\n",
       "    .dataframe tbody tr th:only-of-type {\n",
       "        vertical-align: middle;\n",
       "    }\n",
       "\n",
       "    .dataframe tbody tr th {\n",
       "        vertical-align: top;\n",
       "    }\n",
       "\n",
       "    .dataframe thead th {\n",
       "        text-align: right;\n",
       "    }\n",
       "</style>\n",
       "<table border=\"1\" class=\"dataframe\">\n",
       "  <thead>\n",
       "    <tr style=\"text-align: right;\">\n",
       "      <th></th>\n",
       "      <th>bcos_priv_pasivo_detalle_depositos_sector_privado_cedro</th>\n",
       "    </tr>\n",
       "    <tr>\n",
       "      <th>indice_tiempo</th>\n",
       "      <th></th>\n",
       "    </tr>\n",
       "  </thead>\n",
       "  <tbody>\n",
       "    <tr>\n",
       "      <th>2002-01-01</th>\n",
       "      <td>9015.624</td>\n",
       "    </tr>\n",
       "  </tbody>\n",
       "</table>\n",
       "</div>"
      ],
      "text/plain": [
       "               bcos_priv_pasivo_detalle_depositos_sector_privado_cedro\n",
       "indice_tiempo                                                         \n",
       "2002-01-01                                              9015.624      "
      ]
     },
     "execution_count": 14,
     "metadata": {},
     "output_type": "execute_result"
    }
   ],
   "source": [
    "api_csv = api_call(serie)\n",
    "\n",
    "api_csv.head(1)"
   ]
  },
  {
   "cell_type": "code",
   "execution_count": 15,
   "metadata": {
    "scrolled": true
   },
   "outputs": [
    {
     "data": {
      "text/plain": [
       "True    8\n",
       "dtype: int64"
      ]
     },
     "execution_count": 15,
     "metadata": {},
     "output_type": "execute_result"
    }
   ],
   "source": [
    "orig_csv = orig_csv[:len(api_csv)]\n",
    "equality_check = np.isclose(orig_csv[title], api_csv[title], equal_nan=True)\n",
    "equal_df = pd.Series(equality_check)\n",
    "\n",
    "equal_df.value_counts()"
   ]
  },
  {
   "cell_type": "markdown",
   "metadata": {},
   "source": [
    "### Cambio absoluto"
   ]
  },
  {
   "cell_type": "code",
   "execution_count": 16,
   "metadata": {},
   "outputs": [],
   "source": [
    "api_csv = api_call(serie, representation_mode='change')"
   ]
  },
  {
   "cell_type": "code",
   "execution_count": 17,
   "metadata": {},
   "outputs": [],
   "source": [
    "orig_csv_change, title = get_source_csv(serie)\n",
    "orig_csv_change[title] = orig_csv_change[title].diff(1)\n",
    "orig_csv_change = orig_csv_change[:len(api_csv)]"
   ]
  },
  {
   "cell_type": "code",
   "execution_count": 18,
   "metadata": {},
   "outputs": [
    {
     "data": {
      "text/plain": [
       "True    8\n",
       "dtype: int64"
      ]
     },
     "execution_count": 18,
     "metadata": {},
     "output_type": "execute_result"
    }
   ],
   "source": [
    "equality_check = np.isclose(orig_csv_change[title], api_csv[title], equal_nan=True)\n",
    "equal_df = pd.Series(equality_check)\n",
    "\n",
    "equal_df.value_counts()"
   ]
  },
  {
   "cell_type": "markdown",
   "metadata": {},
   "source": [
    "### Cambio porcentual"
   ]
  },
  {
   "cell_type": "code",
   "execution_count": 19,
   "metadata": {},
   "outputs": [],
   "source": [
    "api_csv = api_call(serie, representation_mode='percent_change')"
   ]
  },
  {
   "cell_type": "code",
   "execution_count": 20,
   "metadata": {},
   "outputs": [],
   "source": [
    "orig_csv_pct_change, title = get_source_csv(serie)\n",
    "orig_csv_pct_change[title] = orig_csv_pct_change[title].pct_change()\n",
    "orig_csv_pct_change = orig_csv_pct_change[:len(api_csv)]"
   ]
  },
  {
   "cell_type": "code",
   "execution_count": 21,
   "metadata": {
    "scrolled": true
   },
   "outputs": [
    {
     "data": {
      "text/plain": [
       "True    8\n",
       "dtype: int64"
      ]
     },
     "execution_count": 21,
     "metadata": {},
     "output_type": "execute_result"
    }
   ],
   "source": [
    "equality_check = np.isclose(orig_csv_pct_change[title], api_csv[title], equal_nan=True)\n",
    "equal_df = pd.Series(equality_check)\n",
    "\n",
    "equal_df.value_counts()"
   ]
  },
  {
   "cell_type": "markdown",
   "metadata": {},
   "source": [
    "### Colapsos de datos\n",
    "\n",
    "Aplico las agregaciones máximo y mínimos de la API, y también al CSV original con pandas. Comparo los resultados"
   ]
  },
  {
   "cell_type": "code",
   "execution_count": 22,
   "metadata": {},
   "outputs": [
    {
     "data": {
      "text/html": [
       "<div>\n",
       "<style scoped>\n",
       "    .dataframe tbody tr th:only-of-type {\n",
       "        vertical-align: middle;\n",
       "    }\n",
       "\n",
       "    .dataframe tbody tr th {\n",
       "        vertical-align: top;\n",
       "    }\n",
       "\n",
       "    .dataframe thead th {\n",
       "        text-align: right;\n",
       "    }\n",
       "</style>\n",
       "<table border=\"1\" class=\"dataframe\">\n",
       "  <thead>\n",
       "    <tr style=\"text-align: right;\">\n",
       "      <th></th>\n",
       "      <th>bcos_priv_pasivo_detalle_depositos_sector_privado_cedro</th>\n",
       "      <th>api_max</th>\n",
       "    </tr>\n",
       "    <tr>\n",
       "      <th>indice_tiempo</th>\n",
       "      <th></th>\n",
       "      <th></th>\n",
       "    </tr>\n",
       "  </thead>\n",
       "  <tbody>\n",
       "    <tr>\n",
       "      <th>2002-01-01</th>\n",
       "      <td>9015.624</td>\n",
       "      <td>9015.624</td>\n",
       "    </tr>\n",
       "    <tr>\n",
       "      <th>2003-01-01</th>\n",
       "      <td>2409.078</td>\n",
       "      <td>2409.078</td>\n",
       "    </tr>\n",
       "    <tr>\n",
       "      <th>2004-01-01</th>\n",
       "      <td>797.878</td>\n",
       "      <td>797.878</td>\n",
       "    </tr>\n",
       "    <tr>\n",
       "      <th>2005-01-01</th>\n",
       "      <td>2.840</td>\n",
       "      <td>2.840</td>\n",
       "    </tr>\n",
       "    <tr>\n",
       "      <th>2006-01-01</th>\n",
       "      <td>1.394</td>\n",
       "      <td>1.394</td>\n",
       "    </tr>\n",
       "    <tr>\n",
       "      <th>2007-01-01</th>\n",
       "      <td>0.000</td>\n",
       "      <td>0.000</td>\n",
       "    </tr>\n",
       "    <tr>\n",
       "      <th>2008-01-01</th>\n",
       "      <td>0.000</td>\n",
       "      <td>0.000</td>\n",
       "    </tr>\n",
       "    <tr>\n",
       "      <th>2009-01-01</th>\n",
       "      <td>0.000</td>\n",
       "      <td>0.000</td>\n",
       "    </tr>\n",
       "  </tbody>\n",
       "</table>\n",
       "</div>"
      ],
      "text/plain": [
       "               bcos_priv_pasivo_detalle_depositos_sector_privado_cedro  \\\n",
       "indice_tiempo                                                            \n",
       "2002-01-01                                              9015.624         \n",
       "2003-01-01                                              2409.078         \n",
       "2004-01-01                                               797.878         \n",
       "2005-01-01                                                 2.840         \n",
       "2006-01-01                                                 1.394         \n",
       "2007-01-01                                                 0.000         \n",
       "2008-01-01                                                 0.000         \n",
       "2009-01-01                                                 0.000         \n",
       "\n",
       "                api_max  \n",
       "indice_tiempo            \n",
       "2002-01-01     9015.624  \n",
       "2003-01-01     2409.078  \n",
       "2004-01-01      797.878  \n",
       "2005-01-01        2.840  \n",
       "2006-01-01        1.394  \n",
       "2007-01-01        0.000  \n",
       "2008-01-01        0.000  \n",
       "2009-01-01        0.000  "
      ]
     },
     "execution_count": 22,
     "metadata": {},
     "output_type": "execute_result"
    }
   ],
   "source": [
    "api_max = api_call(serie, collapse='year', collapse_aggregation='max')\n",
    "api_max['api_max'] = api_max[title]\n",
    "del api_max[title]\n",
    "api_call(serie).resample('AS').apply(max).join(api_max)"
   ]
  },
  {
   "cell_type": "code",
   "execution_count": 23,
   "metadata": {},
   "outputs": [
    {
     "data": {
      "text/html": [
       "<div>\n",
       "<style scoped>\n",
       "    .dataframe tbody tr th:only-of-type {\n",
       "        vertical-align: middle;\n",
       "    }\n",
       "\n",
       "    .dataframe tbody tr th {\n",
       "        vertical-align: top;\n",
       "    }\n",
       "\n",
       "    .dataframe thead th {\n",
       "        text-align: right;\n",
       "    }\n",
       "</style>\n",
       "<table border=\"1\" class=\"dataframe\">\n",
       "  <thead>\n",
       "    <tr style=\"text-align: right;\">\n",
       "      <th></th>\n",
       "      <th>bcos_priv_pasivo_detalle_depositos_sector_privado_cedro</th>\n",
       "      <th>api_min</th>\n",
       "    </tr>\n",
       "    <tr>\n",
       "      <th>indice_tiempo</th>\n",
       "      <th></th>\n",
       "      <th></th>\n",
       "    </tr>\n",
       "  </thead>\n",
       "  <tbody>\n",
       "    <tr>\n",
       "      <th>2002-01-01</th>\n",
       "      <td>9015.624</td>\n",
       "      <td>9015.624</td>\n",
       "    </tr>\n",
       "    <tr>\n",
       "      <th>2003-01-01</th>\n",
       "      <td>2409.078</td>\n",
       "      <td>2409.078</td>\n",
       "    </tr>\n",
       "    <tr>\n",
       "      <th>2004-01-01</th>\n",
       "      <td>797.878</td>\n",
       "      <td>797.878</td>\n",
       "    </tr>\n",
       "    <tr>\n",
       "      <th>2005-01-01</th>\n",
       "      <td>2.840</td>\n",
       "      <td>2.840</td>\n",
       "    </tr>\n",
       "    <tr>\n",
       "      <th>2006-01-01</th>\n",
       "      <td>1.394</td>\n",
       "      <td>1.394</td>\n",
       "    </tr>\n",
       "    <tr>\n",
       "      <th>2007-01-01</th>\n",
       "      <td>0.000</td>\n",
       "      <td>0.000</td>\n",
       "    </tr>\n",
       "    <tr>\n",
       "      <th>2008-01-01</th>\n",
       "      <td>0.000</td>\n",
       "      <td>0.000</td>\n",
       "    </tr>\n",
       "    <tr>\n",
       "      <th>2009-01-01</th>\n",
       "      <td>0.000</td>\n",
       "      <td>0.000</td>\n",
       "    </tr>\n",
       "  </tbody>\n",
       "</table>\n",
       "</div>"
      ],
      "text/plain": [
       "               bcos_priv_pasivo_detalle_depositos_sector_privado_cedro  \\\n",
       "indice_tiempo                                                            \n",
       "2002-01-01                                              9015.624         \n",
       "2003-01-01                                              2409.078         \n",
       "2004-01-01                                               797.878         \n",
       "2005-01-01                                                 2.840         \n",
       "2006-01-01                                                 1.394         \n",
       "2007-01-01                                                 0.000         \n",
       "2008-01-01                                                 0.000         \n",
       "2009-01-01                                                 0.000         \n",
       "\n",
       "                api_min  \n",
       "indice_tiempo            \n",
       "2002-01-01     9015.624  \n",
       "2003-01-01     2409.078  \n",
       "2004-01-01      797.878  \n",
       "2005-01-01        2.840  \n",
       "2006-01-01        1.394  \n",
       "2007-01-01        0.000  \n",
       "2008-01-01        0.000  \n",
       "2009-01-01        0.000  "
      ]
     },
     "execution_count": 23,
     "metadata": {},
     "output_type": "execute_result"
    }
   ],
   "source": [
    "api_max = api_call(serie, collapse='year', collapse_aggregation='min')\n",
    "api_max['api_min'] = api_max[title]\n",
    "del api_max[title]\n",
    "api_call(serie).resample('AS').apply(min).join(api_max)"
   ]
  },
  {
   "cell_type": "markdown",
   "metadata": {},
   "source": [
    "### Metadata"
   ]
  },
  {
   "cell_type": "code",
   "execution_count": 24,
   "metadata": {},
   "outputs": [
    {
     "data": {
      "text/plain": [
       "catalogo_id                                                               sspm\n",
       "dataset_id                                                                 334\n",
       "distribucion_id                                                          334.1\n",
       "serie_id                                               334.1_BCOS_PRIV_DRO__55\n",
       "indice_tiempo_frecuencia                                                 R/P1Y\n",
       "serie_titulo                 bcos_priv_pasivo_detalle_depositos_sector_priv...\n",
       "serie_unidades                                    Millones de pesos corrientes\n",
       "serie_descripcion            Pasivo bancos privados: Detalle depósitos deta...\n",
       "distribucion_titulo          Situación Patrimonial del sistema financiero. ...\n",
       "distribucion_descripcion               Datos patrimonio del sistema financiero\n",
       "distribucion_url_descarga    http://infra.datos.gob.ar/catalog/sspm/dataset...\n",
       "dataset_responsable              Subsecretaría de Programación Macroeconómica.\n",
       "dataset_fuente                  Banco Central de la República Argentina (BCRA)\n",
       "dataset_titulo                    Situación patrimonial del sistema financiero\n",
       "dataset_descripcion          Datos situación Patrimonial del sistema financ...\n",
       "dataset_tema                                                   Dinero y Bancos\n",
       "serie_indice_inicio                                                 2002-01-01\n",
       "serie_indice_final                                                  2009-01-01\n",
       "serie_valores_cant                                                           8\n",
       "serie_dias_no_cubiertos                                                   3092\n",
       "serie_actualizada                                                        False\n",
       "serie_valor_ultimo                                                           0\n",
       "serie_valor_anterior                                                         0\n",
       "serie_var_pct_anterior                                                     NaN\n",
       "Name: 8456, dtype: object"
      ]
     },
     "execution_count": 24,
     "metadata": {},
     "output_type": "execute_result"
    }
   ],
   "source": [
    "orig_meta = series_metadata.iloc[serie_idx]\n",
    "orig_meta"
   ]
  },
  {
   "cell_type": "code",
   "execution_count": 25,
   "metadata": {},
   "outputs": [],
   "source": [
    "metadata = requests.get(ENDPOINT_URL, params={'ids': serie, 'metadata': 'full'}).json()"
   ]
  },
  {
   "cell_type": "code",
   "execution_count": 26,
   "metadata": {},
   "outputs": [
    {
     "data": {
      "text/plain": [
       "{'frequency': 'year', 'start_date': '2002-01-01', 'end_date': '2009-01-01'}"
      ]
     },
     "execution_count": 26,
     "metadata": {},
     "output_type": "execute_result"
    }
   ],
   "source": [
    "# Metadatos del índice de tiempo\n",
    "metadata['meta'][0]"
   ]
  },
  {
   "cell_type": "code",
   "execution_count": 27,
   "metadata": {
    "scrolled": true
   },
   "outputs": [
    {
     "data": {
      "text/plain": [
       "{'catalog': {'publisher': {'mbox': 'datoseconomicos@mecon.gov.ar',\n",
       "   'name': 'Subsecretaría de Programación Macroeconómica.'},\n",
       "  'license': 'Creative Commons Attribution 4.0',\n",
       "  'description': 'Catálogo de datos abiertos de la Subsecretaría de Programación Macroeconómica.',\n",
       "  'language': ['SPA'],\n",
       "  'superThemeTaxonomy': 'http://datos.gob.ar/superThemeTaxonomy.json',\n",
       "  'issued': '2017-09-28',\n",
       "  'rights': '2017-09-28',\n",
       "  'modified': '2017-09-28',\n",
       "  'spatial': 'ARG',\n",
       "  'title': 'Datos Programación Macroeconómica',\n",
       "  'identifier': 'sspm'},\n",
       " 'dataset': {'publisher': {'mbox': 'datoseconomicos@mecon.gov.ar',\n",
       "   'name': 'Subsecretaría de Programación Macroeconómica.'},\n",
       "  'landingPage': 'https://www.minhacienda.gob.ar/secretarias/politica-economica/programacion-macroeconomica/',\n",
       "  'keyword': ['Información Económica al Día', 'Moneda'],\n",
       "  'superTheme': ['ECON'],\n",
       "  'title': 'Situación patrimonial del sistema financiero',\n",
       "  'language': ['SPA'],\n",
       "  'issued': '2017-11-28',\n",
       "  'temporal': '2002-01-01/2017-09-01',\n",
       "  'source': 'Banco Central de la República Argentina (BCRA)',\n",
       "  'theme': ['moneda'],\n",
       "  'accrualPeriodicity': 'R/P1M',\n",
       "  'spatial': 'ARG',\n",
       "  'identifier': '334',\n",
       "  'license': 'Creative Commons Attribution 4.0',\n",
       "  'contactPoint': {'fn': 'Subsecretaría de Programación Macroeconómica.'},\n",
       "  'accessLevel': 'ABIERTO',\n",
       "  'description': 'Datos situación Patrimonial del sistema financiero'},\n",
       " 'distribution': {'accessURL': 'https://www.minhacienda.gob.ar/secretarias/politica-economica/programacion-macroeconomica/',\n",
       "  'description': 'Datos patrimonio del sistema financiero',\n",
       "  'format': 'CSV',\n",
       "  'dataset_identifier': '334',\n",
       "  'issued': '2017-11-28',\n",
       "  'title': 'Situación Patrimonial del sistema financiero. Datos anual',\n",
       "  'fileName': 'situacion-patrimonial-sistema-financiero.csv',\n",
       "  'downloadURL': 'http://infra.datos.gob.ar/catalog/sspm/dataset/334/distribution/334.1/download/situacion-patrimonial-sistema-financiero.csv',\n",
       "  'identifier': '334.1',\n",
       "  'scrapingFileURL': 'https://www.economia.gob.ar/download/infoeco/apendice8.xlsx'},\n",
       " 'field': {'distribution_identifier': '334.1',\n",
       "  'description': 'Pasivo bancos privados: Detalle depósitos detalle sector privado CEDRO',\n",
       "  'title': 'bcos_priv_pasivo_detalle_depositos_sector_privado_cedro',\n",
       "  'dataset_identifier': '334',\n",
       "  'units': 'Millones de pesos corrientes',\n",
       "  'type': 'number',\n",
       "  'id': '334.1_BCOS_PRIV_DRO__55'}}"
      ]
     },
     "execution_count": 27,
     "metadata": {},
     "output_type": "execute_result"
    }
   ],
   "source": [
    "serie_meta = metadata['meta'][1]\n",
    "serie_meta"
   ]
  },
  {
   "cell_type": "markdown",
   "metadata": {},
   "source": [
    "Comprobamos que los metadatos de la API sean iguales a los originales"
   ]
  },
  {
   "cell_type": "code",
   "execution_count": 28,
   "metadata": {},
   "outputs": [
    {
     "data": {
      "text/plain": [
       "True"
      ]
     },
     "execution_count": 28,
     "metadata": {},
     "output_type": "execute_result"
    }
   ],
   "source": [
    "serie_meta['catalog']['identifier'] == orig_meta['catalogo_id']"
   ]
  },
  {
   "cell_type": "code",
   "execution_count": 29,
   "metadata": {},
   "outputs": [
    {
     "data": {
      "text/plain": [
       "True"
      ]
     },
     "execution_count": 29,
     "metadata": {},
     "output_type": "execute_result"
    }
   ],
   "source": [
    "serie_meta['dataset']['identifier'] == str(orig_meta['dataset_id'])"
   ]
  },
  {
   "cell_type": "code",
   "execution_count": 30,
   "metadata": {},
   "outputs": [
    {
     "data": {
      "text/plain": [
       "True"
      ]
     },
     "execution_count": 30,
     "metadata": {},
     "output_type": "execute_result"
    }
   ],
   "source": [
    "serie_meta['distribution']['identifier'] == str(orig_meta['distribucion_id'])"
   ]
  },
  {
   "cell_type": "code",
   "execution_count": 31,
   "metadata": {},
   "outputs": [
    {
     "data": {
      "text/plain": [
       "True"
      ]
     },
     "execution_count": 31,
     "metadata": {},
     "output_type": "execute_result"
    }
   ],
   "source": [
    "serie_meta['field']['id'] == str(orig_meta['serie_id'])"
   ]
  }
 ],
 "metadata": {
  "kernelspec": {
   "display_name": "Python 3",
   "language": "python",
   "name": "python3"
  },
  "language_info": {
   "codemirror_mode": {
    "name": "ipython",
    "version": 3
   },
   "file_extension": ".py",
   "mimetype": "text/x-python",
   "name": "python",
   "nbconvert_exporter": "python",
   "pygments_lexer": "ipython3",
   "version": "3.6.5"
  }
 },
 "nbformat": 4,
 "nbformat_minor": 2
}
