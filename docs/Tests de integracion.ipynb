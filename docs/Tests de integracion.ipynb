{
 "cells": [
  {
   "cell_type": "markdown",
   "metadata": {},
   "source": [
    "# Tests de funcionalidad de la API de series de tiempo"
   ]
  },
  {
   "cell_type": "code",
   "execution_count": 1,
   "metadata": {},
   "outputs": [],
   "source": [
    "import os\n",
    "import pandas as pd\n",
    "import numpy as np\n",
    "import requests\n",
    "from io import StringIO"
   ]
  },
  {
   "cell_type": "markdown",
   "metadata": {},
   "source": [
    "## Variables\n",
    "\n",
    "**Obligatorio**: setear la variable de entorno API_URL o setear la variable BASE_URL al ambiente de la API que se quiere probar"
   ]
  },
  {
   "cell_type": "code",
   "execution_count": 2,
   "metadata": {},
   "outputs": [],
   "source": [
    "BASE_URL = \"https://apis-stg.datos.gob.ar/\"\n",
    "METADATA_URL = 'https://apis-stg.datos.gob.ar/series/api/dump/series-tiempo-metadatos.csv'\n",
    "ENDPOINT_URL = BASE_URL + 'series/api/series/'"
   ]
  },
  {
   "cell_type": "code",
   "execution_count": 3,
   "metadata": {},
   "outputs": [
    {
     "data": {
      "text/html": [
       "<div>\n",
       "<style scoped>\n",
       "    .dataframe tbody tr th:only-of-type {\n",
       "        vertical-align: middle;\n",
       "    }\n",
       "\n",
       "    .dataframe tbody tr th {\n",
       "        vertical-align: top;\n",
       "    }\n",
       "\n",
       "    .dataframe thead th {\n",
       "        text-align: right;\n",
       "    }\n",
       "</style>\n",
       "<table border=\"1\" class=\"dataframe\">\n",
       "  <thead>\n",
       "    <tr style=\"text-align: right;\">\n",
       "      <th></th>\n",
       "      <th>catalogo_id</th>\n",
       "      <th>dataset_id</th>\n",
       "      <th>distribucion_id</th>\n",
       "      <th>serie_id</th>\n",
       "      <th>indice_tiempo_frecuencia</th>\n",
       "      <th>serie_titulo</th>\n",
       "      <th>serie_unidades</th>\n",
       "      <th>serie_descripcion</th>\n",
       "      <th>distribucion_titulo</th>\n",
       "      <th>distribucion_descripcion</th>\n",
       "      <th>...</th>\n",
       "      <th>dataset_descripcion</th>\n",
       "      <th>dataset_tema</th>\n",
       "      <th>serie_indice_inicio</th>\n",
       "      <th>serie_indice_final</th>\n",
       "      <th>serie_valores_cant</th>\n",
       "      <th>serie_dias_no_cubiertos</th>\n",
       "      <th>serie_actualizada</th>\n",
       "      <th>serie_valor_ultimo</th>\n",
       "      <th>serie_valor_anterior</th>\n",
       "      <th>serie_var_pct_anterior</th>\n",
       "    </tr>\n",
       "  </thead>\n",
       "  <tbody>\n",
       "    <tr>\n",
       "      <th>19963</th>\n",
       "      <td>sspm</td>\n",
       "      <td>99</td>\n",
       "      <td>99.3</td>\n",
       "      <td>99.3_ING_2008_0_17</td>\n",
       "      <td>R/P1M</td>\n",
       "      <td>ipc_nivel_general</td>\n",
       "      <td>Índice abr-2008=100</td>\n",
       "      <td>Índice de precios al consumidor nivel general....</td>\n",
       "      <td>Índice de Precios al Consumidor, por grupos. D...</td>\n",
       "      <td>Subsecretaría de Programación Macroeconómica.</td>\n",
       "      <td>...</td>\n",
       "      <td>Índice de Precios al Consumidor del Gran Bueno...</td>\n",
       "      <td>Precios</td>\n",
       "      <td>2006-12-01</td>\n",
       "      <td>2013-12-01</td>\n",
       "      <td>85.0</td>\n",
       "      <td>1798.0</td>\n",
       "      <td>False</td>\n",
       "      <td>166.840000</td>\n",
       "      <td>164.510000</td>\n",
       "      <td>0.014163</td>\n",
       "    </tr>\n",
       "    <tr>\n",
       "      <th>19964</th>\n",
       "      <td>sspm</td>\n",
       "      <td>99</td>\n",
       "      <td>99.3</td>\n",
       "      <td>99.3_IR_2008_0_13</td>\n",
       "      <td>R/P1M</td>\n",
       "      <td>ipc_regulados</td>\n",
       "      <td>Índice abr-2008=100</td>\n",
       "      <td>Índice de precios al consumidor regulados. Val...</td>\n",
       "      <td>Índice de Precios al Consumidor, por grupos. D...</td>\n",
       "      <td>Subsecretaría de Programación Macroeconómica.</td>\n",
       "      <td>...</td>\n",
       "      <td>Índice de Precios al Consumidor del Gran Bueno...</td>\n",
       "      <td>Precios</td>\n",
       "      <td>2006-12-01</td>\n",
       "      <td>2013-12-01</td>\n",
       "      <td>85.0</td>\n",
       "      <td>1798.0</td>\n",
       "      <td>False</td>\n",
       "      <td>161.040000</td>\n",
       "      <td>159.290000</td>\n",
       "      <td>0.010986</td>\n",
       "    </tr>\n",
       "    <tr>\n",
       "      <th>19965</th>\n",
       "      <td>sspm</td>\n",
       "      <td>99</td>\n",
       "      <td>99.3</td>\n",
       "      <td>99.3_IR_2008_0_9</td>\n",
       "      <td>R/P1M</td>\n",
       "      <td>ipc_resto</td>\n",
       "      <td>Índice abr-2008=100</td>\n",
       "      <td>Índice de precios al consumidor IPC resto. Val...</td>\n",
       "      <td>Índice de Precios al Consumidor, por grupos. D...</td>\n",
       "      <td>Subsecretaría de Programación Macroeconómica.</td>\n",
       "      <td>...</td>\n",
       "      <td>Índice de Precios al Consumidor del Gran Bueno...</td>\n",
       "      <td>Precios</td>\n",
       "      <td>2006-12-01</td>\n",
       "      <td>2013-12-01</td>\n",
       "      <td>85.0</td>\n",
       "      <td>1798.0</td>\n",
       "      <td>False</td>\n",
       "      <td>161.740000</td>\n",
       "      <td>159.250000</td>\n",
       "      <td>0.015636</td>\n",
       "    </tr>\n",
       "    <tr>\n",
       "      <th>19966</th>\n",
       "      <td>sspm</td>\n",
       "      <td>99</td>\n",
       "      <td>99.3</td>\n",
       "      <td>99.3_PREIR_2008_0_40</td>\n",
       "      <td>R/P1M</td>\n",
       "      <td>precios_relativos_estacionales_ipc_resto</td>\n",
       "      <td>Índice abr-2008=100</td>\n",
       "      <td>Índice de precios al consumidor precios relati...</td>\n",
       "      <td>Índice de Precios al Consumidor, por grupos. D...</td>\n",
       "      <td>Subsecretaría de Programación Macroeconómica.</td>\n",
       "      <td>...</td>\n",
       "      <td>Índice de Precios al Consumidor del Gran Bueno...</td>\n",
       "      <td>Precios</td>\n",
       "      <td>2006-12-01</td>\n",
       "      <td>2013-12-01</td>\n",
       "      <td>85.0</td>\n",
       "      <td>1798.0</td>\n",
       "      <td>False</td>\n",
       "      <td>137.591196</td>\n",
       "      <td>138.411303</td>\n",
       "      <td>-0.005925</td>\n",
       "    </tr>\n",
       "    <tr>\n",
       "      <th>19967</th>\n",
       "      <td>sspm</td>\n",
       "      <td>99</td>\n",
       "      <td>99.3</td>\n",
       "      <td>99.3_PRRIR_2008_0_37</td>\n",
       "      <td>R/P1M</td>\n",
       "      <td>precios_relativos_regulados_ipc_resto</td>\n",
       "      <td>Índice abr-2008=100</td>\n",
       "      <td>Índice de precios al consumidor precios relati...</td>\n",
       "      <td>Índice de Precios al Consumidor, por grupos. D...</td>\n",
       "      <td>Subsecretaría de Programación Macroeconómica.</td>\n",
       "      <td>...</td>\n",
       "      <td>Índice de Precios al Consumidor del Gran Bueno...</td>\n",
       "      <td>Precios</td>\n",
       "      <td>2006-12-01</td>\n",
       "      <td>2013-12-01</td>\n",
       "      <td>85.0</td>\n",
       "      <td>1798.0</td>\n",
       "      <td>False</td>\n",
       "      <td>99.567207</td>\n",
       "      <td>100.025118</td>\n",
       "      <td>-0.004578</td>\n",
       "    </tr>\n",
       "  </tbody>\n",
       "</table>\n",
       "<p>5 rows × 24 columns</p>\n",
       "</div>"
      ],
      "text/plain": [
       "      catalogo_id dataset_id distribucion_id              serie_id  \\\n",
       "19963        sspm         99            99.3    99.3_ING_2008_0_17   \n",
       "19964        sspm         99            99.3     99.3_IR_2008_0_13   \n",
       "19965        sspm         99            99.3      99.3_IR_2008_0_9   \n",
       "19966        sspm         99            99.3  99.3_PREIR_2008_0_40   \n",
       "19967        sspm         99            99.3  99.3_PRRIR_2008_0_37   \n",
       "\n",
       "      indice_tiempo_frecuencia                              serie_titulo  \\\n",
       "19963                    R/P1M                         ipc_nivel_general   \n",
       "19964                    R/P1M                             ipc_regulados   \n",
       "19965                    R/P1M                                 ipc_resto   \n",
       "19966                    R/P1M  precios_relativos_estacionales_ipc_resto   \n",
       "19967                    R/P1M     precios_relativos_regulados_ipc_resto   \n",
       "\n",
       "            serie_unidades                                  serie_descripcion  \\\n",
       "19963  Índice abr-2008=100  Índice de precios al consumidor nivel general....   \n",
       "19964  Índice abr-2008=100  Índice de precios al consumidor regulados. Val...   \n",
       "19965  Índice abr-2008=100  Índice de precios al consumidor IPC resto. Val...   \n",
       "19966  Índice abr-2008=100  Índice de precios al consumidor precios relati...   \n",
       "19967  Índice abr-2008=100  Índice de precios al consumidor precios relati...   \n",
       "\n",
       "                                     distribucion_titulo  \\\n",
       "19963  Índice de Precios al Consumidor, por grupos. D...   \n",
       "19964  Índice de Precios al Consumidor, por grupos. D...   \n",
       "19965  Índice de Precios al Consumidor, por grupos. D...   \n",
       "19966  Índice de Precios al Consumidor, por grupos. D...   \n",
       "19967  Índice de Precios al Consumidor, por grupos. D...   \n",
       "\n",
       "                            distribucion_descripcion           ...            \\\n",
       "19963  Subsecretaría de Programación Macroeconómica.           ...             \n",
       "19964  Subsecretaría de Programación Macroeconómica.           ...             \n",
       "19965  Subsecretaría de Programación Macroeconómica.           ...             \n",
       "19966  Subsecretaría de Programación Macroeconómica.           ...             \n",
       "19967  Subsecretaría de Programación Macroeconómica.           ...             \n",
       "\n",
       "                                     dataset_descripcion dataset_tema  \\\n",
       "19963  Índice de Precios al Consumidor del Gran Bueno...      Precios   \n",
       "19964  Índice de Precios al Consumidor del Gran Bueno...      Precios   \n",
       "19965  Índice de Precios al Consumidor del Gran Bueno...      Precios   \n",
       "19966  Índice de Precios al Consumidor del Gran Bueno...      Precios   \n",
       "19967  Índice de Precios al Consumidor del Gran Bueno...      Precios   \n",
       "\n",
       "      serie_indice_inicio serie_indice_final serie_valores_cant  \\\n",
       "19963          2006-12-01         2013-12-01               85.0   \n",
       "19964          2006-12-01         2013-12-01               85.0   \n",
       "19965          2006-12-01         2013-12-01               85.0   \n",
       "19966          2006-12-01         2013-12-01               85.0   \n",
       "19967          2006-12-01         2013-12-01               85.0   \n",
       "\n",
       "      serie_dias_no_cubiertos serie_actualizada serie_valor_ultimo  \\\n",
       "19963                  1798.0             False         166.840000   \n",
       "19964                  1798.0             False         161.040000   \n",
       "19965                  1798.0             False         161.740000   \n",
       "19966                  1798.0             False         137.591196   \n",
       "19967                  1798.0             False          99.567207   \n",
       "\n",
       "       serie_valor_anterior  serie_var_pct_anterior  \n",
       "19963            164.510000                0.014163  \n",
       "19964            159.290000                0.010986  \n",
       "19965            159.250000                0.015636  \n",
       "19966            138.411303               -0.005925  \n",
       "19967            100.025118               -0.004578  \n",
       "\n",
       "[5 rows x 24 columns]"
      ]
     },
     "execution_count": 3,
     "metadata": {},
     "output_type": "execute_result"
    }
   ],
   "source": [
    "series_metadata = pd.read_csv(METADATA_URL)\n",
    "series_metadata.tail(5)"
   ]
  },
  {
   "cell_type": "code",
   "execution_count": 4,
   "metadata": {
    "scrolled": true
   },
   "outputs": [
    {
     "data": {
      "text/plain": [
       "19968"
      ]
     },
     "execution_count": 4,
     "metadata": {},
     "output_type": "execute_result"
    }
   ],
   "source": [
    "series_metadata.serie_id.count()"
   ]
  },
  {
   "cell_type": "markdown",
   "metadata": {},
   "source": [
    "## Chequeo de todas las series \n",
    "\n",
    "Le pegamos al endpoint para todas las series y verificamos que la API devuelve una respuesta satisfactoria (status code 200). Contamos la cantidad de casos satisfactorios (True) y no (False)"
   ]
  },
  {
   "cell_type": "code",
   "execution_count": 5,
   "metadata": {},
   "outputs": [],
   "source": [
    "def api_series_head(serie_id):\n",
    "    return requests.head(ENDPOINT_URL, params={'ids': serie_id}).status_code == 200"
   ]
  },
  {
   "cell_type": "markdown",
   "metadata": {},
   "source": [
    "### Cantidad de respuestas válidas"
   ]
  },
  {
   "cell_type": "code",
   "execution_count": 6,
   "metadata": {
    "scrolled": false
   },
   "outputs": [
    {
     "data": {
      "text/plain": [
       "True     9\n",
       "False    1\n",
       "Name: serie_id, dtype: int64"
      ]
     },
     "execution_count": 6,
     "metadata": {},
     "output_type": "execute_result"
    }
   ],
   "source": [
    "valid_responses = series_metadata.serie_id[:10].apply(api_series_head)\n",
    "valid_responses.value_counts()"
   ]
  },
  {
   "cell_type": "markdown",
   "metadata": {},
   "source": [
    "### En porcentajes"
   ]
  },
  {
   "cell_type": "code",
   "execution_count": 7,
   "metadata": {},
   "outputs": [
    {
     "data": {
      "text/plain": [
       "True     0.9\n",
       "False    0.1\n",
       "Name: serie_id, dtype: float64"
      ]
     },
     "execution_count": 7,
     "metadata": {},
     "output_type": "execute_result"
    }
   ],
   "source": [
    "valid_responses.value_counts().apply(lambda x: x/len(valid_responses))"
   ]
  },
  {
   "cell_type": "markdown",
   "metadata": {},
   "source": [
    "## Chequeo de modos de representación"
   ]
  },
  {
   "cell_type": "code",
   "execution_count": 29,
   "metadata": {},
   "outputs": [],
   "source": [
    "def api_call(serie, limit=1000, **kwargs):\n",
    "    call_params = {'ids': serie, 'format': 'csv', 'limit': limit}\n",
    "    call_params.update(kwargs)\n",
    "    res = requests.get(ENDPOINT_URL, params=call_params)\n",
    "    csv = StringIO(res.content.decode('utf8'))\n",
    "    api_csv = pd.read_csv(csv, parse_dates=['indice_tiempo'], index_col='indice_tiempo')\n",
    "\n",
    "    return api_csv, res.status_code\n",
    "\n",
    "def get_source_csv(serie):\n",
    "    #response = requests.get(ENDPOINT_URL, params={'ids': serie, 'metadata': 'only'}).json()\n",
    "    #distribution_url = response['meta'][1]['distribution']['downloadURL']\n",
    "    distribution_url = series_metadata[series_metadata.serie_id == serie][\"distribucion_url_descarga\"].iloc[0]\n",
    "    \n",
    "    #title = response['meta'][1]['field']['title']\n",
    "    title = series_metadata[series_metadata.serie_id == serie][\"serie_titulo\"].iloc[0]\n",
    "\n",
    "    orig_csv = pd.read_csv(distribution_url, parse_dates=['indice_tiempo'], index_col='indice_tiempo')\n",
    "\n",
    "    return orig_csv, title"
   ]
  },
  {
   "cell_type": "markdown",
   "metadata": {},
   "source": [
    "### Serie original"
   ]
  },
  {
   "cell_type": "code",
   "execution_count": 30,
   "metadata": {
    "scrolled": true
   },
   "outputs": [
    {
     "data": {
      "text/plain": [
       "'8.2_SEGA_2004_T_32'"
      ]
     },
     "execution_count": 30,
     "metadata": {},
     "output_type": "execute_result"
    }
   ],
   "source": [
    "# toma un sample de una serie\n",
    "serie = series_metadata.serie_id.sample(1)\n",
    "\n",
    "serie_idx = serie.index[0]\n",
    "serie = serie.values[0]\n",
    "serie"
   ]
  },
  {
   "cell_type": "code",
   "execution_count": 31,
   "metadata": {
    "scrolled": true
   },
   "outputs": [],
   "source": [
    "orig_csv, title = get_source_csv(serie)"
   ]
  },
  {
   "cell_type": "markdown",
   "metadata": {},
   "source": [
    "### Serie de la API: valor original"
   ]
  },
  {
   "cell_type": "code",
   "execution_count": 32,
   "metadata": {},
   "outputs": [
    {
     "name": "stdout",
     "output_type": "stream",
     "text": [
      "Status code: 200\n"
     ]
    },
    {
     "data": {
      "text/html": [
       "<div>\n",
       "<style scoped>\n",
       "    .dataframe tbody tr th:only-of-type {\n",
       "        vertical-align: middle;\n",
       "    }\n",
       "\n",
       "    .dataframe tbody tr th {\n",
       "        vertical-align: top;\n",
       "    }\n",
       "\n",
       "    .dataframe thead th {\n",
       "        text-align: right;\n",
       "    }\n",
       "</style>\n",
       "<table border=\"1\" class=\"dataframe\">\n",
       "  <thead>\n",
       "    <tr style=\"text-align: right;\">\n",
       "      <th></th>\n",
       "      <th>suministro_electricidad_gas_agua</th>\n",
       "    </tr>\n",
       "    <tr>\n",
       "      <th>indice_tiempo</th>\n",
       "      <th></th>\n",
       "    </tr>\n",
       "  </thead>\n",
       "  <tbody>\n",
       "    <tr>\n",
       "      <th>2004-01-01</th>\n",
       "      <td>7595.81446</td>\n",
       "    </tr>\n",
       "  </tbody>\n",
       "</table>\n",
       "</div>"
      ],
      "text/plain": [
       "               suministro_electricidad_gas_agua\n",
       "indice_tiempo                                  \n",
       "2004-01-01                           7595.81446"
      ]
     },
     "execution_count": 32,
     "metadata": {},
     "output_type": "execute_result"
    }
   ],
   "source": [
    "api_csv, status_code = api_call(serie)\n",
    "\n",
    "print(\"Status code:\", status_code)\n",
    "api_csv.head(1)"
   ]
  },
  {
   "cell_type": "code",
   "execution_count": 33,
   "metadata": {
    "scrolled": true
   },
   "outputs": [
    {
     "data": {
      "text/plain": [
       "True    59\n",
       "dtype: int64"
      ]
     },
     "execution_count": 33,
     "metadata": {},
     "output_type": "execute_result"
    }
   ],
   "source": [
    "orig_csv = orig_csv[:len(api_csv)]\n",
    "equality_check = np.isclose(orig_csv[title], api_csv[title], equal_nan=True)\n",
    "equal_df = pd.Series(equality_check)\n",
    "\n",
    "equal_df.value_counts()"
   ]
  },
  {
   "cell_type": "markdown",
   "metadata": {},
   "source": [
    "### Chequeo de los datos de todas las series"
   ]
  },
  {
   "cell_type": "markdown",
   "metadata": {},
   "source": [
    "Chequea que los datos que devuelve la API para cada una de las series sean correctos respecto del CSV original del que se toman."
   ]
  },
  {
   "cell_type": "code",
   "execution_count": 34,
   "metadata": {},
   "outputs": [],
   "source": [
    "from concurrent.futures import ThreadPoolExecutor\n",
    "import concurrent.futures"
   ]
  },
  {
   "cell_type": "code",
   "execution_count": 101,
   "metadata": {},
   "outputs": [],
   "source": [
    "def chequear_serie(serie_id):\n",
    "    \"\"\"Test completo de chequear una serie contra su CSV original.\"\"\"\n",
    "    \n",
    "    try:\n",
    "        orig_csv, title = get_source_csv(serie_id)\n",
    "    except Exception as e:\n",
    "        return {}, repr(e)\n",
    "    \n",
    "    api_csv, status_code = api_call(serie_id)\n",
    "    \n",
    "    if isinstance(api_csv, pd.DataFrame):\n",
    "        orig_csv = orig_csv[:len(api_csv)]\n",
    "        equality_check = np.isclose(orig_csv[title], api_csv[title], \n",
    "                                    rtol=0.001, equal_nan=True)\n",
    "        equal_df = pd.Series(equality_check)\n",
    "\n",
    "        return equal_df.value_counts(), status_code\n",
    "\n",
    "    else:\n",
    "        return {}, status_code"
   ]
  },
  {
   "cell_type": "code",
   "execution_count": 102,
   "metadata": {},
   "outputs": [
    {
     "data": {
      "text/plain": [
       "(False    94\n",
       " True     93\n",
       " dtype: int64, 200)"
      ]
     },
     "execution_count": 102,
     "metadata": {},
     "output_type": "execute_result"
    }
   ],
   "source": [
    "chequear_serie(\"89.1_IR_BCRA2_M_0_M_26\")"
   ]
  },
  {
   "cell_type": "code",
   "execution_count": 45,
   "metadata": {},
   "outputs": [],
   "source": [
    "def chequear_series(series):\n",
    "    \"\"\"Testea una lista de series concurrentemente, permitiendo frenar \n",
    "    la ejecución con el teclado y obtener resultados parciales.\"\"\"\n",
    "    \n",
    "    results = []\n",
    "\n",
    "    def chequear_serie_bulk(serie_id):\n",
    "        res, status_code = chequear_serie(serie_id)\n",
    "        results.append({\n",
    "            \"serie_id\": serie_id, \"ok\": res.get(True, 0), \n",
    "            \"error\": res.get(False, 0), \"status_code\": status_code\n",
    "        })\n",
    "    \n",
    "    try:\n",
    "        with ThreadPoolExecutor(max_workers=7) as executor:\n",
    "            futures = []\n",
    "            for serie_id in series:\n",
    "                fs = executor.submit(chequear_serie_bulk, serie_id)\n",
    "                futures.append(fs)\n",
    "            concurrent.futures.wait(futures)\n",
    "            \n",
    "    except KeyboardInterrupt:\n",
    "        return results\n",
    "    \n",
    "    return results"
   ]
  },
  {
   "cell_type": "code",
   "execution_count": 50,
   "metadata": {
    "scrolled": false
   },
   "outputs": [],
   "source": [
    "series = series_metadata[series_metadata.catalogo_id.isin([\"sspm\", \"energia\", \"siep\"])].serie_id\n",
    "results = chequear_series(series)\n",
    "df_results = pd.DataFrame(results)"
   ]
  },
  {
   "cell_type": "code",
   "execution_count": 51,
   "metadata": {},
   "outputs": [
    {
     "data": {
      "text/plain": [
       "19806"
      ]
     },
     "execution_count": 51,
     "metadata": {},
     "output_type": "execute_result"
    }
   ],
   "source": [
    "len(series)"
   ]
  },
  {
   "cell_type": "code",
   "execution_count": 52,
   "metadata": {},
   "outputs": [
    {
     "data": {
      "text/plain": [
       "19795"
      ]
     },
     "execution_count": 52,
     "metadata": {},
     "output_type": "execute_result"
    }
   ],
   "source": [
    "len(df_results)"
   ]
  },
  {
   "cell_type": "code",
   "execution_count": 58,
   "metadata": {},
   "outputs": [],
   "source": [
    "df_results = df_results.fillna(0)\n",
    "df_results[\"error_pct\"] = df_results.error / (df_results.error + df_results.ok)"
   ]
  },
  {
   "cell_type": "code",
   "execution_count": 106,
   "metadata": {},
   "outputs": [],
   "source": [
    "df_results.to_csv(\"errores-series-valores.csv\", encoding=\"utf8\", index=False)"
   ]
  },
  {
   "cell_type": "code",
   "execution_count": 105,
   "metadata": {},
   "outputs": [
    {
     "data": {
      "text/html": [
       "<div>\n",
       "<style scoped>\n",
       "    .dataframe tbody tr th:only-of-type {\n",
       "        vertical-align: middle;\n",
       "    }\n",
       "\n",
       "    .dataframe tbody tr th {\n",
       "        vertical-align: top;\n",
       "    }\n",
       "\n",
       "    .dataframe thead th {\n",
       "        text-align: right;\n",
       "    }\n",
       "</style>\n",
       "<table border=\"1\" class=\"dataframe\">\n",
       "  <thead>\n",
       "    <tr style=\"text-align: right;\">\n",
       "      <th></th>\n",
       "      <th>error</th>\n",
       "      <th>ok</th>\n",
       "      <th>serie_id</th>\n",
       "      <th>status_code</th>\n",
       "      <th>error_pct</th>\n",
       "    </tr>\n",
       "  </thead>\n",
       "  <tbody>\n",
       "    <tr>\n",
       "      <th>343</th>\n",
       "      <td>20.0</td>\n",
       "      <td>0.0</td>\n",
       "      <td>10.1_VIPAA_1993_A_31</td>\n",
       "      <td>200</td>\n",
       "      <td>1.000000</td>\n",
       "    </tr>\n",
       "    <tr>\n",
       "      <th>10953</th>\n",
       "      <td>18.0</td>\n",
       "      <td>0.0</td>\n",
       "      <td>367.2_EPEC_DISTRDOR__17</td>\n",
       "      <td>200</td>\n",
       "      <td>1.000000</td>\n",
       "    </tr>\n",
       "    <tr>\n",
       "      <th>10947</th>\n",
       "      <td>18.0</td>\n",
       "      <td>0.0</td>\n",
       "      <td>367.2_EMP_DIST_EICA__24</td>\n",
       "      <td>200</td>\n",
       "      <td>1.000000</td>\n",
       "    </tr>\n",
       "    <tr>\n",
       "      <th>10948</th>\n",
       "      <td>18.0</td>\n",
       "      <td>0.0</td>\n",
       "      <td>367.2_EMP_ELECTR_SA__24</td>\n",
       "      <td>200</td>\n",
       "      <td>1.000000</td>\n",
       "    </tr>\n",
       "    <tr>\n",
       "      <th>10949</th>\n",
       "      <td>18.0</td>\n",
       "      <td>0.0</td>\n",
       "      <td>367.2_ENERGIA_DES.A__24</td>\n",
       "      <td>200</td>\n",
       "      <td>1.000000</td>\n",
       "    </tr>\n",
       "    <tr>\n",
       "      <th>10950</th>\n",
       "      <td>18.0</td>\n",
       "      <td>0.0</td>\n",
       "      <td>367.2_ENERGIA_DE_SA__21</td>\n",
       "      <td>200</td>\n",
       "      <td>1.000000</td>\n",
       "    </tr>\n",
       "    <tr>\n",
       "      <th>10951</th>\n",
       "      <td>18.0</td>\n",
       "      <td>0.0</td>\n",
       "      <td>367.2_ENERGIA_DE_SA__24</td>\n",
       "      <td>200</td>\n",
       "      <td>1.000000</td>\n",
       "    </tr>\n",
       "    <tr>\n",
       "      <th>10952</th>\n",
       "      <td>18.0</td>\n",
       "      <td>0.0</td>\n",
       "      <td>367.2_ENERGIA_SASSA__28</td>\n",
       "      <td>200</td>\n",
       "      <td>1.000000</td>\n",
       "    </tr>\n",
       "    <tr>\n",
       "      <th>10954</th>\n",
       "      <td>18.0</td>\n",
       "      <td>0.0</td>\n",
       "      <td>367.2_EPEN_DISTRDOR__17</td>\n",
       "      <td>200</td>\n",
       "      <td>1.000000</td>\n",
       "    </tr>\n",
       "    <tr>\n",
       "      <th>10945</th>\n",
       "      <td>18.0</td>\n",
       "      <td>0.0</td>\n",
       "      <td>367.2_EMP_DE_ENE_SA__30</td>\n",
       "      <td>200</td>\n",
       "      <td>1.000000</td>\n",
       "    </tr>\n",
       "    <tr>\n",
       "      <th>10955</th>\n",
       "      <td>18.0</td>\n",
       "      <td>0.0</td>\n",
       "      <td>367.2_EPESF_DISTDOR__18</td>\n",
       "      <td>200</td>\n",
       "      <td>1.000000</td>\n",
       "    </tr>\n",
       "    <tr>\n",
       "      <th>10956</th>\n",
       "      <td>55.0</td>\n",
       "      <td>0.0</td>\n",
       "      <td>367.2_GRANDES_USIOS__16</td>\n",
       "      <td>200</td>\n",
       "      <td>1.000000</td>\n",
       "    </tr>\n",
       "    <tr>\n",
       "      <th>10958</th>\n",
       "      <td>18.0</td>\n",
       "      <td>0.0</td>\n",
       "      <td>367.2_RECURSOS_Y_SA__29</td>\n",
       "      <td>200</td>\n",
       "      <td>1.000000</td>\n",
       "    </tr>\n",
       "    <tr>\n",
       "      <th>10959</th>\n",
       "      <td>18.0</td>\n",
       "      <td>0.0</td>\n",
       "      <td>367.2_SECHEEPEEP__7</td>\n",
       "      <td>200</td>\n",
       "      <td>1.000000</td>\n",
       "    </tr>\n",
       "    <tr>\n",
       "      <th>10960</th>\n",
       "      <td>18.0</td>\n",
       "      <td>0.0</td>\n",
       "      <td>367.2_SPSE_SANTARUZ__15</td>\n",
       "      <td>200</td>\n",
       "      <td>1.000000</td>\n",
       "    </tr>\n",
       "    <tr>\n",
       "      <th>10962</th>\n",
       "      <td>166.0</td>\n",
       "      <td>0.0</td>\n",
       "      <td>367.3_COMERCIO_ERIA__20</td>\n",
       "      <td>200</td>\n",
       "      <td>1.000000</td>\n",
       "    </tr>\n",
       "    <tr>\n",
       "      <th>10946</th>\n",
       "      <td>18.0</td>\n",
       "      <td>0.0</td>\n",
       "      <td>367.2_EMP_DIST_ELTA__25</td>\n",
       "      <td>200</td>\n",
       "      <td>1.000000</td>\n",
       "    </tr>\n",
       "    <tr>\n",
       "      <th>10944</th>\n",
       "      <td>18.0</td>\n",
       "      <td>0.0</td>\n",
       "      <td>367.2_EMPRESA_JU_SA__29</td>\n",
       "      <td>200</td>\n",
       "      <td>1.000000</td>\n",
       "    </tr>\n",
       "    <tr>\n",
       "      <th>10921</th>\n",
       "      <td>3.0</td>\n",
       "      <td>0.0</td>\n",
       "      <td>367.1_POTENCIA_IGAS__25</td>\n",
       "      <td>200</td>\n",
       "      <td>1.000000</td>\n",
       "    </tr>\n",
       "    <tr>\n",
       "      <th>10934</th>\n",
       "      <td>55.0</td>\n",
       "      <td>0.0</td>\n",
       "      <td>367.2_COMERCIO_ERIA__20</td>\n",
       "      <td>200</td>\n",
       "      <td>1.000000</td>\n",
       "    </tr>\n",
       "    <tr>\n",
       "      <th>10924</th>\n",
       "      <td>7.0</td>\n",
       "      <td>0.0</td>\n",
       "      <td>367.1_POTENCIA_ILAR__24</td>\n",
       "      <td>200</td>\n",
       "      <td>1.000000</td>\n",
       "    </tr>\n",
       "    <tr>\n",
       "      <th>10927</th>\n",
       "      <td>16.0</td>\n",
       "      <td>0.0</td>\n",
       "      <td>367.1_POTENCIA_ITAL__24</td>\n",
       "      <td>200</td>\n",
       "      <td>1.000000</td>\n",
       "    </tr>\n",
       "    <tr>\n",
       "      <th>10928</th>\n",
       "      <td>4.0</td>\n",
       "      <td>0.0</td>\n",
       "      <td>367.1_RECURSOS_Y_SA__29</td>\n",
       "      <td>200</td>\n",
       "      <td>1.000000</td>\n",
       "    </tr>\n",
       "    <tr>\n",
       "      <th>10930</th>\n",
       "      <td>4.0</td>\n",
       "      <td>0.0</td>\n",
       "      <td>367.1_SECHEEPEEP__7</td>\n",
       "      <td>200</td>\n",
       "      <td>1.000000</td>\n",
       "    </tr>\n",
       "    <tr>\n",
       "      <th>10931</th>\n",
       "      <td>4.0</td>\n",
       "      <td>0.0</td>\n",
       "      <td>367.1_SPSE_SANTARUZ__15</td>\n",
       "      <td>200</td>\n",
       "      <td>1.000000</td>\n",
       "    </tr>\n",
       "    <tr>\n",
       "      <th>10933</th>\n",
       "      <td>55.0</td>\n",
       "      <td>0.0</td>\n",
       "      <td>367.2_DEMANDA_REIAL__19</td>\n",
       "      <td>200</td>\n",
       "      <td>1.000000</td>\n",
       "    </tr>\n",
       "    <tr>\n",
       "      <th>10935</th>\n",
       "      <td>18.0</td>\n",
       "      <td>0.0</td>\n",
       "      <td>367.2_EDELAP_SA_SA__9</td>\n",
       "      <td>200</td>\n",
       "      <td>1.000000</td>\n",
       "    </tr>\n",
       "    <tr>\n",
       "      <th>10943</th>\n",
       "      <td>18.0</td>\n",
       "      <td>0.0</td>\n",
       "      <td>367.2_EMP._DE_EN_SA__30</td>\n",
       "      <td>200</td>\n",
       "      <td>1.000000</td>\n",
       "    </tr>\n",
       "    <tr>\n",
       "      <th>10936</th>\n",
       "      <td>18.0</td>\n",
       "      <td>0.0</td>\n",
       "      <td>367.2_EDENOR_DISDOR__19</td>\n",
       "      <td>200</td>\n",
       "      <td>1.000000</td>\n",
       "    </tr>\n",
       "    <tr>\n",
       "      <th>10938</th>\n",
       "      <td>18.0</td>\n",
       "      <td>0.0</td>\n",
       "      <td>367.2_EDESAL_DISDOR__19</td>\n",
       "      <td>200</td>\n",
       "      <td>1.000000</td>\n",
       "    </tr>\n",
       "    <tr>\n",
       "      <th>...</th>\n",
       "      <td>...</td>\n",
       "      <td>...</td>\n",
       "      <td>...</td>\n",
       "      <td>...</td>\n",
       "      <td>...</td>\n",
       "    </tr>\n",
       "    <tr>\n",
       "      <th>18480</th>\n",
       "      <td>7.0</td>\n",
       "      <td>100.0</td>\n",
       "      <td>74.2_IEMOA_0_T_48</td>\n",
       "      <td>200</td>\n",
       "      <td>0.065421</td>\n",
       "    </tr>\n",
       "    <tr>\n",
       "      <th>18481</th>\n",
       "      <td>7.0</td>\n",
       "      <td>100.0</td>\n",
       "      <td>74.2_IEMOI_0_T_46</td>\n",
       "      <td>200</td>\n",
       "      <td>0.065421</td>\n",
       "    </tr>\n",
       "    <tr>\n",
       "      <th>18598</th>\n",
       "      <td>7.0</td>\n",
       "      <td>100.0</td>\n",
       "      <td>75.2_ITMOA_0_T_13</td>\n",
       "      <td>200</td>\n",
       "      <td>0.065421</td>\n",
       "    </tr>\n",
       "    <tr>\n",
       "      <th>18599</th>\n",
       "      <td>7.0</td>\n",
       "      <td>100.0</td>\n",
       "      <td>75.2_ITM_0_T_13</td>\n",
       "      <td>200</td>\n",
       "      <td>0.065421</td>\n",
       "    </tr>\n",
       "    <tr>\n",
       "      <th>3925</th>\n",
       "      <td>6.0</td>\n",
       "      <td>92.0</td>\n",
       "      <td>170.1_MFACTURRIO_0_0_32</td>\n",
       "      <td>200</td>\n",
       "      <td>0.061224</td>\n",
       "    </tr>\n",
       "    <tr>\n",
       "      <th>18487</th>\n",
       "      <td>6.0</td>\n",
       "      <td>101.0</td>\n",
       "      <td>74.2_IICL_0_T_42</td>\n",
       "      <td>200</td>\n",
       "      <td>0.056075</td>\n",
       "    </tr>\n",
       "    <tr>\n",
       "      <th>18585</th>\n",
       "      <td>6.0</td>\n",
       "      <td>101.0</td>\n",
       "      <td>75.2_IETPP_0_T_43</td>\n",
       "      <td>200</td>\n",
       "      <td>0.056075</td>\n",
       "    </tr>\n",
       "    <tr>\n",
       "      <th>18482</th>\n",
       "      <td>6.0</td>\n",
       "      <td>101.0</td>\n",
       "      <td>74.2_IEPP_0_T_35</td>\n",
       "      <td>200</td>\n",
       "      <td>0.056075</td>\n",
       "    </tr>\n",
       "    <tr>\n",
       "      <th>17715</th>\n",
       "      <td>11.0</td>\n",
       "      <td>195.0</td>\n",
       "      <td>50.3_ICS_0_M_25</td>\n",
       "      <td>200</td>\n",
       "      <td>0.053398</td>\n",
       "    </tr>\n",
       "    <tr>\n",
       "      <th>17714</th>\n",
       "      <td>11.0</td>\n",
       "      <td>195.0</td>\n",
       "      <td>50.3_ICS_0_M_19</td>\n",
       "      <td>200</td>\n",
       "      <td>0.053398</td>\n",
       "    </tr>\n",
       "    <tr>\n",
       "      <th>17713</th>\n",
       "      <td>10.0</td>\n",
       "      <td>196.0</td>\n",
       "      <td>50.3_ICS_0_M_16</td>\n",
       "      <td>200</td>\n",
       "      <td>0.048544</td>\n",
       "    </tr>\n",
       "    <tr>\n",
       "      <th>18477</th>\n",
       "      <td>5.0</td>\n",
       "      <td>102.0</td>\n",
       "      <td>74.2_IBCPP_0_T_32</td>\n",
       "      <td>200</td>\n",
       "      <td>0.046729</td>\n",
       "    </tr>\n",
       "    <tr>\n",
       "      <th>18678</th>\n",
       "      <td>5.0</td>\n",
       "      <td>102.0</td>\n",
       "      <td>76.2_IC_0_T_15</td>\n",
       "      <td>200</td>\n",
       "      <td>0.046729</td>\n",
       "    </tr>\n",
       "    <tr>\n",
       "      <th>18488</th>\n",
       "      <td>5.0</td>\n",
       "      <td>102.0</td>\n",
       "      <td>74.2_IIPABC_0_T_50</td>\n",
       "      <td>200</td>\n",
       "      <td>0.046729</td>\n",
       "    </tr>\n",
       "    <tr>\n",
       "      <th>18679</th>\n",
       "      <td>4.0</td>\n",
       "      <td>103.0</td>\n",
       "      <td>76.2_IPABC_0_T_36</td>\n",
       "      <td>200</td>\n",
       "      <td>0.037383</td>\n",
       "    </tr>\n",
       "    <tr>\n",
       "      <th>18485</th>\n",
       "      <td>4.0</td>\n",
       "      <td>103.0</td>\n",
       "      <td>74.2_IIBCO_0_T_32</td>\n",
       "      <td>200</td>\n",
       "      <td>0.037383</td>\n",
       "    </tr>\n",
       "    <tr>\n",
       "      <th>18486</th>\n",
       "      <td>4.0</td>\n",
       "      <td>103.0</td>\n",
       "      <td>74.2_IIBCVAPR_0_T_58</td>\n",
       "      <td>200</td>\n",
       "      <td>0.037383</td>\n",
       "    </tr>\n",
       "    <tr>\n",
       "      <th>796</th>\n",
       "      <td>2.0</td>\n",
       "      <td>56.0</td>\n",
       "      <td>112.2_ICMMR_2004_T_45</td>\n",
       "      <td>200</td>\n",
       "      <td>0.034483</td>\n",
       "    </tr>\n",
       "    <tr>\n",
       "      <th>18489</th>\n",
       "      <td>3.0</td>\n",
       "      <td>104.0</td>\n",
       "      <td>74.2_IIBI_0_T_36</td>\n",
       "      <td>200</td>\n",
       "      <td>0.028037</td>\n",
       "    </tr>\n",
       "    <tr>\n",
       "      <th>18677</th>\n",
       "      <td>3.0</td>\n",
       "      <td>104.0</td>\n",
       "      <td>76.2_IBI_0_T_22</td>\n",
       "      <td>200</td>\n",
       "      <td>0.028037</td>\n",
       "    </tr>\n",
       "    <tr>\n",
       "      <th>18676</th>\n",
       "      <td>3.0</td>\n",
       "      <td>104.0</td>\n",
       "      <td>76.2_IBC_0_T_18</td>\n",
       "      <td>200</td>\n",
       "      <td>0.028037</td>\n",
       "    </tr>\n",
       "    <tr>\n",
       "      <th>18484</th>\n",
       "      <td>2.0</td>\n",
       "      <td>105.0</td>\n",
       "      <td>74.2_IIBCA_0_T_32</td>\n",
       "      <td>200</td>\n",
       "      <td>0.018692</td>\n",
       "    </tr>\n",
       "    <tr>\n",
       "      <th>18490</th>\n",
       "      <td>2.0</td>\n",
       "      <td>105.0</td>\n",
       "      <td>74.2_IIR_0_T_23</td>\n",
       "      <td>200</td>\n",
       "      <td>0.018692</td>\n",
       "    </tr>\n",
       "    <tr>\n",
       "      <th>18680</th>\n",
       "      <td>2.0</td>\n",
       "      <td>105.0</td>\n",
       "      <td>76.2_IR_0_T_9</td>\n",
       "      <td>200</td>\n",
       "      <td>0.018692</td>\n",
       "    </tr>\n",
       "    <tr>\n",
       "      <th>18675</th>\n",
       "      <td>2.0</td>\n",
       "      <td>105.0</td>\n",
       "      <td>76.2_IBCA_0_T_18</td>\n",
       "      <td>200</td>\n",
       "      <td>0.018692</td>\n",
       "    </tr>\n",
       "    <tr>\n",
       "      <th>3067</th>\n",
       "      <td>3.0</td>\n",
       "      <td>336.0</td>\n",
       "      <td>162.3_XDAEDA_0_0_6</td>\n",
       "      <td>200</td>\n",
       "      <td>0.008850</td>\n",
       "    </tr>\n",
       "    <tr>\n",
       "      <th>18667</th>\n",
       "      <td>2.0</td>\n",
       "      <td>320.0</td>\n",
       "      <td>75.3_ITM_0_M_13</td>\n",
       "      <td>200</td>\n",
       "      <td>0.006211</td>\n",
       "    </tr>\n",
       "    <tr>\n",
       "      <th>18638</th>\n",
       "      <td>2.0</td>\n",
       "      <td>320.0</td>\n",
       "      <td>75.3_IETPP_0_M_43</td>\n",
       "      <td>200</td>\n",
       "      <td>0.006211</td>\n",
       "    </tr>\n",
       "    <tr>\n",
       "      <th>18663</th>\n",
       "      <td>2.0</td>\n",
       "      <td>320.0</td>\n",
       "      <td>75.3_ITCE_0_M_30</td>\n",
       "      <td>200</td>\n",
       "      <td>0.006211</td>\n",
       "    </tr>\n",
       "    <tr>\n",
       "      <th>18665</th>\n",
       "      <td>2.0</td>\n",
       "      <td>320.0</td>\n",
       "      <td>75.3_ITMOA_0_M_13</td>\n",
       "      <td>200</td>\n",
       "      <td>0.006211</td>\n",
       "    </tr>\n",
       "  </tbody>\n",
       "</table>\n",
       "<p>2572 rows × 5 columns</p>\n",
       "</div>"
      ],
      "text/plain": [
       "       error     ok                 serie_id status_code  error_pct\n",
       "343     20.0    0.0     10.1_VIPAA_1993_A_31         200   1.000000\n",
       "10953   18.0    0.0  367.2_EPEC_DISTRDOR__17         200   1.000000\n",
       "10947   18.0    0.0  367.2_EMP_DIST_EICA__24         200   1.000000\n",
       "10948   18.0    0.0  367.2_EMP_ELECTR_SA__24         200   1.000000\n",
       "10949   18.0    0.0  367.2_ENERGIA_DES.A__24         200   1.000000\n",
       "10950   18.0    0.0  367.2_ENERGIA_DE_SA__21         200   1.000000\n",
       "10951   18.0    0.0  367.2_ENERGIA_DE_SA__24         200   1.000000\n",
       "10952   18.0    0.0  367.2_ENERGIA_SASSA__28         200   1.000000\n",
       "10954   18.0    0.0  367.2_EPEN_DISTRDOR__17         200   1.000000\n",
       "10945   18.0    0.0  367.2_EMP_DE_ENE_SA__30         200   1.000000\n",
       "10955   18.0    0.0  367.2_EPESF_DISTDOR__18         200   1.000000\n",
       "10956   55.0    0.0  367.2_GRANDES_USIOS__16         200   1.000000\n",
       "10958   18.0    0.0  367.2_RECURSOS_Y_SA__29         200   1.000000\n",
       "10959   18.0    0.0      367.2_SECHEEPEEP__7         200   1.000000\n",
       "10960   18.0    0.0  367.2_SPSE_SANTARUZ__15         200   1.000000\n",
       "10962  166.0    0.0  367.3_COMERCIO_ERIA__20         200   1.000000\n",
       "10946   18.0    0.0  367.2_EMP_DIST_ELTA__25         200   1.000000\n",
       "10944   18.0    0.0  367.2_EMPRESA_JU_SA__29         200   1.000000\n",
       "10921    3.0    0.0  367.1_POTENCIA_IGAS__25         200   1.000000\n",
       "10934   55.0    0.0  367.2_COMERCIO_ERIA__20         200   1.000000\n",
       "10924    7.0    0.0  367.1_POTENCIA_ILAR__24         200   1.000000\n",
       "10927   16.0    0.0  367.1_POTENCIA_ITAL__24         200   1.000000\n",
       "10928    4.0    0.0  367.1_RECURSOS_Y_SA__29         200   1.000000\n",
       "10930    4.0    0.0      367.1_SECHEEPEEP__7         200   1.000000\n",
       "10931    4.0    0.0  367.1_SPSE_SANTARUZ__15         200   1.000000\n",
       "10933   55.0    0.0  367.2_DEMANDA_REIAL__19         200   1.000000\n",
       "10935   18.0    0.0    367.2_EDELAP_SA_SA__9         200   1.000000\n",
       "10943   18.0    0.0  367.2_EMP._DE_EN_SA__30         200   1.000000\n",
       "10936   18.0    0.0  367.2_EDENOR_DISDOR__19         200   1.000000\n",
       "10938   18.0    0.0  367.2_EDESAL_DISDOR__19         200   1.000000\n",
       "...      ...    ...                      ...         ...        ...\n",
       "18480    7.0  100.0        74.2_IEMOA_0_T_48         200   0.065421\n",
       "18481    7.0  100.0        74.2_IEMOI_0_T_46         200   0.065421\n",
       "18598    7.0  100.0        75.2_ITMOA_0_T_13         200   0.065421\n",
       "18599    7.0  100.0          75.2_ITM_0_T_13         200   0.065421\n",
       "3925     6.0   92.0  170.1_MFACTURRIO_0_0_32         200   0.061224\n",
       "18487    6.0  101.0         74.2_IICL_0_T_42         200   0.056075\n",
       "18585    6.0  101.0        75.2_IETPP_0_T_43         200   0.056075\n",
       "18482    6.0  101.0         74.2_IEPP_0_T_35         200   0.056075\n",
       "17715   11.0  195.0          50.3_ICS_0_M_25         200   0.053398\n",
       "17714   11.0  195.0          50.3_ICS_0_M_19         200   0.053398\n",
       "17713   10.0  196.0          50.3_ICS_0_M_16         200   0.048544\n",
       "18477    5.0  102.0        74.2_IBCPP_0_T_32         200   0.046729\n",
       "18678    5.0  102.0           76.2_IC_0_T_15         200   0.046729\n",
       "18488    5.0  102.0       74.2_IIPABC_0_T_50         200   0.046729\n",
       "18679    4.0  103.0        76.2_IPABC_0_T_36         200   0.037383\n",
       "18485    4.0  103.0        74.2_IIBCO_0_T_32         200   0.037383\n",
       "18486    4.0  103.0     74.2_IIBCVAPR_0_T_58         200   0.037383\n",
       "796      2.0   56.0    112.2_ICMMR_2004_T_45         200   0.034483\n",
       "18489    3.0  104.0         74.2_IIBI_0_T_36         200   0.028037\n",
       "18677    3.0  104.0          76.2_IBI_0_T_22         200   0.028037\n",
       "18676    3.0  104.0          76.2_IBC_0_T_18         200   0.028037\n",
       "18484    2.0  105.0        74.2_IIBCA_0_T_32         200   0.018692\n",
       "18490    2.0  105.0          74.2_IIR_0_T_23         200   0.018692\n",
       "18680    2.0  105.0            76.2_IR_0_T_9         200   0.018692\n",
       "18675    2.0  105.0         76.2_IBCA_0_T_18         200   0.018692\n",
       "3067     3.0  336.0       162.3_XDAEDA_0_0_6         200   0.008850\n",
       "18667    2.0  320.0          75.3_ITM_0_M_13         200   0.006211\n",
       "18638    2.0  320.0        75.3_IETPP_0_M_43         200   0.006211\n",
       "18663    2.0  320.0         75.3_ITCE_0_M_30         200   0.006211\n",
       "18665    2.0  320.0        75.3_ITMOA_0_M_13         200   0.006211\n",
       "\n",
       "[2572 rows x 5 columns]"
      ]
     },
     "execution_count": 105,
     "metadata": {},
     "output_type": "execute_result"
    }
   ],
   "source": [
    "df_results[\n",
    "    (df_results.error_pct > 0.0001) & \n",
    "    (df_results.error > 1.0)\n",
    "].sort_values(\"error_pct\", ascending=False)"
   ]
  },
  {
   "cell_type": "markdown",
   "metadata": {},
   "source": [
    "### Cambio absoluto"
   ]
  },
  {
   "cell_type": "code",
   "execution_count": 16,
   "metadata": {},
   "outputs": [],
   "source": [
    "api_csv = api_call(serie, representation_mode='change')"
   ]
  },
  {
   "cell_type": "code",
   "execution_count": 17,
   "metadata": {},
   "outputs": [],
   "source": [
    "orig_csv_change, title = get_source_csv(serie)\n",
    "orig_csv_change[title] = orig_csv_change[title].diff(1)\n",
    "orig_csv_change = orig_csv_change[:len(api_csv)]"
   ]
  },
  {
   "cell_type": "code",
   "execution_count": 18,
   "metadata": {},
   "outputs": [
    {
     "data": {
      "text/plain": [
       "True    56\n",
       "dtype: int64"
      ]
     },
     "execution_count": 18,
     "metadata": {},
     "output_type": "execute_result"
    }
   ],
   "source": [
    "equality_check = np.isclose(orig_csv_change[title], api_csv[title], equal_nan=True)\n",
    "equal_df = pd.Series(equality_check)\n",
    "\n",
    "equal_df.value_counts()"
   ]
  },
  {
   "cell_type": "markdown",
   "metadata": {},
   "source": [
    "### Cambio porcentual"
   ]
  },
  {
   "cell_type": "code",
   "execution_count": 19,
   "metadata": {},
   "outputs": [],
   "source": [
    "api_csv = api_call(serie, representation_mode='percent_change')"
   ]
  },
  {
   "cell_type": "code",
   "execution_count": 20,
   "metadata": {},
   "outputs": [],
   "source": [
    "orig_csv_pct_change, title = get_source_csv(serie)\n",
    "orig_csv_pct_change[title] = orig_csv_pct_change[title].pct_change()\n",
    "orig_csv_pct_change = orig_csv_pct_change[:len(api_csv)]"
   ]
  },
  {
   "cell_type": "code",
   "execution_count": 21,
   "metadata": {
    "scrolled": true
   },
   "outputs": [
    {
     "data": {
      "text/plain": [
       "True    56\n",
       "dtype: int64"
      ]
     },
     "execution_count": 21,
     "metadata": {},
     "output_type": "execute_result"
    }
   ],
   "source": [
    "equality_check = np.isclose(orig_csv_pct_change[title], api_csv[title], equal_nan=True)\n",
    "equal_df = pd.Series(equality_check)\n",
    "\n",
    "equal_df.value_counts()"
   ]
  },
  {
   "cell_type": "markdown",
   "metadata": {},
   "source": [
    "### Colapsos de datos\n",
    "\n",
    "Aplico las agregaciones máximo y mínimos de la API, y también al CSV original con pandas. Comparo los resultados"
   ]
  },
  {
   "cell_type": "code",
   "execution_count": 22,
   "metadata": {},
   "outputs": [
    {
     "data": {
      "text/html": [
       "<div>\n",
       "<style scoped>\n",
       "    .dataframe tbody tr th:only-of-type {\n",
       "        vertical-align: middle;\n",
       "    }\n",
       "\n",
       "    .dataframe tbody tr th {\n",
       "        vertical-align: top;\n",
       "    }\n",
       "\n",
       "    .dataframe thead th {\n",
       "        text-align: right;\n",
       "    }\n",
       "</style>\n",
       "<table border=\"1\" class=\"dataframe\">\n",
       "  <thead>\n",
       "    <tr style=\"text-align: right;\">\n",
       "      <th></th>\n",
       "      <th>gtos_cap_transf_cap_ot_1993_2006</th>\n",
       "      <th>api_max</th>\n",
       "    </tr>\n",
       "    <tr>\n",
       "      <th>indice_tiempo</th>\n",
       "      <th></th>\n",
       "      <th></th>\n",
       "    </tr>\n",
       "  </thead>\n",
       "  <tbody>\n",
       "    <tr>\n",
       "      <th>1993-01-01</th>\n",
       "      <td>16.0</td>\n",
       "      <td>16.0</td>\n",
       "    </tr>\n",
       "    <tr>\n",
       "      <th>1994-01-01</th>\n",
       "      <td>14.0</td>\n",
       "      <td>14.0</td>\n",
       "    </tr>\n",
       "    <tr>\n",
       "      <th>1995-01-01</th>\n",
       "      <td>33.7</td>\n",
       "      <td>33.7</td>\n",
       "    </tr>\n",
       "    <tr>\n",
       "      <th>1996-01-01</th>\n",
       "      <td>7.7</td>\n",
       "      <td>7.7</td>\n",
       "    </tr>\n",
       "    <tr>\n",
       "      <th>1997-01-01</th>\n",
       "      <td>21.4</td>\n",
       "      <td>21.4</td>\n",
       "    </tr>\n",
       "    <tr>\n",
       "      <th>1998-01-01</th>\n",
       "      <td>19.1</td>\n",
       "      <td>19.1</td>\n",
       "    </tr>\n",
       "    <tr>\n",
       "      <th>1999-01-01</th>\n",
       "      <td>16.5</td>\n",
       "      <td>16.5</td>\n",
       "    </tr>\n",
       "    <tr>\n",
       "      <th>2000-01-01</th>\n",
       "      <td>14.6</td>\n",
       "      <td>14.6</td>\n",
       "    </tr>\n",
       "    <tr>\n",
       "      <th>2001-01-01</th>\n",
       "      <td>9.6</td>\n",
       "      <td>9.6</td>\n",
       "    </tr>\n",
       "    <tr>\n",
       "      <th>2002-01-01</th>\n",
       "      <td>2.3</td>\n",
       "      <td>2.3</td>\n",
       "    </tr>\n",
       "    <tr>\n",
       "      <th>2003-01-01</th>\n",
       "      <td>4.1</td>\n",
       "      <td>4.1</td>\n",
       "    </tr>\n",
       "    <tr>\n",
       "      <th>2004-01-01</th>\n",
       "      <td>6.6</td>\n",
       "      <td>6.6</td>\n",
       "    </tr>\n",
       "    <tr>\n",
       "      <th>2005-01-01</th>\n",
       "      <td>10.0</td>\n",
       "      <td>10.0</td>\n",
       "    </tr>\n",
       "    <tr>\n",
       "      <th>2006-01-01</th>\n",
       "      <td>17.7</td>\n",
       "      <td>17.7</td>\n",
       "    </tr>\n",
       "  </tbody>\n",
       "</table>\n",
       "</div>"
      ],
      "text/plain": [
       "               gtos_cap_transf_cap_ot_1993_2006  api_max\n",
       "indice_tiempo                                           \n",
       "1993-01-01                                 16.0     16.0\n",
       "1994-01-01                                 14.0     14.0\n",
       "1995-01-01                                 33.7     33.7\n",
       "1996-01-01                                  7.7      7.7\n",
       "1997-01-01                                 21.4     21.4\n",
       "1998-01-01                                 19.1     19.1\n",
       "1999-01-01                                 16.5     16.5\n",
       "2000-01-01                                 14.6     14.6\n",
       "2001-01-01                                  9.6      9.6\n",
       "2002-01-01                                  2.3      2.3\n",
       "2003-01-01                                  4.1      4.1\n",
       "2004-01-01                                  6.6      6.6\n",
       "2005-01-01                                 10.0     10.0\n",
       "2006-01-01                                 17.7     17.7"
      ]
     },
     "execution_count": 22,
     "metadata": {},
     "output_type": "execute_result"
    }
   ],
   "source": [
    "api_max = api_call(serie, collapse='year', collapse_aggregation='max')\n",
    "api_max['api_max'] = api_max[title]\n",
    "del api_max[title]\n",
    "api_call(serie).resample('AS').apply(max).join(api_max)"
   ]
  },
  {
   "cell_type": "code",
   "execution_count": 23,
   "metadata": {},
   "outputs": [
    {
     "data": {
      "text/html": [
       "<div>\n",
       "<style scoped>\n",
       "    .dataframe tbody tr th:only-of-type {\n",
       "        vertical-align: middle;\n",
       "    }\n",
       "\n",
       "    .dataframe tbody tr th {\n",
       "        vertical-align: top;\n",
       "    }\n",
       "\n",
       "    .dataframe thead th {\n",
       "        text-align: right;\n",
       "    }\n",
       "</style>\n",
       "<table border=\"1\" class=\"dataframe\">\n",
       "  <thead>\n",
       "    <tr style=\"text-align: right;\">\n",
       "      <th></th>\n",
       "      <th>gtos_cap_transf_cap_ot_1993_2006</th>\n",
       "      <th>api_min</th>\n",
       "    </tr>\n",
       "    <tr>\n",
       "      <th>indice_tiempo</th>\n",
       "      <th></th>\n",
       "      <th></th>\n",
       "    </tr>\n",
       "  </thead>\n",
       "  <tbody>\n",
       "    <tr>\n",
       "      <th>1993-01-01</th>\n",
       "      <td>5.1</td>\n",
       "      <td>5.1</td>\n",
       "    </tr>\n",
       "    <tr>\n",
       "      <th>1994-01-01</th>\n",
       "      <td>8.7</td>\n",
       "      <td>8.7</td>\n",
       "    </tr>\n",
       "    <tr>\n",
       "      <th>1995-01-01</th>\n",
       "      <td>2.8</td>\n",
       "      <td>2.8</td>\n",
       "    </tr>\n",
       "    <tr>\n",
       "      <th>1996-01-01</th>\n",
       "      <td>3.5</td>\n",
       "      <td>3.5</td>\n",
       "    </tr>\n",
       "    <tr>\n",
       "      <th>1997-01-01</th>\n",
       "      <td>11.6</td>\n",
       "      <td>11.6</td>\n",
       "    </tr>\n",
       "    <tr>\n",
       "      <th>1998-01-01</th>\n",
       "      <td>11.0</td>\n",
       "      <td>11.0</td>\n",
       "    </tr>\n",
       "    <tr>\n",
       "      <th>1999-01-01</th>\n",
       "      <td>3.8</td>\n",
       "      <td>3.8</td>\n",
       "    </tr>\n",
       "    <tr>\n",
       "      <th>2000-01-01</th>\n",
       "      <td>1.2</td>\n",
       "      <td>1.2</td>\n",
       "    </tr>\n",
       "    <tr>\n",
       "      <th>2001-01-01</th>\n",
       "      <td>5.9</td>\n",
       "      <td>5.9</td>\n",
       "    </tr>\n",
       "    <tr>\n",
       "      <th>2002-01-01</th>\n",
       "      <td>0.2</td>\n",
       "      <td>0.2</td>\n",
       "    </tr>\n",
       "    <tr>\n",
       "      <th>2003-01-01</th>\n",
       "      <td>0.7</td>\n",
       "      <td>0.7</td>\n",
       "    </tr>\n",
       "    <tr>\n",
       "      <th>2004-01-01</th>\n",
       "      <td>2.7</td>\n",
       "      <td>2.7</td>\n",
       "    </tr>\n",
       "    <tr>\n",
       "      <th>2005-01-01</th>\n",
       "      <td>4.3</td>\n",
       "      <td>4.3</td>\n",
       "    </tr>\n",
       "    <tr>\n",
       "      <th>2006-01-01</th>\n",
       "      <td>4.8</td>\n",
       "      <td>4.8</td>\n",
       "    </tr>\n",
       "  </tbody>\n",
       "</table>\n",
       "</div>"
      ],
      "text/plain": [
       "               gtos_cap_transf_cap_ot_1993_2006  api_min\n",
       "indice_tiempo                                           \n",
       "1993-01-01                                  5.1      5.1\n",
       "1994-01-01                                  8.7      8.7\n",
       "1995-01-01                                  2.8      2.8\n",
       "1996-01-01                                  3.5      3.5\n",
       "1997-01-01                                 11.6     11.6\n",
       "1998-01-01                                 11.0     11.0\n",
       "1999-01-01                                  3.8      3.8\n",
       "2000-01-01                                  1.2      1.2\n",
       "2001-01-01                                  5.9      5.9\n",
       "2002-01-01                                  0.2      0.2\n",
       "2003-01-01                                  0.7      0.7\n",
       "2004-01-01                                  2.7      2.7\n",
       "2005-01-01                                  4.3      4.3\n",
       "2006-01-01                                  4.8      4.8"
      ]
     },
     "execution_count": 23,
     "metadata": {},
     "output_type": "execute_result"
    }
   ],
   "source": [
    "api_max = api_call(serie, collapse='year', collapse_aggregation='min')\n",
    "api_max['api_min'] = api_max[title]\n",
    "del api_max[title]\n",
    "api_call(serie).resample('AS').apply(min).join(api_max)"
   ]
  },
  {
   "cell_type": "markdown",
   "metadata": {},
   "source": [
    "### Metadata"
   ]
  },
  {
   "cell_type": "code",
   "execution_count": 24,
   "metadata": {},
   "outputs": [
    {
     "data": {
      "text/plain": [
       "catalogo_id                                                               sspm\n",
       "dataset_id                                                                 375\n",
       "distribucion_id                                                          375.4\n",
       "serie_id                                            375.4_GTOS_CAP_T006__32_51\n",
       "indice_tiempo_frecuencia                                                 R/P3M\n",
       "serie_titulo                                  gtos_cap_transf_cap_ot_1993_2006\n",
       "serie_unidades                                               Millones de pesos\n",
       "serie_descripcion            Gastos de capital transferencias de capital ot...\n",
       "distribucion_titulo          Organismos Descentralizados. Valores trimestra...\n",
       "distribucion_descripcion     Esquema Ahorro - Inversión - Financiamiento. O...\n",
       "distribucion_url_descarga    http://infra.datos.gob.ar/catalog/sspm/dataset...\n",
       "dataset_responsable              Subsecretaría de Programación Macroeconómica.\n",
       "dataset_fuente                                          Ministerio de Hacienda\n",
       "dataset_titulo               Esquema Ahorro - Inversión - Financimmiento. O...\n",
       "dataset_descripcion          Organismos Descentralizados. Datos en millones...\n",
       "dataset_tema                                                 Finanzas Públicas\n",
       "serie_indice_inicio                                                 1993-01-01\n",
       "serie_indice_final                                                  2006-10-01\n",
       "serie_valores_cant                                                          56\n",
       "serie_dias_no_cubiertos                                                   4191\n",
       "serie_actualizada                                                        False\n",
       "serie_valor_ultimo                                                         8.5\n",
       "serie_valor_anterior                                                        15\n",
       "serie_var_pct_anterior                                               -0.433333\n",
       "Name: 13333, dtype: object"
      ]
     },
     "execution_count": 24,
     "metadata": {},
     "output_type": "execute_result"
    }
   ],
   "source": [
    "orig_meta = series_metadata.iloc[serie_idx]\n",
    "orig_meta"
   ]
  },
  {
   "cell_type": "code",
   "execution_count": 25,
   "metadata": {},
   "outputs": [],
   "source": [
    "metadata = requests.get(ENDPOINT_URL, params={'ids': serie, 'metadata': 'full'}).json()"
   ]
  },
  {
   "cell_type": "code",
   "execution_count": 26,
   "metadata": {},
   "outputs": [
    {
     "data": {
      "text/plain": [
       "{'frequency': 'quarter', 'start_date': '1993-01-01', 'end_date': '2006-10-01'}"
      ]
     },
     "execution_count": 26,
     "metadata": {},
     "output_type": "execute_result"
    }
   ],
   "source": [
    "# Metadatos del índice de tiempo\n",
    "metadata['meta'][0]"
   ]
  },
  {
   "cell_type": "code",
   "execution_count": 27,
   "metadata": {
    "scrolled": true
   },
   "outputs": [
    {
     "data": {
      "text/plain": [
       "{'catalog': {'publisher': {'mbox': 'datoseconomicos@mecon.gov.ar',\n",
       "   'name': 'Subsecretaría de Programación Macroeconómica.'},\n",
       "  'license': 'Creative Commons Attribution 4.0',\n",
       "  'description': 'Catálogo de datos abiertos de la Subsecretaría de Programación Macroeconómica.',\n",
       "  'language': ['SPA'],\n",
       "  'superThemeTaxonomy': 'http://datos.gob.ar/superThemeTaxonomy.json',\n",
       "  'issued': '2017-09-28',\n",
       "  'rights': '2017-09-28',\n",
       "  'modified': '2017-09-28',\n",
       "  'spatial': 'ARG',\n",
       "  'title': 'Datos Programación Macroeconómica',\n",
       "  'identifier': 'sspm'},\n",
       " 'dataset': {'publisher': {'mbox': 'datoseconomicos@mecon.gov.ar',\n",
       "   'name': 'Subsecretaría de Programación Macroeconómica.'},\n",
       "  'landingPage': 'http://www.minhacienda.gob.ar/secretarias/politica-economica/programacion-macroeconomica/',\n",
       "  'keyword': ['Información Económica al Día', 'Finanzas Públicas'],\n",
       "  'superTheme': ['ECON'],\n",
       "  'title': 'Esquema Ahorro - Inversión - Financimmiento. Organismos Descentralizados. Base Caja.',\n",
       "  'language': ['SPA'],\n",
       "  'issued': '2018-01-09',\n",
       "  'temporal': '1993-01-01/2017-12-01',\n",
       "  'source': 'Ministerio de Hacienda',\n",
       "  'theme': ['fiscal'],\n",
       "  'accrualPeriodicity': 'R/P1M',\n",
       "  'spatial': 'ARG',\n",
       "  'identifier': '375',\n",
       "  'license': 'Creative Commons Attribution 4.0',\n",
       "  'contactPoint': {'fn': 'Subsecretaría de Programación Macroeconómica.'},\n",
       "  'accessLevel': 'ABIERTO',\n",
       "  'description': 'Organismos Descentralizados. Datos en millones de pesos'},\n",
       " 'distribution': {'accessURL': 'https://www.minhacienda.gob.ar/secretarias/politica-economica/programacion-macroeconomica/',\n",
       "  'description': 'Esquema Ahorro - Inversión - Financiamiento. Organismos Descentralizados. Valores trimestrales 1993-2006. En millones de pesos.',\n",
       "  'format': 'CSV',\n",
       "  'dataset_identifier': '375',\n",
       "  'issued': '2018-01-09',\n",
       "  'title': 'Organismos Descentralizados. Valores trimestrales 1993-2006',\n",
       "  'fileName': 'organismos-descentralizados-valores-trimestrales-93-06.csv',\n",
       "  'downloadURL': 'http://infra.datos.gob.ar/catalog/sspm/dataset/375/distribution/375.4/download/organismos-descentralizados-valores-trimestrales-93-06.csv',\n",
       "  'identifier': '375.4',\n",
       "  'scrapingFileURL': 'https://www.economia.gob.ar/download/infoeco/apendice6.xlsx'},\n",
       " 'field': {'distribution_identifier': '375.4',\n",
       "  'description': 'Gastos de capital transferencias de capital otras . Metodología 1993 - 2006',\n",
       "  'title': 'gtos_cap_transf_cap_ot_1993_2006',\n",
       "  'dataset_identifier': '375',\n",
       "  'units': 'Millones de pesos',\n",
       "  'type': 'number',\n",
       "  'id': '375.4_GTOS_CAP_T006__32_51'}}"
      ]
     },
     "execution_count": 27,
     "metadata": {},
     "output_type": "execute_result"
    }
   ],
   "source": [
    "serie_meta = metadata['meta'][1]\n",
    "serie_meta"
   ]
  },
  {
   "cell_type": "markdown",
   "metadata": {},
   "source": [
    "Comprobamos que los metadatos de la API sean iguales a los originales"
   ]
  },
  {
   "cell_type": "code",
   "execution_count": 36,
   "metadata": {},
   "outputs": [],
   "source": [
    "def compare_metadata(serie_meta, original_meta, equivalent_dict_keys):\n",
    "    comparisons = []\n",
    "    for key, value in equivalent_dict_keys.items():\n",
    "        if isinstance(value, dict):\n",
    "            for api_key, original_key in value.items():\n",
    "                print(key, api_key, original_key)\n",
    "                comparison = str(serie_meta[key][api_key]) == str(original_meta[original_key])\n",
    "                comparisons.append(\n",
    "                    '{} {} == {}: {} ({} {})'.format(key, api_key, original_key, comparison, serie_meta[key][api_key], original_meta[original_key]))\n",
    "    return comparisons\n",
    "    "
   ]
  },
  {
   "cell_type": "code",
   "execution_count": 39,
   "metadata": {},
   "outputs": [
    {
     "name": "stdout",
     "output_type": "stream",
     "text": [
      "catalog identifier catalogo_id\n",
      "dataset identifier dataset_id\n",
      "dataset accrualPeriodicity indice_tiempo_frecuencia\n",
      "distribution identifier distribucion_id\n",
      "field id serie_id\n"
     ]
    },
    {
     "data": {
      "text/plain": [
       "['catalog identifier == catalogo_id: True (sspm sspm)',\n",
       " 'dataset identifier == dataset_id: True (375 375)',\n",
       " 'dataset accrualPeriodicity == indice_tiempo_frecuencia: False (R/P1M R/P3M)',\n",
       " 'distribution identifier == distribucion_id: True (375.4 375.4)',\n",
       " 'field id == serie_id: True (375.4_GTOS_CAP_T006__32_51 375.4_GTOS_CAP_T006__32_51)']"
      ]
     },
     "execution_count": 39,
     "metadata": {},
     "output_type": "execute_result"
    }
   ],
   "source": [
    "keys = {\n",
    "    'catalog': {\n",
    "        'identifier': 'catalogo_id',\n",
    "    },\n",
    "    'dataset': {\n",
    "        'identifier': 'dataset_id',\n",
    "    },\n",
    "    'distribution': {\n",
    "        'identifier': 'distribucion_id',\n",
    "        'accrualPeriodicity': 'indice_tiempo_frecuencia',\n",
    "    },\n",
    "    'field': {\n",
    "        'id': 'serie_id',\n",
    "    },\n",
    "}\n",
    "\n",
    "compare_metadata(serie_meta, orig_meta, keys)"
   ]
  }
 ],
 "metadata": {
  "kernelspec": {
   "display_name": "Python 3",
   "language": "python",
   "name": "python3"
  },
  "language_info": {
   "codemirror_mode": {
    "name": "ipython",
    "version": 3
   },
   "file_extension": ".py",
   "mimetype": "text/x-python",
   "name": "python",
   "nbconvert_exporter": "python",
   "pygments_lexer": "ipython3",
   "version": "3.5.5"
  },
  "toc": {
   "colors": {
    "hover_highlight": "#DAA520",
    "running_highlight": "#FF0000",
    "selected_highlight": "#FFD700"
   },
   "moveMenuLeft": true,
   "nav_menu": {
    "height": "246px",
    "width": "252px"
   },
   "navigate_menu": true,
   "number_sections": true,
   "sideBar": true,
   "threshold": 4,
   "toc_cell": false,
   "toc_section_display": "block",
   "toc_window_display": false
  }
 },
 "nbformat": 4,
 "nbformat_minor": 2
}
