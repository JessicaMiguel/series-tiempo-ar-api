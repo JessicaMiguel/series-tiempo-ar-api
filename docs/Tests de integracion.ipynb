{
 "cells": [
  {
   "cell_type": "markdown",
   "metadata": {},
   "source": [
    "# Tests de funcionalidad de la API de series de tiempo"
   ]
  },
  {
   "cell_type": "code",
   "execution_count": 5,
   "metadata": {},
   "outputs": [],
   "source": [
    "import os\n",
    "import pandas as pd\n",
    "import numpy as np\n",
    "import requests\n",
    "from io import StringIO"
   ]
  },
  {
   "cell_type": "markdown",
   "metadata": {},
   "source": [
    "## Variables\n",
    "\n",
    "**Obligatorio**: setear la variable de entorno API_URL o setear la variable BASE_URL al ambiente de la API que se quiere probar"
   ]
  },
  {
   "cell_type": "code",
   "execution_count": 14,
   "metadata": {},
   "outputs": [],
   "source": [
    "BASE_URL = \"http://186.33.215.34/\"\n",
    "METADATA_URL = 'http://infra.datos.gob.ar/catalog/modernizacion/dataset/1/distribution/1.2/download/series-tiempo-metadatos.csv'\n",
    "ENDPOINT_URL = BASE_URL + 'series/api/series/'"
   ]
  },
  {
   "cell_type": "code",
   "execution_count": 15,
   "metadata": {},
   "outputs": [
    {
     "data": {
      "text/html": [
       "<div>\n",
       "<style scoped>\n",
       "    .dataframe tbody tr th:only-of-type {\n",
       "        vertical-align: middle;\n",
       "    }\n",
       "\n",
       "    .dataframe tbody tr th {\n",
       "        vertical-align: top;\n",
       "    }\n",
       "\n",
       "    .dataframe thead th {\n",
       "        text-align: right;\n",
       "    }\n",
       "</style>\n",
       "<table border=\"1\" class=\"dataframe\">\n",
       "  <thead>\n",
       "    <tr style=\"text-align: right;\">\n",
       "      <th></th>\n",
       "      <th>catalogo_id</th>\n",
       "      <th>dataset_id</th>\n",
       "      <th>distribucion_id</th>\n",
       "      <th>serie_id</th>\n",
       "      <th>indice_tiempo_frecuencia</th>\n",
       "      <th>serie_titulo</th>\n",
       "      <th>serie_unidades</th>\n",
       "      <th>serie_descripcion</th>\n",
       "      <th>distribucion_titulo</th>\n",
       "      <th>distribucion_descripcion</th>\n",
       "      <th>...</th>\n",
       "      <th>dataset_descripcion</th>\n",
       "      <th>dataset_tema</th>\n",
       "      <th>serie_indice_inicio</th>\n",
       "      <th>serie_indice_final</th>\n",
       "      <th>serie_valores_cant</th>\n",
       "      <th>serie_dias_no_cubiertos</th>\n",
       "      <th>serie_actualizada</th>\n",
       "      <th>serie_valor_ultimo</th>\n",
       "      <th>serie_valor_anterior</th>\n",
       "      <th>serie_var_pct_anterior</th>\n",
       "    </tr>\n",
       "  </thead>\n",
       "  <tbody>\n",
       "    <tr>\n",
       "      <th>20190</th>\n",
       "      <td>sspm</td>\n",
       "      <td>99</td>\n",
       "      <td>99.3</td>\n",
       "      <td>99.3_ING_2008_0_17</td>\n",
       "      <td>R/P1M</td>\n",
       "      <td>ipc_nivel_general</td>\n",
       "      <td>Índice abr-2008=100</td>\n",
       "      <td>Índice de precios al consumidor nivel general....</td>\n",
       "      <td>Índice de Precios al Consumidor, por grupos. D...</td>\n",
       "      <td>Índice de Precios al Consumidor. Apertura por ...</td>\n",
       "      <td>...</td>\n",
       "      <td>Índice de Precios al Consumidor. Apertura por ...</td>\n",
       "      <td>Precios</td>\n",
       "      <td>2006-12-01</td>\n",
       "      <td>2013-12-01</td>\n",
       "      <td>85</td>\n",
       "      <td>1633</td>\n",
       "      <td>False</td>\n",
       "      <td>166.840000</td>\n",
       "      <td>164.510000</td>\n",
       "      <td>0.014163</td>\n",
       "    </tr>\n",
       "    <tr>\n",
       "      <th>20191</th>\n",
       "      <td>sspm</td>\n",
       "      <td>99</td>\n",
       "      <td>99.3</td>\n",
       "      <td>99.3_IR_2008_0_13</td>\n",
       "      <td>R/P1M</td>\n",
       "      <td>ipc_regulados</td>\n",
       "      <td>Índice abr-2008=100</td>\n",
       "      <td>Índice de precios al consumidor regulados. Val...</td>\n",
       "      <td>Índice de Precios al Consumidor, por grupos. D...</td>\n",
       "      <td>Índice de Precios al Consumidor. Apertura por ...</td>\n",
       "      <td>...</td>\n",
       "      <td>Índice de Precios al Consumidor. Apertura por ...</td>\n",
       "      <td>Precios</td>\n",
       "      <td>2006-12-01</td>\n",
       "      <td>2013-12-01</td>\n",
       "      <td>85</td>\n",
       "      <td>1633</td>\n",
       "      <td>False</td>\n",
       "      <td>161.040000</td>\n",
       "      <td>159.290000</td>\n",
       "      <td>0.010986</td>\n",
       "    </tr>\n",
       "    <tr>\n",
       "      <th>20192</th>\n",
       "      <td>sspm</td>\n",
       "      <td>99</td>\n",
       "      <td>99.3</td>\n",
       "      <td>99.3_IR_2008_0_9</td>\n",
       "      <td>R/P1M</td>\n",
       "      <td>ipc_resto</td>\n",
       "      <td>Índice abr-2008=100</td>\n",
       "      <td>Índice de precios al consumidor IPC resto. Val...</td>\n",
       "      <td>Índice de Precios al Consumidor, por grupos. D...</td>\n",
       "      <td>Índice de Precios al Consumidor. Apertura por ...</td>\n",
       "      <td>...</td>\n",
       "      <td>Índice de Precios al Consumidor. Apertura por ...</td>\n",
       "      <td>Precios</td>\n",
       "      <td>2006-12-01</td>\n",
       "      <td>2013-12-01</td>\n",
       "      <td>85</td>\n",
       "      <td>1633</td>\n",
       "      <td>False</td>\n",
       "      <td>161.740000</td>\n",
       "      <td>159.250000</td>\n",
       "      <td>0.015636</td>\n",
       "    </tr>\n",
       "    <tr>\n",
       "      <th>20193</th>\n",
       "      <td>sspm</td>\n",
       "      <td>99</td>\n",
       "      <td>99.3</td>\n",
       "      <td>99.3_PREIR_2008_0_40</td>\n",
       "      <td>R/P1M</td>\n",
       "      <td>precios_relativos_estacionales_ipc_resto</td>\n",
       "      <td>Índice abr-2008=100</td>\n",
       "      <td>Índice de precios al consumidor precios relati...</td>\n",
       "      <td>Índice de Precios al Consumidor, por grupos. D...</td>\n",
       "      <td>Índice de Precios al Consumidor. Apertura por ...</td>\n",
       "      <td>...</td>\n",
       "      <td>Índice de Precios al Consumidor. Apertura por ...</td>\n",
       "      <td>Precios</td>\n",
       "      <td>2006-12-01</td>\n",
       "      <td>2013-12-01</td>\n",
       "      <td>85</td>\n",
       "      <td>1633</td>\n",
       "      <td>False</td>\n",
       "      <td>137.591196</td>\n",
       "      <td>138.411303</td>\n",
       "      <td>-0.005925</td>\n",
       "    </tr>\n",
       "    <tr>\n",
       "      <th>20194</th>\n",
       "      <td>sspm</td>\n",
       "      <td>99</td>\n",
       "      <td>99.3</td>\n",
       "      <td>99.3_PRRIR_2008_0_37</td>\n",
       "      <td>R/P1M</td>\n",
       "      <td>precios_relativos_regulados_ipc_resto</td>\n",
       "      <td>Índice abr-2008=100</td>\n",
       "      <td>Índice de precios al consumidor precios relati...</td>\n",
       "      <td>Índice de Precios al Consumidor, por grupos. D...</td>\n",
       "      <td>Índice de Precios al Consumidor. Apertura por ...</td>\n",
       "      <td>...</td>\n",
       "      <td>Índice de Precios al Consumidor. Apertura por ...</td>\n",
       "      <td>Precios</td>\n",
       "      <td>2006-12-01</td>\n",
       "      <td>2013-12-01</td>\n",
       "      <td>85</td>\n",
       "      <td>1633</td>\n",
       "      <td>False</td>\n",
       "      <td>99.567207</td>\n",
       "      <td>100.025118</td>\n",
       "      <td>-0.004578</td>\n",
       "    </tr>\n",
       "  </tbody>\n",
       "</table>\n",
       "<p>5 rows × 24 columns</p>\n",
       "</div>"
      ],
      "text/plain": [
       "      catalogo_id  dataset_id  distribucion_id              serie_id  \\\n",
       "20190        sspm          99             99.3    99.3_ING_2008_0_17   \n",
       "20191        sspm          99             99.3     99.3_IR_2008_0_13   \n",
       "20192        sspm          99             99.3      99.3_IR_2008_0_9   \n",
       "20193        sspm          99             99.3  99.3_PREIR_2008_0_40   \n",
       "20194        sspm          99             99.3  99.3_PRRIR_2008_0_37   \n",
       "\n",
       "      indice_tiempo_frecuencia                              serie_titulo  \\\n",
       "20190                    R/P1M                         ipc_nivel_general   \n",
       "20191                    R/P1M                             ipc_regulados   \n",
       "20192                    R/P1M                                 ipc_resto   \n",
       "20193                    R/P1M  precios_relativos_estacionales_ipc_resto   \n",
       "20194                    R/P1M     precios_relativos_regulados_ipc_resto   \n",
       "\n",
       "            serie_unidades                                  serie_descripcion  \\\n",
       "20190  Índice abr-2008=100  Índice de precios al consumidor nivel general....   \n",
       "20191  Índice abr-2008=100  Índice de precios al consumidor regulados. Val...   \n",
       "20192  Índice abr-2008=100  Índice de precios al consumidor IPC resto. Val...   \n",
       "20193  Índice abr-2008=100  Índice de precios al consumidor precios relati...   \n",
       "20194  Índice abr-2008=100  Índice de precios al consumidor precios relati...   \n",
       "\n",
       "                                     distribucion_titulo  \\\n",
       "20190  Índice de Precios al Consumidor, por grupos. D...   \n",
       "20191  Índice de Precios al Consumidor, por grupos. D...   \n",
       "20192  Índice de Precios al Consumidor, por grupos. D...   \n",
       "20193  Índice de Precios al Consumidor, por grupos. D...   \n",
       "20194  Índice de Precios al Consumidor, por grupos. D...   \n",
       "\n",
       "                                distribucion_descripcion  \\\n",
       "20190  Índice de Precios al Consumidor. Apertura por ...   \n",
       "20191  Índice de Precios al Consumidor. Apertura por ...   \n",
       "20192  Índice de Precios al Consumidor. Apertura por ...   \n",
       "20193  Índice de Precios al Consumidor. Apertura por ...   \n",
       "20194  Índice de Precios al Consumidor. Apertura por ...   \n",
       "\n",
       "                ...            \\\n",
       "20190           ...             \n",
       "20191           ...             \n",
       "20192           ...             \n",
       "20193           ...             \n",
       "20194           ...             \n",
       "\n",
       "                                     dataset_descripcion dataset_tema  \\\n",
       "20190  Índice de Precios al Consumidor. Apertura por ...      Precios   \n",
       "20191  Índice de Precios al Consumidor. Apertura por ...      Precios   \n",
       "20192  Índice de Precios al Consumidor. Apertura por ...      Precios   \n",
       "20193  Índice de Precios al Consumidor. Apertura por ...      Precios   \n",
       "20194  Índice de Precios al Consumidor. Apertura por ...      Precios   \n",
       "\n",
       "      serie_indice_inicio serie_indice_final serie_valores_cant  \\\n",
       "20190          2006-12-01         2013-12-01                 85   \n",
       "20191          2006-12-01         2013-12-01                 85   \n",
       "20192          2006-12-01         2013-12-01                 85   \n",
       "20193          2006-12-01         2013-12-01                 85   \n",
       "20194          2006-12-01         2013-12-01                 85   \n",
       "\n",
       "      serie_dias_no_cubiertos serie_actualizada serie_valor_ultimo  \\\n",
       "20190                    1633             False         166.840000   \n",
       "20191                    1633             False         161.040000   \n",
       "20192                    1633             False         161.740000   \n",
       "20193                    1633             False         137.591196   \n",
       "20194                    1633             False          99.567207   \n",
       "\n",
       "       serie_valor_anterior  serie_var_pct_anterior  \n",
       "20190            164.510000                0.014163  \n",
       "20191            159.290000                0.010986  \n",
       "20192            159.250000                0.015636  \n",
       "20193            138.411303               -0.005925  \n",
       "20194            100.025118               -0.004578  \n",
       "\n",
       "[5 rows x 24 columns]"
      ]
     },
     "execution_count": 15,
     "metadata": {},
     "output_type": "execute_result"
    }
   ],
   "source": [
    "series_metadata = pd.read_csv(METADATA_URL)\n",
    "series_metadata.tail(5)"
   ]
  },
  {
   "cell_type": "code",
   "execution_count": 16,
   "metadata": {
    "scrolled": true
   },
   "outputs": [
    {
     "data": {
      "text/plain": [
       "20195"
      ]
     },
     "execution_count": 16,
     "metadata": {},
     "output_type": "execute_result"
    }
   ],
   "source": [
    "series_metadata.serie_id.count()"
   ]
  },
  {
   "cell_type": "markdown",
   "metadata": {},
   "source": [
    "## Chequeo de todas las series \n",
    "\n",
    "Le pegamos al endpoint para todas las series y verificamos que la API devuelve una respuesta satisfactoria (status code 200). Contamos la cantidad de casos satisfactorios (True) y no (False)"
   ]
  },
  {
   "cell_type": "code",
   "execution_count": 17,
   "metadata": {},
   "outputs": [],
   "source": [
    "def api_series_head(serie_id):\n",
    "    return requests.head(ENDPOINT_URL, params={'ids': serie_id}).status_code == 200"
   ]
  },
  {
   "cell_type": "markdown",
   "metadata": {},
   "source": [
    "### Cantidad de respuestas válidas"
   ]
  },
  {
   "cell_type": "code",
   "execution_count": 19,
   "metadata": {
    "scrolled": false
   },
   "outputs": [
    {
     "data": {
      "text/plain": [
       "True    10\n",
       "Name: serie_id, dtype: int64"
      ]
     },
     "execution_count": 19,
     "metadata": {},
     "output_type": "execute_result"
    }
   ],
   "source": [
    "valid_responses = series_metadata.serie_id[:10].apply(api_series_head)\n",
    "valid_responses.value_counts()"
   ]
  },
  {
   "cell_type": "markdown",
   "metadata": {},
   "source": [
    "### En porcentajes"
   ]
  },
  {
   "cell_type": "code",
   "execution_count": 20,
   "metadata": {},
   "outputs": [
    {
     "data": {
      "text/plain": [
       "True    1.0\n",
       "Name: serie_id, dtype: float64"
      ]
     },
     "execution_count": 20,
     "metadata": {},
     "output_type": "execute_result"
    }
   ],
   "source": [
    "valid_responses.value_counts().apply(lambda x: x/len(valid_responses))"
   ]
  },
  {
   "cell_type": "markdown",
   "metadata": {},
   "source": [
    "## Chequeo de modos de representación"
   ]
  },
  {
   "cell_type": "code",
   "execution_count": 21,
   "metadata": {},
   "outputs": [],
   "source": [
    "def api_call(serie, limit=1000, **kwargs):\n",
    "    call_params = {'ids': serie, 'format': 'csv', 'limit': limit}\n",
    "    call_params.update(kwargs)\n",
    "    csv = StringIO(requests.get(ENDPOINT_URL, params=call_params).content.decode('utf8'))\n",
    "    api_csv = pd.read_csv(csv, parse_dates=['indice_tiempo'], index_col='indice_tiempo')\n",
    "\n",
    "    return api_csv\n",
    "\n",
    "def get_source_csv(serie):\n",
    "    response = requests.get(ENDPOINT_URL, params={'ids': serie, 'metadata': 'only'}).json()\n",
    "    distribution_url = response['meta'][1]['distribution']['downloadURL']\n",
    "    title = response['meta'][1]['field']['title']\n",
    "    orig_csv = pd.read_csv(distribution_url, parse_dates=['indice_tiempo'], index_col='indice_tiempo')\n",
    "\n",
    "    return orig_csv, title"
   ]
  },
  {
   "cell_type": "code",
   "execution_count": 24,
   "metadata": {
    "scrolled": true
   },
   "outputs": [
    {
     "data": {
      "text/plain": [
       "'125.1_PAA_1993_0_23'"
      ]
     },
     "execution_count": 24,
     "metadata": {},
     "output_type": "execute_result"
    }
   ],
   "source": [
    "serie = series_metadata.serie_id.sample(1)\n",
    "\n",
    "serie_idx = serie.index[0]\n",
    "serie = serie.values[0]\n",
    "serie"
   ]
  },
  {
   "cell_type": "markdown",
   "metadata": {},
   "source": [
    "### Serie original"
   ]
  },
  {
   "cell_type": "code",
   "execution_count": 25,
   "metadata": {
    "scrolled": true
   },
   "outputs": [],
   "source": [
    "orig_csv, title = get_source_csv(serie)"
   ]
  },
  {
   "cell_type": "markdown",
   "metadata": {},
   "source": [
    "### Serie de la API: valor original"
   ]
  },
  {
   "cell_type": "code",
   "execution_count": 26,
   "metadata": {},
   "outputs": [
    {
     "data": {
      "text/html": [
       "<div>\n",
       "<style scoped>\n",
       "    .dataframe tbody tr th:only-of-type {\n",
       "        vertical-align: middle;\n",
       "    }\n",
       "\n",
       "    .dataframe tbody tr th {\n",
       "        vertical-align: top;\n",
       "    }\n",
       "\n",
       "    .dataframe thead th {\n",
       "        text-align: right;\n",
       "    }\n",
       "</style>\n",
       "<table border=\"1\" class=\"dataframe\">\n",
       "  <thead>\n",
       "    <tr style=\"text-align: right;\">\n",
       "      <th></th>\n",
       "      <th>piedras_arenas_arcillas</th>\n",
       "    </tr>\n",
       "    <tr>\n",
       "      <th>indice_tiempo</th>\n",
       "      <th></th>\n",
       "    </tr>\n",
       "  </thead>\n",
       "  <tbody>\n",
       "    <tr>\n",
       "      <th>1993-01-01</th>\n",
       "      <td>100.000017</td>\n",
       "    </tr>\n",
       "  </tbody>\n",
       "</table>\n",
       "</div>"
      ],
      "text/plain": [
       "               piedras_arenas_arcillas\n",
       "indice_tiempo                         \n",
       "1993-01-01                  100.000017"
      ]
     },
     "execution_count": 26,
     "metadata": {},
     "output_type": "execute_result"
    }
   ],
   "source": [
    "api_csv = api_call(serie)\n",
    "\n",
    "api_csv.head(1)"
   ]
  },
  {
   "cell_type": "code",
   "execution_count": 27,
   "metadata": {
    "scrolled": true
   },
   "outputs": [
    {
     "data": {
      "text/plain": [
       "True    22\n",
       "dtype: int64"
      ]
     },
     "execution_count": 27,
     "metadata": {},
     "output_type": "execute_result"
    }
   ],
   "source": [
    "orig_csv = orig_csv[:len(api_csv)]\n",
    "equality_check = np.isclose(orig_csv[title], api_csv[title], equal_nan=True)\n",
    "equal_df = pd.Series(equality_check)\n",
    "\n",
    "equal_df.value_counts()"
   ]
  },
  {
   "cell_type": "markdown",
   "metadata": {},
   "source": [
    "### Cambio absoluto"
   ]
  },
  {
   "cell_type": "code",
   "execution_count": 28,
   "metadata": {},
   "outputs": [],
   "source": [
    "api_csv = api_call(serie, representation_mode='change')"
   ]
  },
  {
   "cell_type": "code",
   "execution_count": 29,
   "metadata": {},
   "outputs": [],
   "source": [
    "orig_csv_change, title = get_source_csv(serie)\n",
    "orig_csv_change[title] = orig_csv_change[title].diff(1)\n",
    "orig_csv_change = orig_csv_change[:len(api_csv)]"
   ]
  },
  {
   "cell_type": "code",
   "execution_count": 30,
   "metadata": {},
   "outputs": [
    {
     "data": {
      "text/plain": [
       "True    22\n",
       "dtype: int64"
      ]
     },
     "execution_count": 30,
     "metadata": {},
     "output_type": "execute_result"
    }
   ],
   "source": [
    "equality_check = np.isclose(orig_csv_change[title], api_csv[title], equal_nan=True)\n",
    "equal_df = pd.Series(equality_check)\n",
    "\n",
    "equal_df.value_counts()"
   ]
  },
  {
   "cell_type": "markdown",
   "metadata": {},
   "source": [
    "### Cambio porcentual"
   ]
  },
  {
   "cell_type": "code",
   "execution_count": 31,
   "metadata": {},
   "outputs": [],
   "source": [
    "api_csv = api_call(serie, representation_mode='percent_change')"
   ]
  },
  {
   "cell_type": "code",
   "execution_count": 32,
   "metadata": {},
   "outputs": [],
   "source": [
    "orig_csv_pct_change, title = get_source_csv(serie)\n",
    "orig_csv_pct_change[title] = orig_csv_pct_change[title].pct_change()\n",
    "orig_csv_pct_change = orig_csv_pct_change[:len(api_csv)]"
   ]
  },
  {
   "cell_type": "code",
   "execution_count": 33,
   "metadata": {
    "scrolled": true
   },
   "outputs": [
    {
     "data": {
      "text/plain": [
       "True    22\n",
       "dtype: int64"
      ]
     },
     "execution_count": 33,
     "metadata": {},
     "output_type": "execute_result"
    }
   ],
   "source": [
    "equality_check = np.isclose(orig_csv_pct_change[title], api_csv[title], equal_nan=True)\n",
    "equal_df = pd.Series(equality_check)\n",
    "\n",
    "equal_df.value_counts()"
   ]
  },
  {
   "cell_type": "markdown",
   "metadata": {},
   "source": [
    "### Colapsos de datos\n",
    "\n",
    "Aplico las agregaciones máximo y mínimos de la API, y también al CSV original con pandas. Comparo los resultados"
   ]
  },
  {
   "cell_type": "code",
   "execution_count": 34,
   "metadata": {},
   "outputs": [
    {
     "data": {
      "text/html": [
       "<div>\n",
       "<style scoped>\n",
       "    .dataframe tbody tr th:only-of-type {\n",
       "        vertical-align: middle;\n",
       "    }\n",
       "\n",
       "    .dataframe tbody tr th {\n",
       "        vertical-align: top;\n",
       "    }\n",
       "\n",
       "    .dataframe thead th {\n",
       "        text-align: right;\n",
       "    }\n",
       "</style>\n",
       "<table border=\"1\" class=\"dataframe\">\n",
       "  <thead>\n",
       "    <tr style=\"text-align: right;\">\n",
       "      <th></th>\n",
       "      <th>piedras_arenas_arcillas</th>\n",
       "      <th>api_max</th>\n",
       "    </tr>\n",
       "    <tr>\n",
       "      <th>indice_tiempo</th>\n",
       "      <th></th>\n",
       "      <th></th>\n",
       "    </tr>\n",
       "  </thead>\n",
       "  <tbody>\n",
       "    <tr>\n",
       "      <th>1993-01-01</th>\n",
       "      <td>100.000017</td>\n",
       "      <td>100.000017</td>\n",
       "    </tr>\n",
       "    <tr>\n",
       "      <th>1994-01-01</th>\n",
       "      <td>104.275875</td>\n",
       "      <td>104.275875</td>\n",
       "    </tr>\n",
       "    <tr>\n",
       "      <th>1995-01-01</th>\n",
       "      <td>102.986267</td>\n",
       "      <td>102.986267</td>\n",
       "    </tr>\n",
       "    <tr>\n",
       "      <th>1996-01-01</th>\n",
       "      <td>98.631408</td>\n",
       "      <td>98.631408</td>\n",
       "    </tr>\n",
       "    <tr>\n",
       "      <th>1997-01-01</th>\n",
       "      <td>99.960408</td>\n",
       "      <td>99.960408</td>\n",
       "    </tr>\n",
       "    <tr>\n",
       "      <th>1998-01-01</th>\n",
       "      <td>101.308650</td>\n",
       "      <td>101.308650</td>\n",
       "    </tr>\n",
       "    <tr>\n",
       "      <th>1999-01-01</th>\n",
       "      <td>99.722808</td>\n",
       "      <td>99.722808</td>\n",
       "    </tr>\n",
       "    <tr>\n",
       "      <th>2000-01-01</th>\n",
       "      <td>97.701800</td>\n",
       "      <td>97.701800</td>\n",
       "    </tr>\n",
       "    <tr>\n",
       "      <th>2001-01-01</th>\n",
       "      <td>97.312025</td>\n",
       "      <td>97.312025</td>\n",
       "    </tr>\n",
       "    <tr>\n",
       "      <th>2002-01-01</th>\n",
       "      <td>114.281650</td>\n",
       "      <td>114.281650</td>\n",
       "    </tr>\n",
       "    <tr>\n",
       "      <th>2003-01-01</th>\n",
       "      <td>157.335683</td>\n",
       "      <td>157.335683</td>\n",
       "    </tr>\n",
       "    <tr>\n",
       "      <th>2004-01-01</th>\n",
       "      <td>201.618500</td>\n",
       "      <td>201.618500</td>\n",
       "    </tr>\n",
       "    <tr>\n",
       "      <th>2005-01-01</th>\n",
       "      <td>232.844155</td>\n",
       "      <td>232.844155</td>\n",
       "    </tr>\n",
       "    <tr>\n",
       "      <th>2006-01-01</th>\n",
       "      <td>254.961390</td>\n",
       "      <td>254.961390</td>\n",
       "    </tr>\n",
       "    <tr>\n",
       "      <th>2007-01-01</th>\n",
       "      <td>291.763333</td>\n",
       "      <td>291.763333</td>\n",
       "    </tr>\n",
       "    <tr>\n",
       "      <th>2008-01-01</th>\n",
       "      <td>336.802500</td>\n",
       "      <td>336.802500</td>\n",
       "    </tr>\n",
       "    <tr>\n",
       "      <th>2009-01-01</th>\n",
       "      <td>367.613333</td>\n",
       "      <td>367.613333</td>\n",
       "    </tr>\n",
       "    <tr>\n",
       "      <th>2010-01-01</th>\n",
       "      <td>417.862500</td>\n",
       "      <td>417.862500</td>\n",
       "    </tr>\n",
       "    <tr>\n",
       "      <th>2011-01-01</th>\n",
       "      <td>486.776667</td>\n",
       "      <td>486.776667</td>\n",
       "    </tr>\n",
       "    <tr>\n",
       "      <th>2012-01-01</th>\n",
       "      <td>604.725000</td>\n",
       "      <td>604.725000</td>\n",
       "    </tr>\n",
       "    <tr>\n",
       "      <th>2013-01-01</th>\n",
       "      <td>721.960000</td>\n",
       "      <td>721.960000</td>\n",
       "    </tr>\n",
       "    <tr>\n",
       "      <th>2014-01-01</th>\n",
       "      <td>870.730000</td>\n",
       "      <td>870.730000</td>\n",
       "    </tr>\n",
       "  </tbody>\n",
       "</table>\n",
       "</div>"
      ],
      "text/plain": [
       "               piedras_arenas_arcillas     api_max\n",
       "indice_tiempo                                     \n",
       "1993-01-01                  100.000017  100.000017\n",
       "1994-01-01                  104.275875  104.275875\n",
       "1995-01-01                  102.986267  102.986267\n",
       "1996-01-01                   98.631408   98.631408\n",
       "1997-01-01                   99.960408   99.960408\n",
       "1998-01-01                  101.308650  101.308650\n",
       "1999-01-01                   99.722808   99.722808\n",
       "2000-01-01                   97.701800   97.701800\n",
       "2001-01-01                   97.312025   97.312025\n",
       "2002-01-01                  114.281650  114.281650\n",
       "2003-01-01                  157.335683  157.335683\n",
       "2004-01-01                  201.618500  201.618500\n",
       "2005-01-01                  232.844155  232.844155\n",
       "2006-01-01                  254.961390  254.961390\n",
       "2007-01-01                  291.763333  291.763333\n",
       "2008-01-01                  336.802500  336.802500\n",
       "2009-01-01                  367.613333  367.613333\n",
       "2010-01-01                  417.862500  417.862500\n",
       "2011-01-01                  486.776667  486.776667\n",
       "2012-01-01                  604.725000  604.725000\n",
       "2013-01-01                  721.960000  721.960000\n",
       "2014-01-01                  870.730000  870.730000"
      ]
     },
     "execution_count": 34,
     "metadata": {},
     "output_type": "execute_result"
    }
   ],
   "source": [
    "api_max = api_call(serie, collapse='year', collapse_aggregation='max')\n",
    "api_max['api_max'] = api_max[title]\n",
    "del api_max[title]\n",
    "api_call(serie).resample('AS').apply(max).join(api_max)"
   ]
  },
  {
   "cell_type": "code",
   "execution_count": 35,
   "metadata": {},
   "outputs": [
    {
     "data": {
      "text/html": [
       "<div>\n",
       "<style scoped>\n",
       "    .dataframe tbody tr th:only-of-type {\n",
       "        vertical-align: middle;\n",
       "    }\n",
       "\n",
       "    .dataframe tbody tr th {\n",
       "        vertical-align: top;\n",
       "    }\n",
       "\n",
       "    .dataframe thead th {\n",
       "        text-align: right;\n",
       "    }\n",
       "</style>\n",
       "<table border=\"1\" class=\"dataframe\">\n",
       "  <thead>\n",
       "    <tr style=\"text-align: right;\">\n",
       "      <th></th>\n",
       "      <th>piedras_arenas_arcillas</th>\n",
       "      <th>api_min</th>\n",
       "    </tr>\n",
       "    <tr>\n",
       "      <th>indice_tiempo</th>\n",
       "      <th></th>\n",
       "      <th></th>\n",
       "    </tr>\n",
       "  </thead>\n",
       "  <tbody>\n",
       "    <tr>\n",
       "      <th>1993-01-01</th>\n",
       "      <td>100.000017</td>\n",
       "      <td>100.000017</td>\n",
       "    </tr>\n",
       "    <tr>\n",
       "      <th>1994-01-01</th>\n",
       "      <td>104.275875</td>\n",
       "      <td>104.275875</td>\n",
       "    </tr>\n",
       "    <tr>\n",
       "      <th>1995-01-01</th>\n",
       "      <td>102.986267</td>\n",
       "      <td>102.986267</td>\n",
       "    </tr>\n",
       "    <tr>\n",
       "      <th>1996-01-01</th>\n",
       "      <td>98.631408</td>\n",
       "      <td>98.631408</td>\n",
       "    </tr>\n",
       "    <tr>\n",
       "      <th>1997-01-01</th>\n",
       "      <td>99.960408</td>\n",
       "      <td>99.960408</td>\n",
       "    </tr>\n",
       "    <tr>\n",
       "      <th>1998-01-01</th>\n",
       "      <td>101.308650</td>\n",
       "      <td>101.308650</td>\n",
       "    </tr>\n",
       "    <tr>\n",
       "      <th>1999-01-01</th>\n",
       "      <td>99.722808</td>\n",
       "      <td>99.722808</td>\n",
       "    </tr>\n",
       "    <tr>\n",
       "      <th>2000-01-01</th>\n",
       "      <td>97.701800</td>\n",
       "      <td>97.701800</td>\n",
       "    </tr>\n",
       "    <tr>\n",
       "      <th>2001-01-01</th>\n",
       "      <td>97.312025</td>\n",
       "      <td>97.312025</td>\n",
       "    </tr>\n",
       "    <tr>\n",
       "      <th>2002-01-01</th>\n",
       "      <td>114.281650</td>\n",
       "      <td>114.281650</td>\n",
       "    </tr>\n",
       "    <tr>\n",
       "      <th>2003-01-01</th>\n",
       "      <td>157.335683</td>\n",
       "      <td>157.335683</td>\n",
       "    </tr>\n",
       "    <tr>\n",
       "      <th>2004-01-01</th>\n",
       "      <td>201.618500</td>\n",
       "      <td>201.618500</td>\n",
       "    </tr>\n",
       "    <tr>\n",
       "      <th>2005-01-01</th>\n",
       "      <td>232.844155</td>\n",
       "      <td>232.844155</td>\n",
       "    </tr>\n",
       "    <tr>\n",
       "      <th>2006-01-01</th>\n",
       "      <td>254.961390</td>\n",
       "      <td>254.961390</td>\n",
       "    </tr>\n",
       "    <tr>\n",
       "      <th>2007-01-01</th>\n",
       "      <td>291.763333</td>\n",
       "      <td>291.763333</td>\n",
       "    </tr>\n",
       "    <tr>\n",
       "      <th>2008-01-01</th>\n",
       "      <td>336.802500</td>\n",
       "      <td>336.802500</td>\n",
       "    </tr>\n",
       "    <tr>\n",
       "      <th>2009-01-01</th>\n",
       "      <td>367.613333</td>\n",
       "      <td>367.613333</td>\n",
       "    </tr>\n",
       "    <tr>\n",
       "      <th>2010-01-01</th>\n",
       "      <td>417.862500</td>\n",
       "      <td>417.862500</td>\n",
       "    </tr>\n",
       "    <tr>\n",
       "      <th>2011-01-01</th>\n",
       "      <td>486.776667</td>\n",
       "      <td>486.776667</td>\n",
       "    </tr>\n",
       "    <tr>\n",
       "      <th>2012-01-01</th>\n",
       "      <td>604.725000</td>\n",
       "      <td>604.725000</td>\n",
       "    </tr>\n",
       "    <tr>\n",
       "      <th>2013-01-01</th>\n",
       "      <td>721.960000</td>\n",
       "      <td>721.960000</td>\n",
       "    </tr>\n",
       "    <tr>\n",
       "      <th>2014-01-01</th>\n",
       "      <td>870.730000</td>\n",
       "      <td>870.730000</td>\n",
       "    </tr>\n",
       "  </tbody>\n",
       "</table>\n",
       "</div>"
      ],
      "text/plain": [
       "               piedras_arenas_arcillas     api_min\n",
       "indice_tiempo                                     \n",
       "1993-01-01                  100.000017  100.000017\n",
       "1994-01-01                  104.275875  104.275875\n",
       "1995-01-01                  102.986267  102.986267\n",
       "1996-01-01                   98.631408   98.631408\n",
       "1997-01-01                   99.960408   99.960408\n",
       "1998-01-01                  101.308650  101.308650\n",
       "1999-01-01                   99.722808   99.722808\n",
       "2000-01-01                   97.701800   97.701800\n",
       "2001-01-01                   97.312025   97.312025\n",
       "2002-01-01                  114.281650  114.281650\n",
       "2003-01-01                  157.335683  157.335683\n",
       "2004-01-01                  201.618500  201.618500\n",
       "2005-01-01                  232.844155  232.844155\n",
       "2006-01-01                  254.961390  254.961390\n",
       "2007-01-01                  291.763333  291.763333\n",
       "2008-01-01                  336.802500  336.802500\n",
       "2009-01-01                  367.613333  367.613333\n",
       "2010-01-01                  417.862500  417.862500\n",
       "2011-01-01                  486.776667  486.776667\n",
       "2012-01-01                  604.725000  604.725000\n",
       "2013-01-01                  721.960000  721.960000\n",
       "2014-01-01                  870.730000  870.730000"
      ]
     },
     "execution_count": 35,
     "metadata": {},
     "output_type": "execute_result"
    }
   ],
   "source": [
    "api_max = api_call(serie, collapse='year', collapse_aggregation='min')\n",
    "api_max['api_min'] = api_max[title]\n",
    "del api_max[title]\n",
    "api_call(serie).resample('AS').apply(min).join(api_max)"
   ]
  },
  {
   "cell_type": "markdown",
   "metadata": {},
   "source": [
    "### Metadata"
   ]
  },
  {
   "cell_type": "code",
   "execution_count": 36,
   "metadata": {},
   "outputs": [
    {
     "data": {
      "text/plain": [
       "catalogo_id                                                               sspm\n",
       "dataset_id                                                                 125\n",
       "distribucion_id                                                          125.1\n",
       "serie_id                                                   125.1_PAA_1993_0_23\n",
       "indice_tiempo_frecuencia                                                 R/P1Y\n",
       "serie_titulo                                           piedras_arenas_arcillas\n",
       "serie_unidades                                                 Índice 1993=100\n",
       "serie_descripcion                      Piedras, arenas y arcillas índice anual\n",
       "distribucion_titulo          Índice de Precios Internos Básicos al por Mayo...\n",
       "distribucion_descripcion     Índice de Precios Internos Básicos al por Mayo...\n",
       "distribucion_url_descarga    http://infra.datos.gob.ar/catalog/sspm/dataset...\n",
       "dataset_responsable              Subsecretaría de Programación Macroeconómica.\n",
       "dataset_fuente               Instituto Nacional de Estadística y Censos (IN...\n",
       "dataset_titulo               Índice de Precios Internos Básicos al por Mayo...\n",
       "dataset_descripcion          Índice de Precios Internos Básicos al por Mayo...\n",
       "dataset_tema                                                           Precios\n",
       "serie_indice_inicio                                                 1993-01-01\n",
       "serie_indice_final                                                  2014-01-01\n",
       "serie_valores_cant                                                          22\n",
       "serie_dias_no_cubiertos                                                   1268\n",
       "serie_actualizada                                                        False\n",
       "serie_valor_ultimo                                                      870.73\n",
       "serie_valor_anterior                                                    721.96\n",
       "serie_var_pct_anterior                                                0.206064\n",
       "Name: 1982, dtype: object"
      ]
     },
     "execution_count": 36,
     "metadata": {},
     "output_type": "execute_result"
    }
   ],
   "source": [
    "orig_meta = series_metadata.iloc[serie_idx]\n",
    "orig_meta"
   ]
  },
  {
   "cell_type": "code",
   "execution_count": 37,
   "metadata": {},
   "outputs": [],
   "source": [
    "metadata = requests.get(ENDPOINT_URL, params={'ids': serie, 'metadata': 'full'}).json()"
   ]
  },
  {
   "cell_type": "code",
   "execution_count": 38,
   "metadata": {},
   "outputs": [
    {
     "data": {
      "text/plain": [
       "{'frequency': 'year', 'start_date': '1993-01-01', 'end_date': '2014-01-01'}"
      ]
     },
     "execution_count": 38,
     "metadata": {},
     "output_type": "execute_result"
    }
   ],
   "source": [
    "# Metadatos del índice de tiempo\n",
    "metadata['meta'][0]"
   ]
  },
  {
   "cell_type": "code",
   "execution_count": 39,
   "metadata": {
    "scrolled": true
   },
   "outputs": [
    {
     "data": {
      "text/plain": [
       "{'catalog': {'publisher': {'mbox': 'datoseconomicos@mecon.gov.ar',\n",
       "   'name': 'Subsecretaría de Programación Macroeconómica.'},\n",
       "  'license': 'Creative Commons Attribution 4.0',\n",
       "  'description': 'Catálogo de datos abiertos de la Subsecretaría de Programación Macroeconómica.',\n",
       "  'language': ['SPA'],\n",
       "  'superThemeTaxonomy': 'http://datos.gob.ar/superThemeTaxonomy.json',\n",
       "  'issued': '2017-09-28',\n",
       "  'rights': '2017-09-28',\n",
       "  'modified': '2017-09-28',\n",
       "  'spatial': 'ARG',\n",
       "  'title': 'Datos Programación Macroeconómica',\n",
       "  'identifier': 'sspm'},\n",
       " 'dataset': {'publisher': {'mbox': 'datoseconomicos@mecon.gov.ar',\n",
       "   'name': 'Subsecretaría de Programación Macroeconómica.'},\n",
       "  'landingPage': 'https://www.minhacienda.gob.ar/secretarias/politica-economica/programacion-macroeconomica/',\n",
       "  'keyword': ['Información Económica al Día', 'Precios'],\n",
       "  'superTheme': ['ECON'],\n",
       "  'title': 'Índice de Precios Internos Básicos al por Mayor (IPIB) hasta cuatro dígitos',\n",
       "  'language': ['SPA'],\n",
       "  'issued': '2017-09-28',\n",
       "  'temporal': '1993-01-01/2015-10-31',\n",
       "  'source': 'Instituto Nacional de Estadística y Censos (INDEC)',\n",
       "  'theme': ['precios'],\n",
       "  'accrualPeriodicity': 'R/P1M',\n",
       "  'spatial': 'ARG',\n",
       "  'identifier': '125',\n",
       "  'license': 'Creative Commons Attribution 4.0',\n",
       "  'contactPoint': {'fn': 'Subsecretaría de Programación Macroeconómica.'},\n",
       "  'accessLevel': 'ABIERTO',\n",
       "  'description': 'Índice de Precios Internos Básicos al por Mayor (IPIB) desagregado hasta cuatro dígitos (base 1993)'},\n",
       " 'distribution': {'accessURL': 'https://www.minhacienda.gob.ar/secretarias/politica-economica/programacion-macroeconomica/',\n",
       "  'description': 'Índice de Precios Internos Básicos al por Mayor (IPIB) desagregado hasta cuatro dígitos (base 1993): valores anuales',\n",
       "  'format': 'CSV',\n",
       "  'dataset_identifier': '125',\n",
       "  'issued': '2017-09-28',\n",
       "  'title': 'Índice de Precios Internos Básicos al por Mayor IProducto Interno Bruto a cuatro dígitos. Datos anuales. Base 1993',\n",
       "  'fileName': 'indice-precios-internos-basicos-al-por-mayor-desagregado-base-1993-anual.csv',\n",
       "  'downloadURL': 'http://infra.datos.gob.ar/catalog/sspm/dataset/125/distribution/125.1/download/indice-precios-internos-basicos-al-por-mayor-desagregado-base-1993-anual.csv',\n",
       "  'identifier': '125.1',\n",
       "  'scrapingFileURL': 'https://www.economia.gob.ar/download/infoeco/apendice4.xlsx'},\n",
       " 'field': {'distribution_identifier': '125.1',\n",
       "  'description': 'Piedras, arenas y arcillas índice anual',\n",
       "  'title': 'piedras_arenas_arcillas',\n",
       "  'dataset_identifier': '125',\n",
       "  'units': 'Índice 1993=100',\n",
       "  'type': 'number',\n",
       "  'id': '125.1_PAA_1993_0_23'}}"
      ]
     },
     "execution_count": 39,
     "metadata": {},
     "output_type": "execute_result"
    }
   ],
   "source": [
    "serie_meta = metadata['meta'][1]\n",
    "serie_meta"
   ]
  },
  {
   "cell_type": "markdown",
   "metadata": {},
   "source": [
    "Comprobamos que los metadatos de la API sean iguales a los originales"
   ]
  },
  {
   "cell_type": "code",
   "execution_count": 49,
   "metadata": {},
   "outputs": [],
   "source": [
    "def compare_metadata(serie_meta, original_meta, equivalent_dict_keys):\n",
    "    comparisons = []\n",
    "    for key, value in equivalent_dict_keys.items():\n",
    "        if isinstance(value, dict):\n",
    "            for api_key, original_key in value.items():\n",
    "                print(key, api_key, original_key)\n",
    "                comparison = serie_meta[key][api_key] == original_meta[original_key]\n",
    "                comparisons.append('{} {} == {}: {}'.format(key, api_key, original_key, comparison))\n",
    "    return comparisons\n",
    "    "
   ]
  },
  {
   "cell_type": "code",
   "execution_count": 50,
   "metadata": {},
   "outputs": [
    {
     "name": "stdout",
     "output_type": "stream",
     "text": [
      "catalog identifier catalogo_id\n",
      "dataset identifier dataset_id\n",
      "distribution identifier distribution_id\n"
     ]
    },
    {
     "ename": "KeyError",
     "evalue": "'distribution_id'",
     "output_type": "error",
     "traceback": [
      "\u001b[0;31m---------------------------------------------------------------------------\u001b[0m",
      "\u001b[0;31mTypeError\u001b[0m                                 Traceback (most recent call last)",
      "\u001b[0;32m~/.virtualenvs/api_datos/lib/python3.6/site-packages/pandas/core/indexes/base.py\u001b[0m in \u001b[0;36mget_value\u001b[0;34m(self, series, key)\u001b[0m\n\u001b[1;32m   2565\u001b[0m             \u001b[0;32mtry\u001b[0m\u001b[0;34m:\u001b[0m\u001b[0;34m\u001b[0m\u001b[0m\n\u001b[0;32m-> 2566\u001b[0;31m                 \u001b[0;32mreturn\u001b[0m \u001b[0mlibts\u001b[0m\u001b[0;34m.\u001b[0m\u001b[0mget_value_box\u001b[0m\u001b[0;34m(\u001b[0m\u001b[0ms\u001b[0m\u001b[0;34m,\u001b[0m \u001b[0mkey\u001b[0m\u001b[0;34m)\u001b[0m\u001b[0;34m\u001b[0m\u001b[0m\n\u001b[0m\u001b[1;32m   2567\u001b[0m             \u001b[0;32mexcept\u001b[0m \u001b[0mIndexError\u001b[0m\u001b[0;34m:\u001b[0m\u001b[0;34m\u001b[0m\u001b[0m\n",
      "\u001b[0;32mpandas/_libs/tslib.pyx\u001b[0m in \u001b[0;36mpandas._libs.tslib.get_value_box\u001b[0;34m()\u001b[0m\n",
      "\u001b[0;32mpandas/_libs/tslib.pyx\u001b[0m in \u001b[0;36mpandas._libs.tslib.get_value_box\u001b[0;34m()\u001b[0m\n",
      "\u001b[0;31mTypeError\u001b[0m: 'str' object cannot be interpreted as an integer",
      "\nDuring handling of the above exception, another exception occurred:\n",
      "\u001b[0;31mKeyError\u001b[0m                                  Traceback (most recent call last)",
      "\u001b[0;32m<ipython-input-50-0d9505e1b32c>\u001b[0m in \u001b[0;36m<module>\u001b[0;34m()\u001b[0m\n\u001b[1;32m     14\u001b[0m }\n\u001b[1;32m     15\u001b[0m \u001b[0;34m\u001b[0m\u001b[0m\n\u001b[0;32m---> 16\u001b[0;31m \u001b[0mcompare_metadata\u001b[0m\u001b[0;34m(\u001b[0m\u001b[0mserie_meta\u001b[0m\u001b[0;34m,\u001b[0m \u001b[0morig_meta\u001b[0m\u001b[0;34m,\u001b[0m \u001b[0mkeys\u001b[0m\u001b[0;34m)\u001b[0m\u001b[0;34m\u001b[0m\u001b[0m\n\u001b[0m",
      "\u001b[0;32m<ipython-input-49-00af36c940ca>\u001b[0m in \u001b[0;36mcompare_metadata\u001b[0;34m(serie_meta, original_meta, equivalent_dict_keys)\u001b[0m\n\u001b[1;32m      5\u001b[0m             \u001b[0;32mfor\u001b[0m \u001b[0mapi_key\u001b[0m\u001b[0;34m,\u001b[0m \u001b[0moriginal_key\u001b[0m \u001b[0;32min\u001b[0m \u001b[0mvalue\u001b[0m\u001b[0;34m.\u001b[0m\u001b[0mitems\u001b[0m\u001b[0;34m(\u001b[0m\u001b[0;34m)\u001b[0m\u001b[0;34m:\u001b[0m\u001b[0;34m\u001b[0m\u001b[0m\n\u001b[1;32m      6\u001b[0m                 \u001b[0mprint\u001b[0m\u001b[0;34m(\u001b[0m\u001b[0mkey\u001b[0m\u001b[0;34m,\u001b[0m \u001b[0mapi_key\u001b[0m\u001b[0;34m,\u001b[0m \u001b[0moriginal_key\u001b[0m\u001b[0;34m)\u001b[0m\u001b[0;34m\u001b[0m\u001b[0m\n\u001b[0;32m----> 7\u001b[0;31m                 \u001b[0mcomparison\u001b[0m \u001b[0;34m=\u001b[0m \u001b[0mserie_meta\u001b[0m\u001b[0;34m[\u001b[0m\u001b[0mkey\u001b[0m\u001b[0;34m]\u001b[0m\u001b[0;34m[\u001b[0m\u001b[0mapi_key\u001b[0m\u001b[0;34m]\u001b[0m \u001b[0;34m==\u001b[0m \u001b[0moriginal_meta\u001b[0m\u001b[0;34m[\u001b[0m\u001b[0moriginal_key\u001b[0m\u001b[0;34m]\u001b[0m\u001b[0;34m\u001b[0m\u001b[0m\n\u001b[0m\u001b[1;32m      8\u001b[0m                 \u001b[0mcomparisons\u001b[0m\u001b[0;34m.\u001b[0m\u001b[0mappend\u001b[0m\u001b[0;34m(\u001b[0m\u001b[0;34m'{} {} == {}: {}'\u001b[0m\u001b[0;34m.\u001b[0m\u001b[0mformat\u001b[0m\u001b[0;34m(\u001b[0m\u001b[0mkey\u001b[0m\u001b[0;34m,\u001b[0m \u001b[0mapi_key\u001b[0m\u001b[0;34m,\u001b[0m \u001b[0moriginal_key\u001b[0m\u001b[0;34m,\u001b[0m \u001b[0mcomparison\u001b[0m\u001b[0;34m)\u001b[0m\u001b[0;34m)\u001b[0m\u001b[0;34m\u001b[0m\u001b[0m\n\u001b[1;32m      9\u001b[0m     \u001b[0;32mreturn\u001b[0m \u001b[0mcomparisons\u001b[0m\u001b[0;34m\u001b[0m\u001b[0m\n",
      "\u001b[0;32m~/.virtualenvs/api_datos/lib/python3.6/site-packages/pandas/core/series.py\u001b[0m in \u001b[0;36m__getitem__\u001b[0;34m(self, key)\u001b[0m\n\u001b[1;32m    621\u001b[0m         \u001b[0mkey\u001b[0m \u001b[0;34m=\u001b[0m \u001b[0mcom\u001b[0m\u001b[0;34m.\u001b[0m\u001b[0m_apply_if_callable\u001b[0m\u001b[0;34m(\u001b[0m\u001b[0mkey\u001b[0m\u001b[0;34m,\u001b[0m \u001b[0mself\u001b[0m\u001b[0;34m)\u001b[0m\u001b[0;34m\u001b[0m\u001b[0m\n\u001b[1;32m    622\u001b[0m         \u001b[0;32mtry\u001b[0m\u001b[0;34m:\u001b[0m\u001b[0;34m\u001b[0m\u001b[0m\n\u001b[0;32m--> 623\u001b[0;31m             \u001b[0mresult\u001b[0m \u001b[0;34m=\u001b[0m \u001b[0mself\u001b[0m\u001b[0;34m.\u001b[0m\u001b[0mindex\u001b[0m\u001b[0;34m.\u001b[0m\u001b[0mget_value\u001b[0m\u001b[0;34m(\u001b[0m\u001b[0mself\u001b[0m\u001b[0;34m,\u001b[0m \u001b[0mkey\u001b[0m\u001b[0;34m)\u001b[0m\u001b[0;34m\u001b[0m\u001b[0m\n\u001b[0m\u001b[1;32m    624\u001b[0m \u001b[0;34m\u001b[0m\u001b[0m\n\u001b[1;32m    625\u001b[0m             \u001b[0;32mif\u001b[0m \u001b[0;32mnot\u001b[0m \u001b[0mis_scalar\u001b[0m\u001b[0;34m(\u001b[0m\u001b[0mresult\u001b[0m\u001b[0;34m)\u001b[0m\u001b[0;34m:\u001b[0m\u001b[0;34m\u001b[0m\u001b[0m\n",
      "\u001b[0;32m~/.virtualenvs/api_datos/lib/python3.6/site-packages/pandas/core/indexes/base.py\u001b[0m in \u001b[0;36mget_value\u001b[0;34m(self, series, key)\u001b[0m\n\u001b[1;32m   2572\u001b[0m                     \u001b[0;32mraise\u001b[0m \u001b[0mInvalidIndexError\u001b[0m\u001b[0;34m(\u001b[0m\u001b[0mkey\u001b[0m\u001b[0;34m)\u001b[0m\u001b[0;34m\u001b[0m\u001b[0m\n\u001b[1;32m   2573\u001b[0m                 \u001b[0;32melse\u001b[0m\u001b[0;34m:\u001b[0m\u001b[0;34m\u001b[0m\u001b[0m\n\u001b[0;32m-> 2574\u001b[0;31m                     \u001b[0;32mraise\u001b[0m \u001b[0me1\u001b[0m\u001b[0;34m\u001b[0m\u001b[0m\n\u001b[0m\u001b[1;32m   2575\u001b[0m             \u001b[0;32mexcept\u001b[0m \u001b[0mException\u001b[0m\u001b[0;34m:\u001b[0m  \u001b[0;31m# pragma: no cover\u001b[0m\u001b[0;34m\u001b[0m\u001b[0m\n\u001b[1;32m   2576\u001b[0m                 \u001b[0;32mraise\u001b[0m \u001b[0me1\u001b[0m\u001b[0;34m\u001b[0m\u001b[0m\n",
      "\u001b[0;32m~/.virtualenvs/api_datos/lib/python3.6/site-packages/pandas/core/indexes/base.py\u001b[0m in \u001b[0;36mget_value\u001b[0;34m(self, series, key)\u001b[0m\n\u001b[1;32m   2558\u001b[0m         \u001b[0;32mtry\u001b[0m\u001b[0;34m:\u001b[0m\u001b[0;34m\u001b[0m\u001b[0m\n\u001b[1;32m   2559\u001b[0m             return self._engine.get_value(s, k,\n\u001b[0;32m-> 2560\u001b[0;31m                                           tz=getattr(series.dtype, 'tz', None))\n\u001b[0m\u001b[1;32m   2561\u001b[0m         \u001b[0;32mexcept\u001b[0m \u001b[0mKeyError\u001b[0m \u001b[0;32mas\u001b[0m \u001b[0me1\u001b[0m\u001b[0;34m:\u001b[0m\u001b[0;34m\u001b[0m\u001b[0m\n\u001b[1;32m   2562\u001b[0m             \u001b[0;32mif\u001b[0m \u001b[0mlen\u001b[0m\u001b[0;34m(\u001b[0m\u001b[0mself\u001b[0m\u001b[0;34m)\u001b[0m \u001b[0;34m>\u001b[0m \u001b[0;36m0\u001b[0m \u001b[0;32mand\u001b[0m \u001b[0mself\u001b[0m\u001b[0;34m.\u001b[0m\u001b[0minferred_type\u001b[0m \u001b[0;32min\u001b[0m \u001b[0;34m[\u001b[0m\u001b[0;34m'integer'\u001b[0m\u001b[0;34m,\u001b[0m \u001b[0;34m'boolean'\u001b[0m\u001b[0;34m]\u001b[0m\u001b[0;34m:\u001b[0m\u001b[0;34m\u001b[0m\u001b[0m\n",
      "\u001b[0;32mpandas/_libs/index.pyx\u001b[0m in \u001b[0;36mpandas._libs.index.IndexEngine.get_value\u001b[0;34m()\u001b[0m\n",
      "\u001b[0;32mpandas/_libs/index.pyx\u001b[0m in \u001b[0;36mpandas._libs.index.IndexEngine.get_value\u001b[0;34m()\u001b[0m\n",
      "\u001b[0;32mpandas/_libs/index.pyx\u001b[0m in \u001b[0;36mpandas._libs.index.IndexEngine.get_loc\u001b[0;34m()\u001b[0m\n",
      "\u001b[0;32mpandas/_libs/hashtable_class_helper.pxi\u001b[0m in \u001b[0;36mpandas._libs.hashtable.PyObjectHashTable.get_item\u001b[0;34m()\u001b[0m\n",
      "\u001b[0;32mpandas/_libs/hashtable_class_helper.pxi\u001b[0m in \u001b[0;36mpandas._libs.hashtable.PyObjectHashTable.get_item\u001b[0;34m()\u001b[0m\n",
      "\u001b[0;31mKeyError\u001b[0m: 'distribution_id'"
     ]
    }
   ],
   "source": [
    "keys = {\n",
    "    'catalog': {\n",
    "        'identifier': 'catalogo_id',\n",
    "    },\n",
    "    'dataset': {\n",
    "        'identifier': 'dataset_id',\n",
    "    },\n",
    "    'distribution': {\n",
    "        'identifier': 'distribution_id',\n",
    "    },\n",
    "    'field': {\n",
    "        'id': 'serie_id',\n",
    "    },\n",
    "}\n",
    "\n",
    "compare_metadata(serie_meta, orig_meta, keys)"
   ]
  },
  {
   "cell_type": "code",
   "execution_count": null,
   "metadata": {},
   "outputs": [],
   "source": [
    "serie_meta['catalog']['identifier'] == orig_meta['catalogo_id']"
   ]
  },
  {
   "cell_type": "code",
   "execution_count": null,
   "metadata": {},
   "outputs": [],
   "source": [
    "serie_meta['dataset']['identifier'] == str(orig_meta['dataset_id'])"
   ]
  },
  {
   "cell_type": "code",
   "execution_count": null,
   "metadata": {},
   "outputs": [],
   "source": [
    "serie_meta['distribution']['identifier'] == str(orig_meta['distribucion_id'])"
   ]
  },
  {
   "cell_type": "code",
   "execution_count": null,
   "metadata": {},
   "outputs": [],
   "source": [
    "serie_meta['field']['id'] == str(orig_meta['serie_id'])"
   ]
  }
 ],
 "metadata": {
  "kernelspec": {
   "display_name": "Python 3",
   "language": "python",
   "name": "python3"
  },
  "language_info": {
   "codemirror_mode": {
    "name": "ipython",
    "version": 3
   },
   "file_extension": ".py",
   "mimetype": "text/x-python",
   "name": "python",
   "nbconvert_exporter": "python",
   "pygments_lexer": "ipython3",
   "version": "3.6.5"
  }
 },
 "nbformat": 4,
 "nbformat_minor": 2
}
